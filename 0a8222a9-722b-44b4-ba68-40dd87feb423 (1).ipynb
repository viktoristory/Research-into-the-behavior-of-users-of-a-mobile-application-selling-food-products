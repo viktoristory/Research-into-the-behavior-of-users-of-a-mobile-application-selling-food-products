{
 "cells": [
  {
   "cell_type": "markdown",
   "metadata": {},
   "source": [
    "<b>Изучение поведения пользователей приложения по продаже продуктов питания</b>"
   ]
  },
  {
   "cell_type": "markdown",
   "metadata": {},
   "source": [
    "Целью исследования является изучение поведения пользователей для того, чтобы выявить, на каких шагах пользователи \"отваливаются\", а также исследовать необходимость изменения шрифта на основании проведенного A/A/B-тестирования.\n",
    "\n",
    "Необходимо разобраться, как ведут себя пользователи мобильного приложения по продаже продуктов питания. \n",
    "\n",
    "Для этого мы сначала изучим воронку продаж, чтобы понять каким путем и в каком количестве пользователи доходят до покупки.\n",
    "\n",
    "После этого исследуем результаты A/A/B-эксперимента по изменению шрифта во всем приложении. Пользователей разбили на 3 группы: 2 контрольные со старыми шрифтами и одну экспериментальную — с новыми. Выясним, какой шрифт лучше.\n",
    "\n",
    "**Описание данных:**\n",
    "\n",
    "Каждая запись в логе — это действие пользователя, или событие. \n",
    "- `EventName` — название события;\n",
    "- `DeviceIDHash` — уникальный идентификатор пользователя;\n",
    "- `EventTimestamp` — время события;\n",
    "- `ExpId` — номер эксперимента: 246 и 247 — контрольные группы, а 248 — экспериментальная."
   ]
  },
  {
   "cell_type": "markdown",
   "metadata": {},
   "source": [
    "Загрузим необходимые библиотеки:"
   ]
  },
  {
   "cell_type": "code",
   "execution_count": 1,
   "metadata": {},
   "outputs": [],
   "source": [
    "import pandas as pd\n",
    "import matplotlib.pyplot as plt\n",
    "import seaborn as sns\n",
    "from scipy import stats as st\n",
    "import numpy as np\n",
    "import math as mth"
   ]
  },
  {
   "cell_type": "markdown",
   "metadata": {},
   "source": [
    "### Откроем файл с данными и изучим общую информацию"
   ]
  },
  {
   "cell_type": "code",
   "execution_count": 2,
   "metadata": {},
   "outputs": [
    {
     "data": {
      "text/html": [
       "<div>\n",
       "<style scoped>\n",
       "    .dataframe tbody tr th:only-of-type {\n",
       "        vertical-align: middle;\n",
       "    }\n",
       "\n",
       "    .dataframe tbody tr th {\n",
       "        vertical-align: top;\n",
       "    }\n",
       "\n",
       "    .dataframe thead th {\n",
       "        text-align: right;\n",
       "    }\n",
       "</style>\n",
       "<table border=\"1\" class=\"dataframe\">\n",
       "  <thead>\n",
       "    <tr style=\"text-align: right;\">\n",
       "      <th></th>\n",
       "      <th>EventName</th>\n",
       "      <th>DeviceIDHash</th>\n",
       "      <th>EventTimestamp</th>\n",
       "      <th>ExpId</th>\n",
       "    </tr>\n",
       "  </thead>\n",
       "  <tbody>\n",
       "    <tr>\n",
       "      <th>0</th>\n",
       "      <td>MainScreenAppear</td>\n",
       "      <td>4575588528974610257</td>\n",
       "      <td>1564029816</td>\n",
       "      <td>246</td>\n",
       "    </tr>\n",
       "    <tr>\n",
       "      <th>1</th>\n",
       "      <td>MainScreenAppear</td>\n",
       "      <td>7416695313311560658</td>\n",
       "      <td>1564053102</td>\n",
       "      <td>246</td>\n",
       "    </tr>\n",
       "    <tr>\n",
       "      <th>2</th>\n",
       "      <td>PaymentScreenSuccessful</td>\n",
       "      <td>3518123091307005509</td>\n",
       "      <td>1564054127</td>\n",
       "      <td>248</td>\n",
       "    </tr>\n",
       "    <tr>\n",
       "      <th>3</th>\n",
       "      <td>CartScreenAppear</td>\n",
       "      <td>3518123091307005509</td>\n",
       "      <td>1564054127</td>\n",
       "      <td>248</td>\n",
       "    </tr>\n",
       "    <tr>\n",
       "      <th>4</th>\n",
       "      <td>PaymentScreenSuccessful</td>\n",
       "      <td>6217807653094995999</td>\n",
       "      <td>1564055322</td>\n",
       "      <td>248</td>\n",
       "    </tr>\n",
       "    <tr>\n",
       "      <th>5</th>\n",
       "      <td>CartScreenAppear</td>\n",
       "      <td>6217807653094995999</td>\n",
       "      <td>1564055323</td>\n",
       "      <td>248</td>\n",
       "    </tr>\n",
       "    <tr>\n",
       "      <th>6</th>\n",
       "      <td>OffersScreenAppear</td>\n",
       "      <td>8351860793733343758</td>\n",
       "      <td>1564066242</td>\n",
       "      <td>246</td>\n",
       "    </tr>\n",
       "    <tr>\n",
       "      <th>7</th>\n",
       "      <td>MainScreenAppear</td>\n",
       "      <td>5682100281902512875</td>\n",
       "      <td>1564085677</td>\n",
       "      <td>246</td>\n",
       "    </tr>\n",
       "    <tr>\n",
       "      <th>8</th>\n",
       "      <td>MainScreenAppear</td>\n",
       "      <td>1850981295691852772</td>\n",
       "      <td>1564086702</td>\n",
       "      <td>247</td>\n",
       "    </tr>\n",
       "    <tr>\n",
       "      <th>9</th>\n",
       "      <td>MainScreenAppear</td>\n",
       "      <td>5407636962369102641</td>\n",
       "      <td>1564112112</td>\n",
       "      <td>246</td>\n",
       "    </tr>\n",
       "  </tbody>\n",
       "</table>\n",
       "</div>"
      ],
      "text/plain": [
       "                 EventName         DeviceIDHash  EventTimestamp  ExpId\n",
       "0         MainScreenAppear  4575588528974610257      1564029816    246\n",
       "1         MainScreenAppear  7416695313311560658      1564053102    246\n",
       "2  PaymentScreenSuccessful  3518123091307005509      1564054127    248\n",
       "3         CartScreenAppear  3518123091307005509      1564054127    248\n",
       "4  PaymentScreenSuccessful  6217807653094995999      1564055322    248\n",
       "5         CartScreenAppear  6217807653094995999      1564055323    248\n",
       "6       OffersScreenAppear  8351860793733343758      1564066242    246\n",
       "7         MainScreenAppear  5682100281902512875      1564085677    246\n",
       "8         MainScreenAppear  1850981295691852772      1564086702    247\n",
       "9         MainScreenAppear  5407636962369102641      1564112112    246"
      ]
     },
     "execution_count": 2,
     "metadata": {},
     "output_type": "execute_result"
    }
   ],
   "source": [
    "data = pd.read_csv('/datasets/logs_exp.csv', sep = \"\\s+\")\n",
    "data.head(10)"
   ]
  },
  {
   "cell_type": "markdown",
   "metadata": {},
   "source": [
    "### Подготовим данные"
   ]
  },
  {
   "cell_type": "markdown",
   "metadata": {},
   "source": [
    "Переведем названия столбцов в нижний змеиный регистр, чтобы было красиво и понятно:"
   ]
  },
  {
   "cell_type": "code",
   "execution_count": 54,
   "metadata": {},
   "outputs": [
    {
     "data": {
      "text/html": [
       "<div>\n",
       "<style scoped>\n",
       "    .dataframe tbody tr th:only-of-type {\n",
       "        vertical-align: middle;\n",
       "    }\n",
       "\n",
       "    .dataframe tbody tr th {\n",
       "        vertical-align: top;\n",
       "    }\n",
       "\n",
       "    .dataframe thead th {\n",
       "        text-align: right;\n",
       "    }\n",
       "</style>\n",
       "<table border=\"1\" class=\"dataframe\">\n",
       "  <thead>\n",
       "    <tr style=\"text-align: right;\">\n",
       "      <th></th>\n",
       "      <th>event_name</th>\n",
       "      <th>device_id_hash</th>\n",
       "      <th>event_ts</th>\n",
       "      <th>exp_id</th>\n",
       "      <th>event_date</th>\n",
       "    </tr>\n",
       "  </thead>\n",
       "  <tbody>\n",
       "    <tr>\n",
       "      <th>0</th>\n",
       "      <td>MainScreenAppear</td>\n",
       "      <td>4575588528974610257</td>\n",
       "      <td>2019-07-25 04:43:36</td>\n",
       "      <td>246</td>\n",
       "      <td>2019-07-25</td>\n",
       "    </tr>\n",
       "    <tr>\n",
       "      <th>1</th>\n",
       "      <td>MainScreenAppear</td>\n",
       "      <td>7416695313311560658</td>\n",
       "      <td>2019-07-25 11:11:42</td>\n",
       "      <td>246</td>\n",
       "      <td>2019-07-25</td>\n",
       "    </tr>\n",
       "    <tr>\n",
       "      <th>2</th>\n",
       "      <td>PaymentScreenSuccessful</td>\n",
       "      <td>3518123091307005509</td>\n",
       "      <td>2019-07-25 11:28:47</td>\n",
       "      <td>248</td>\n",
       "      <td>2019-07-25</td>\n",
       "    </tr>\n",
       "    <tr>\n",
       "      <th>3</th>\n",
       "      <td>CartScreenAppear</td>\n",
       "      <td>3518123091307005509</td>\n",
       "      <td>2019-07-25 11:28:47</td>\n",
       "      <td>248</td>\n",
       "      <td>2019-07-25</td>\n",
       "    </tr>\n",
       "    <tr>\n",
       "      <th>4</th>\n",
       "      <td>PaymentScreenSuccessful</td>\n",
       "      <td>6217807653094995999</td>\n",
       "      <td>2019-07-25 11:48:42</td>\n",
       "      <td>248</td>\n",
       "      <td>2019-07-25</td>\n",
       "    </tr>\n",
       "  </tbody>\n",
       "</table>\n",
       "</div>"
      ],
      "text/plain": [
       "                event_name       device_id_hash            event_ts  exp_id  \\\n",
       "0         MainScreenAppear  4575588528974610257 2019-07-25 04:43:36     246   \n",
       "1         MainScreenAppear  7416695313311560658 2019-07-25 11:11:42     246   \n",
       "2  PaymentScreenSuccessful  3518123091307005509 2019-07-25 11:28:47     248   \n",
       "3         CartScreenAppear  3518123091307005509 2019-07-25 11:28:47     248   \n",
       "4  PaymentScreenSuccessful  6217807653094995999 2019-07-25 11:48:42     248   \n",
       "\n",
       "   event_date  \n",
       "0  2019-07-25  \n",
       "1  2019-07-25  \n",
       "2  2019-07-25  \n",
       "3  2019-07-25  \n",
       "4  2019-07-25  "
      ]
     },
     "execution_count": 54,
     "metadata": {},
     "output_type": "execute_result"
    }
   ],
   "source": [
    "data.columns = data.columns.str.lower()\n",
    "data = (data\n",
    "        .rename(columns={'eventname':'event_name', 'deviceidhash':'device_id_hash', 'eventtimestamp': 'event_ts', 'expid': 'exp_id'})\n",
    "       )\n",
    "data.head()"
   ]
  },
  {
   "cell_type": "markdown",
   "metadata": {},
   "source": [
    "Проверим строки на явные дубликаты:"
   ]
  },
  {
   "cell_type": "code",
   "execution_count": 4,
   "metadata": {},
   "outputs": [
    {
     "data": {
      "text/plain": [
       "413"
      ]
     },
     "execution_count": 4,
     "metadata": {},
     "output_type": "execute_result"
    }
   ],
   "source": [
    "data.duplicated().sum()"
   ]
  },
  {
   "cell_type": "markdown",
   "metadata": {},
   "source": [
    "Выявили 413 абсолютных дубликата. Их необходимо удалить."
   ]
  },
  {
   "cell_type": "code",
   "execution_count": 5,
   "metadata": {},
   "outputs": [
    {
     "data": {
      "text/plain": [
       "0"
      ]
     },
     "execution_count": 5,
     "metadata": {},
     "output_type": "execute_result"
    }
   ],
   "source": [
    "data = data.drop_duplicates()\n",
    "data.duplicated().sum()"
   ]
  },
  {
   "cell_type": "markdown",
   "metadata": {},
   "source": [
    "Проверим данные на отсутствующие значения:"
   ]
  },
  {
   "cell_type": "code",
   "execution_count": 6,
   "metadata": {},
   "outputs": [
    {
     "data": {
      "text/plain": [
       "event_name        0\n",
       "device_id_hash    0\n",
       "event_ts          0\n",
       "exp_id            0\n",
       "dtype: int64"
      ]
     },
     "execution_count": 6,
     "metadata": {},
     "output_type": "execute_result"
    }
   ],
   "source": [
    "data.isna().sum()"
   ]
  },
  {
   "cell_type": "code",
   "execution_count": 7,
   "metadata": {},
   "outputs": [
    {
     "name": "stdout",
     "output_type": "stream",
     "text": [
      "<class 'pandas.core.frame.DataFrame'>\n",
      "Int64Index: 243713 entries, 0 to 244125\n",
      "Data columns (total 4 columns):\n",
      " #   Column          Non-Null Count   Dtype \n",
      "---  ------          --------------   ----- \n",
      " 0   event_name      243713 non-null  object\n",
      " 1   device_id_hash  243713 non-null  int64 \n",
      " 2   event_ts        243713 non-null  int64 \n",
      " 3   exp_id          243713 non-null  int64 \n",
      "dtypes: int64(3), object(1)\n",
      "memory usage: 9.3+ MB\n"
     ]
    }
   ],
   "source": [
    "data.info()"
   ]
  },
  {
   "cell_type": "markdown",
   "metadata": {},
   "source": [
    "Изменим тип данных в столбце с датой и временем:"
   ]
  },
  {
   "cell_type": "code",
   "execution_count": 8,
   "metadata": {},
   "outputs": [],
   "source": [
    "data['event_ts'] = pd.to_datetime(data['event_ts'], unit='s')"
   ]
  },
  {
   "cell_type": "code",
   "execution_count": 9,
   "metadata": {},
   "outputs": [
    {
     "name": "stdout",
     "output_type": "stream",
     "text": [
      "<class 'pandas.core.frame.DataFrame'>\n",
      "Int64Index: 243713 entries, 0 to 244125\n",
      "Data columns (total 4 columns):\n",
      " #   Column          Non-Null Count   Dtype         \n",
      "---  ------          --------------   -----         \n",
      " 0   event_name      243713 non-null  object        \n",
      " 1   device_id_hash  243713 non-null  int64         \n",
      " 2   event_ts        243713 non-null  datetime64[ns]\n",
      " 3   exp_id          243713 non-null  int64         \n",
      "dtypes: datetime64[ns](1), int64(2), object(1)\n",
      "memory usage: 9.3+ MB\n"
     ]
    }
   ],
   "source": [
    "data.info()"
   ]
  },
  {
   "cell_type": "code",
   "execution_count": 10,
   "metadata": {},
   "outputs": [
    {
     "data": {
      "text/html": [
       "<div>\n",
       "<style scoped>\n",
       "    .dataframe tbody tr th:only-of-type {\n",
       "        vertical-align: middle;\n",
       "    }\n",
       "\n",
       "    .dataframe tbody tr th {\n",
       "        vertical-align: top;\n",
       "    }\n",
       "\n",
       "    .dataframe thead th {\n",
       "        text-align: right;\n",
       "    }\n",
       "</style>\n",
       "<table border=\"1\" class=\"dataframe\">\n",
       "  <thead>\n",
       "    <tr style=\"text-align: right;\">\n",
       "      <th></th>\n",
       "      <th>event_name</th>\n",
       "      <th>device_id_hash</th>\n",
       "      <th>event_ts</th>\n",
       "      <th>exp_id</th>\n",
       "    </tr>\n",
       "  </thead>\n",
       "  <tbody>\n",
       "    <tr>\n",
       "      <th>0</th>\n",
       "      <td>MainScreenAppear</td>\n",
       "      <td>4575588528974610257</td>\n",
       "      <td>2019-07-25 04:43:36</td>\n",
       "      <td>246</td>\n",
       "    </tr>\n",
       "    <tr>\n",
       "      <th>1</th>\n",
       "      <td>MainScreenAppear</td>\n",
       "      <td>7416695313311560658</td>\n",
       "      <td>2019-07-25 11:11:42</td>\n",
       "      <td>246</td>\n",
       "    </tr>\n",
       "    <tr>\n",
       "      <th>2</th>\n",
       "      <td>PaymentScreenSuccessful</td>\n",
       "      <td>3518123091307005509</td>\n",
       "      <td>2019-07-25 11:28:47</td>\n",
       "      <td>248</td>\n",
       "    </tr>\n",
       "    <tr>\n",
       "      <th>3</th>\n",
       "      <td>CartScreenAppear</td>\n",
       "      <td>3518123091307005509</td>\n",
       "      <td>2019-07-25 11:28:47</td>\n",
       "      <td>248</td>\n",
       "    </tr>\n",
       "    <tr>\n",
       "      <th>4</th>\n",
       "      <td>PaymentScreenSuccessful</td>\n",
       "      <td>6217807653094995999</td>\n",
       "      <td>2019-07-25 11:48:42</td>\n",
       "      <td>248</td>\n",
       "    </tr>\n",
       "  </tbody>\n",
       "</table>\n",
       "</div>"
      ],
      "text/plain": [
       "                event_name       device_id_hash            event_ts  exp_id\n",
       "0         MainScreenAppear  4575588528974610257 2019-07-25 04:43:36     246\n",
       "1         MainScreenAppear  7416695313311560658 2019-07-25 11:11:42     246\n",
       "2  PaymentScreenSuccessful  3518123091307005509 2019-07-25 11:28:47     248\n",
       "3         CartScreenAppear  3518123091307005509 2019-07-25 11:28:47     248\n",
       "4  PaymentScreenSuccessful  6217807653094995999 2019-07-25 11:48:42     248"
      ]
     },
     "execution_count": 10,
     "metadata": {},
     "output_type": "execute_result"
    }
   ],
   "source": [
    "data.head()"
   ]
  },
  {
   "cell_type": "markdown",
   "metadata": {},
   "source": [
    "Добавим столбец с датой:"
   ]
  },
  {
   "cell_type": "code",
   "execution_count": 11,
   "metadata": {},
   "outputs": [],
   "source": [
    "data['event_date'] = data['event_ts'].dt.date"
   ]
  },
  {
   "cell_type": "code",
   "execution_count": 55,
   "metadata": {},
   "outputs": [
    {
     "data": {
      "text/html": [
       "<div>\n",
       "<style scoped>\n",
       "    .dataframe tbody tr th:only-of-type {\n",
       "        vertical-align: middle;\n",
       "    }\n",
       "\n",
       "    .dataframe tbody tr th {\n",
       "        vertical-align: top;\n",
       "    }\n",
       "\n",
       "    .dataframe thead th {\n",
       "        text-align: right;\n",
       "    }\n",
       "</style>\n",
       "<table border=\"1\" class=\"dataframe\">\n",
       "  <thead>\n",
       "    <tr style=\"text-align: right;\">\n",
       "      <th></th>\n",
       "      <th>event_name</th>\n",
       "      <th>device_id_hash</th>\n",
       "      <th>event_ts</th>\n",
       "      <th>exp_id</th>\n",
       "      <th>event_date</th>\n",
       "    </tr>\n",
       "  </thead>\n",
       "  <tbody>\n",
       "    <tr>\n",
       "      <th>0</th>\n",
       "      <td>MainScreenAppear</td>\n",
       "      <td>4575588528974610257</td>\n",
       "      <td>2019-07-25 04:43:36</td>\n",
       "      <td>246</td>\n",
       "      <td>2019-07-25</td>\n",
       "    </tr>\n",
       "    <tr>\n",
       "      <th>1</th>\n",
       "      <td>MainScreenAppear</td>\n",
       "      <td>7416695313311560658</td>\n",
       "      <td>2019-07-25 11:11:42</td>\n",
       "      <td>246</td>\n",
       "      <td>2019-07-25</td>\n",
       "    </tr>\n",
       "    <tr>\n",
       "      <th>2</th>\n",
       "      <td>PaymentScreenSuccessful</td>\n",
       "      <td>3518123091307005509</td>\n",
       "      <td>2019-07-25 11:28:47</td>\n",
       "      <td>248</td>\n",
       "      <td>2019-07-25</td>\n",
       "    </tr>\n",
       "    <tr>\n",
       "      <th>3</th>\n",
       "      <td>CartScreenAppear</td>\n",
       "      <td>3518123091307005509</td>\n",
       "      <td>2019-07-25 11:28:47</td>\n",
       "      <td>248</td>\n",
       "      <td>2019-07-25</td>\n",
       "    </tr>\n",
       "    <tr>\n",
       "      <th>4</th>\n",
       "      <td>PaymentScreenSuccessful</td>\n",
       "      <td>6217807653094995999</td>\n",
       "      <td>2019-07-25 11:48:42</td>\n",
       "      <td>248</td>\n",
       "      <td>2019-07-25</td>\n",
       "    </tr>\n",
       "  </tbody>\n",
       "</table>\n",
       "</div>"
      ],
      "text/plain": [
       "                event_name       device_id_hash            event_ts  exp_id  \\\n",
       "0         MainScreenAppear  4575588528974610257 2019-07-25 04:43:36     246   \n",
       "1         MainScreenAppear  7416695313311560658 2019-07-25 11:11:42     246   \n",
       "2  PaymentScreenSuccessful  3518123091307005509 2019-07-25 11:28:47     248   \n",
       "3         CartScreenAppear  3518123091307005509 2019-07-25 11:28:47     248   \n",
       "4  PaymentScreenSuccessful  6217807653094995999 2019-07-25 11:48:42     248   \n",
       "\n",
       "   event_date  \n",
       "0  2019-07-25  \n",
       "1  2019-07-25  \n",
       "2  2019-07-25  \n",
       "3  2019-07-25  \n",
       "4  2019-07-25  "
      ]
     },
     "execution_count": 55,
     "metadata": {},
     "output_type": "execute_result"
    }
   ],
   "source": [
    "data.head()"
   ]
  },
  {
   "cell_type": "markdown",
   "metadata": {},
   "source": [
    "### Изучим и проверим данные"
   ]
  },
  {
   "cell_type": "markdown",
   "metadata": {},
   "source": [
    "Посмотрим сколько всего событий в логе:"
   ]
  },
  {
   "cell_type": "code",
   "execution_count": 13,
   "metadata": {},
   "outputs": [
    {
     "data": {
      "text/plain": [
       "(243713, 5)"
      ]
     },
     "execution_count": 13,
     "metadata": {},
     "output_type": "execute_result"
    }
   ],
   "source": [
    "data.shape"
   ]
  },
  {
   "cell_type": "markdown",
   "metadata": {},
   "source": [
    "Сколько всего пользователей в логе:"
   ]
  },
  {
   "cell_type": "code",
   "execution_count": 14,
   "metadata": {},
   "outputs": [
    {
     "data": {
      "text/plain": [
       "7551"
      ]
     },
     "execution_count": 14,
     "metadata": {},
     "output_type": "execute_result"
    }
   ],
   "source": [
    "users_count = data[['device_id_hash']].value_counts().count()\n",
    "users_count"
   ]
  },
  {
   "cell_type": "markdown",
   "metadata": {},
   "source": [
    "Сколько в среднем событий приходится на пользователя:"
   ]
  },
  {
   "cell_type": "code",
   "execution_count": 15,
   "metadata": {},
   "outputs": [
    {
     "data": {
      "text/plain": [
       "32.27559263673685"
      ]
     },
     "execution_count": 15,
     "metadata": {},
     "output_type": "execute_result"
    }
   ],
   "source": [
    "avg_event_per_user = int(len(data)) / users_count\n",
    "avg_event_per_user"
   ]
  },
  {
   "cell_type": "code",
   "execution_count": 16,
   "metadata": {},
   "outputs": [
    {
     "data": {
      "image/png": "[encoded data removed]",
      "text/plain": [
       "<Figure size 1080x504 with 1 Axes>"
      ]
     },
     "metadata": {
      "needs_background": "light"
     },
     "output_type": "display_data"
    }
   ],
   "source": [
    "plt.figure(figsize=(15, 7))\n",
    "sns.histplot(data=data.groupby('device_id_hash')[['event_name']].count(), x='event_name')\n",
    "plt.title('Количество событий по пользователям')\n",
    "plt.xlabel('Количество событий')\n",
    "plt.ylabel('Количество пользователей')\n",
    "plt.xlim(0, 200)\n",
    "plt.show()"
   ]
  },
  {
   "cell_type": "code",
   "execution_count": 17,
   "metadata": {},
   "outputs": [
    {
     "data": {
      "text/plain": [
       "count    7551.000000\n",
       "mean       32.275593\n",
       "std        65.154219\n",
       "min         1.000000\n",
       "5%          3.000000\n",
       "25%         9.000000\n",
       "50%        20.000000\n",
       "75%        37.000000\n",
       "95%        89.000000\n",
       "99%       200.500000\n",
       "max      2307.000000\n",
       "Name: device_id_hash, dtype: float64"
      ]
     },
     "execution_count": 17,
     "metadata": {},
     "output_type": "execute_result"
    }
   ],
   "source": [
    "data['device_id_hash'].value_counts().describe(percentiles=[0.05, 1/4, 1/2, 3/4, 0.95, 0.99])"
   ]
  },
  {
   "cell_type": "markdown",
   "metadata": {},
   "source": [
    "Видим, что среднее количество событий на пользователя - 32, а медианное - 20. При этом, только 1% пользователей совершило больше 200 событий. Максимальное количество событий - 2307, слишком большое значение, которое перетянуло на себя такую разницу среднего от медианы."
   ]
  },
  {
   "cell_type": "markdown",
   "metadata": {},
   "source": [
    "За какой период у нас данные:"
   ]
  },
  {
   "cell_type": "code",
   "execution_count": 18,
   "metadata": {},
   "outputs": [
    {
     "data": {
      "text/plain": [
       "datetime.date(2019, 7, 25)"
      ]
     },
     "execution_count": 18,
     "metadata": {},
     "output_type": "execute_result"
    }
   ],
   "source": [
    "data['event_date'].min()"
   ]
  },
  {
   "cell_type": "code",
   "execution_count": 19,
   "metadata": {},
   "outputs": [
    {
     "data": {
      "text/plain": [
       "datetime.date(2019, 8, 7)"
      ]
     },
     "execution_count": 19,
     "metadata": {},
     "output_type": "execute_result"
    }
   ],
   "source": [
    "data['event_date'].max()"
   ]
  },
  {
   "cell_type": "markdown",
   "metadata": {},
   "source": [
    "Мы располагаем данными за период с 25 июля 2019 по 7 августа 2019 года."
   ]
  },
  {
   "cell_type": "markdown",
   "metadata": {},
   "source": [
    "Построим гистограмму по дате и времени:"
   ]
  },
  {
   "cell_type": "code",
   "execution_count": 20,
   "metadata": {},
   "outputs": [
    {
     "data": {
      "image/png": "[encoded data removed]",
      "text/plain": [
       "<Figure size 1008x360 with 1 Axes>"
      ]
     },
     "metadata": {
      "needs_background": "light"
     },
     "output_type": "display_data"
    }
   ],
   "source": [
    "data['event_ts'].hist(bins=200, figsize=(14, 5)).set_title('Распределение событий во времени.')\n",
    "plt.xticks(rotation='vertical');"
   ]
  },
  {
   "cell_type": "markdown",
   "metadata": {},
   "source": [
    "По гистограмме видно, что основная часть данных сконцентрирована в период с 1 августа, что дает понять, что какие-то существенные изменения были внесены с этого момента, а данные с 25 июля по 1 августа являются хвостами из прошлого, которые необходимо отбросить."
   ]
  },
  {
   "cell_type": "code",
   "execution_count": 21,
   "metadata": {},
   "outputs": [
    {
     "data": {
      "text/html": [
       "<div>\n",
       "<style scoped>\n",
       "    .dataframe tbody tr th:only-of-type {\n",
       "        vertical-align: middle;\n",
       "    }\n",
       "\n",
       "    .dataframe tbody tr th {\n",
       "        vertical-align: top;\n",
       "    }\n",
       "\n",
       "    .dataframe thead th {\n",
       "        text-align: right;\n",
       "    }\n",
       "</style>\n",
       "<table border=\"1\" class=\"dataframe\">\n",
       "  <thead>\n",
       "    <tr style=\"text-align: right;\">\n",
       "      <th></th>\n",
       "      <th>event_name</th>\n",
       "      <th>device_id_hash</th>\n",
       "      <th>event_ts</th>\n",
       "      <th>exp_id</th>\n",
       "      <th>event_date</th>\n",
       "    </tr>\n",
       "  </thead>\n",
       "  <tbody>\n",
       "    <tr>\n",
       "      <th>2828</th>\n",
       "      <td>Tutorial</td>\n",
       "      <td>3737462046622621720</td>\n",
       "      <td>2019-08-01 00:07:28</td>\n",
       "      <td>246</td>\n",
       "      <td>2019-08-01</td>\n",
       "    </tr>\n",
       "    <tr>\n",
       "      <th>2829</th>\n",
       "      <td>MainScreenAppear</td>\n",
       "      <td>3737462046622621720</td>\n",
       "      <td>2019-08-01 00:08:00</td>\n",
       "      <td>246</td>\n",
       "      <td>2019-08-01</td>\n",
       "    </tr>\n",
       "    <tr>\n",
       "      <th>2830</th>\n",
       "      <td>MainScreenAppear</td>\n",
       "      <td>3737462046622621720</td>\n",
       "      <td>2019-08-01 00:08:55</td>\n",
       "      <td>246</td>\n",
       "      <td>2019-08-01</td>\n",
       "    </tr>\n",
       "    <tr>\n",
       "      <th>2831</th>\n",
       "      <td>OffersScreenAppear</td>\n",
       "      <td>3737462046622621720</td>\n",
       "      <td>2019-08-01 00:08:58</td>\n",
       "      <td>246</td>\n",
       "      <td>2019-08-01</td>\n",
       "    </tr>\n",
       "    <tr>\n",
       "      <th>2832</th>\n",
       "      <td>MainScreenAppear</td>\n",
       "      <td>1433840883824088890</td>\n",
       "      <td>2019-08-01 00:08:59</td>\n",
       "      <td>247</td>\n",
       "      <td>2019-08-01</td>\n",
       "    </tr>\n",
       "    <tr>\n",
       "      <th>...</th>\n",
       "      <td>...</td>\n",
       "      <td>...</td>\n",
       "      <td>...</td>\n",
       "      <td>...</td>\n",
       "      <td>...</td>\n",
       "    </tr>\n",
       "    <tr>\n",
       "      <th>244121</th>\n",
       "      <td>MainScreenAppear</td>\n",
       "      <td>4599628364049201812</td>\n",
       "      <td>2019-08-07 21:12:25</td>\n",
       "      <td>247</td>\n",
       "      <td>2019-08-07</td>\n",
       "    </tr>\n",
       "    <tr>\n",
       "      <th>244122</th>\n",
       "      <td>MainScreenAppear</td>\n",
       "      <td>5849806612437486590</td>\n",
       "      <td>2019-08-07 21:13:59</td>\n",
       "      <td>246</td>\n",
       "      <td>2019-08-07</td>\n",
       "    </tr>\n",
       "    <tr>\n",
       "      <th>244123</th>\n",
       "      <td>MainScreenAppear</td>\n",
       "      <td>5746969938801999050</td>\n",
       "      <td>2019-08-07 21:14:43</td>\n",
       "      <td>246</td>\n",
       "      <td>2019-08-07</td>\n",
       "    </tr>\n",
       "    <tr>\n",
       "      <th>244124</th>\n",
       "      <td>MainScreenAppear</td>\n",
       "      <td>5746969938801999050</td>\n",
       "      <td>2019-08-07 21:14:58</td>\n",
       "      <td>246</td>\n",
       "      <td>2019-08-07</td>\n",
       "    </tr>\n",
       "    <tr>\n",
       "      <th>244125</th>\n",
       "      <td>OffersScreenAppear</td>\n",
       "      <td>5746969938801999050</td>\n",
       "      <td>2019-08-07 21:15:17</td>\n",
       "      <td>246</td>\n",
       "      <td>2019-08-07</td>\n",
       "    </tr>\n",
       "  </tbody>\n",
       "</table>\n",
       "<p>240887 rows × 5 columns</p>\n",
       "</div>"
      ],
      "text/plain": [
       "                event_name       device_id_hash            event_ts  exp_id  \\\n",
       "2828              Tutorial  3737462046622621720 2019-08-01 00:07:28     246   \n",
       "2829      MainScreenAppear  3737462046622621720 2019-08-01 00:08:00     246   \n",
       "2830      MainScreenAppear  3737462046622621720 2019-08-01 00:08:55     246   \n",
       "2831    OffersScreenAppear  3737462046622621720 2019-08-01 00:08:58     246   \n",
       "2832      MainScreenAppear  1433840883824088890 2019-08-01 00:08:59     247   \n",
       "...                    ...                  ...                 ...     ...   \n",
       "244121    MainScreenAppear  4599628364049201812 2019-08-07 21:12:25     247   \n",
       "244122    MainScreenAppear  5849806612437486590 2019-08-07 21:13:59     246   \n",
       "244123    MainScreenAppear  5746969938801999050 2019-08-07 21:14:43     246   \n",
       "244124    MainScreenAppear  5746969938801999050 2019-08-07 21:14:58     246   \n",
       "244125  OffersScreenAppear  5746969938801999050 2019-08-07 21:15:17     246   \n",
       "\n",
       "        event_date  \n",
       "2828    2019-08-01  \n",
       "2829    2019-08-01  \n",
       "2830    2019-08-01  \n",
       "2831    2019-08-01  \n",
       "2832    2019-08-01  \n",
       "...            ...  \n",
       "244121  2019-08-07  \n",
       "244122  2019-08-07  \n",
       "244123  2019-08-07  \n",
       "244124  2019-08-07  \n",
       "244125  2019-08-07  \n",
       "\n",
       "[240887 rows x 5 columns]"
      ]
     },
     "execution_count": 21,
     "metadata": {},
     "output_type": "execute_result"
    }
   ],
   "source": [
    "data_full = data.query('event_ts > \"2019, 8, 1\"')\n",
    "data_full"
   ]
  },
  {
   "cell_type": "code",
   "execution_count": 22,
   "metadata": {},
   "outputs": [
    {
     "data": {
      "image/png": "[encoded data removed]",
      "text/plain": [
       "<Figure size 432x288 with 1 Axes>"
      ]
     },
     "metadata": {
      "needs_background": "light"
     },
     "output_type": "display_data"
    }
   ],
   "source": [
    "data_full['event_ts'].hist()\n",
    "plt.xticks(rotation='vertical');"
   ]
  },
  {
   "cell_type": "markdown",
   "metadata": {},
   "source": [
    "Посмотрим на долю событий в оставшемся периоде:"
   ]
  },
  {
   "cell_type": "code",
   "execution_count": 23,
   "metadata": {},
   "outputs": [
    {
     "data": {
      "text/plain": [
       "'98.84%'"
      ]
     },
     "execution_count": 23,
     "metadata": {},
     "output_type": "execute_result"
    }
   ],
   "source": [
    "ratio_users_full = f'{(len(data_full) / len(data)):.2%}'\n",
    "ratio_users_full"
   ]
  },
  {
   "cell_type": "markdown",
   "metadata": {},
   "source": [
    "Посчитаем количество пользователей в оставшемся периоде:"
   ]
  },
  {
   "cell_type": "code",
   "execution_count": 24,
   "metadata": {},
   "outputs": [
    {
     "name": "stdout",
     "output_type": "stream",
     "text": [
      "Всего пользователей осталось: 7534.\n"
     ]
    }
   ],
   "source": [
    "print(f'Всего пользователей осталось: {len(data_full.device_id_hash.unique())}.')"
   ]
  },
  {
   "cell_type": "code",
   "execution_count": 25,
   "metadata": {},
   "outputs": [
    {
     "data": {
      "text/plain": [
       "exp_id\n",
       "246    2484\n",
       "247    2513\n",
       "248    2537\n",
       "Name: device_id_hash, dtype: int64"
      ]
     },
     "execution_count": 25,
     "metadata": {},
     "output_type": "execute_result"
    }
   ],
   "source": [
    "data_full.groupby('exp_id')['device_id_hash'].nunique()"
   ]
  },
  {
   "cell_type": "markdown",
   "metadata": {},
   "source": [
    "Мы видим, что в оставшийся период попадает 98,43% всех событий, а так же остались 7530 пользователей из 7551 - это почти 99,7%, то есть потерянных пользователей меньше 1%, потерянных событий - чуть больше 1%. Оставшиеся пользователи присутствуют во всех трех экспериментальных группах, размеры групп примерно одинаковы."
   ]
  },
  {
   "cell_type": "markdown",
   "metadata": {},
   "source": [
    "Проверим, остались ли у нас пользователи во всех трех экспериментальных группах:"
   ]
  },
  {
   "cell_type": "code",
   "execution_count": 26,
   "metadata": {},
   "outputs": [
    {
     "data": {
      "text/plain": [
       "248    84563\n",
       "246    79302\n",
       "247    77022\n",
       "Name: exp_id, dtype: int64"
      ]
     },
     "execution_count": 26,
     "metadata": {},
     "output_type": "execute_result"
    }
   ],
   "source": [
    "data_full['exp_id'].value_counts()"
   ]
  },
  {
   "cell_type": "markdown",
   "metadata": {},
   "source": [
    "Да, пользователей во всех трех группах примерно одинаковое количество."
   ]
  },
  {
   "cell_type": "markdown",
   "metadata": {},
   "source": [
    "### Изучим воронку событий"
   ]
  },
  {
   "cell_type": "markdown",
   "metadata": {},
   "source": [
    "Для начала проверим, нет ли пользователей, которые попали одновременно в несколько групп:"
   ]
  },
  {
   "cell_type": "code",
   "execution_count": 27,
   "metadata": {},
   "outputs": [
    {
     "data": {
      "text/plain": [
       "0"
      ]
     },
     "execution_count": 27,
     "metadata": {},
     "output_type": "execute_result"
    }
   ],
   "source": [
    "len(data_full.groupby('device_id_hash')['exp_id'].nunique().reset_index().query('exp_id > 1'))"
   ]
  },
  {
   "cell_type": "markdown",
   "metadata": {},
   "source": [
    "Видим, что встречающихся в нескольких группах пользователей нет."
   ]
  },
  {
   "cell_type": "markdown",
   "metadata": {},
   "source": [
    "Посмотрим, какие события есть в логах, как часто они встречаются. Отсортируем события по частоте и уникальным пользователям."
   ]
  },
  {
   "cell_type": "code",
   "execution_count": 28,
   "metadata": {},
   "outputs": [
    {
     "data": {
      "text/plain": [
       "MainScreenAppear           117328\n",
       "OffersScreenAppear          46333\n",
       "CartScreenAppear            42303\n",
       "PaymentScreenSuccessful     33918\n",
       "Tutorial                     1005\n",
       "Name: event_name, dtype: int64"
      ]
     },
     "execution_count": 28,
     "metadata": {},
     "output_type": "execute_result"
    }
   ],
   "source": [
    "data_full['event_name'].value_counts()"
   ]
  },
  {
   "cell_type": "markdown",
   "metadata": {},
   "source": [
    "Посмотрим на популярность событий и количество пользователей."
   ]
  },
  {
   "cell_type": "markdown",
   "metadata": {},
   "source": [
    "Посчитаем, сколько пользователей совершали каждое из этих событий. Отсортируем события по числу пользователей."
   ]
  },
  {
   "cell_type": "code",
   "execution_count": 29,
   "metadata": {},
   "outputs": [
    {
     "data": {
      "text/html": [
       "<div>\n",
       "<style scoped>\n",
       "    .dataframe tbody tr th:only-of-type {\n",
       "        vertical-align: middle;\n",
       "    }\n",
       "\n",
       "    .dataframe tbody tr th {\n",
       "        vertical-align: top;\n",
       "    }\n",
       "\n",
       "    .dataframe thead th {\n",
       "        text-align: right;\n",
       "    }\n",
       "</style>\n",
       "<table border=\"1\" class=\"dataframe\">\n",
       "  <thead>\n",
       "    <tr style=\"text-align: right;\">\n",
       "      <th></th>\n",
       "      <th>event_name</th>\n",
       "      <th>events_count</th>\n",
       "      <th>users_unique</th>\n",
       "    </tr>\n",
       "  </thead>\n",
       "  <tbody>\n",
       "    <tr>\n",
       "      <th>1</th>\n",
       "      <td>MainScreenAppear</td>\n",
       "      <td>117328</td>\n",
       "      <td>7419</td>\n",
       "    </tr>\n",
       "    <tr>\n",
       "      <th>2</th>\n",
       "      <td>OffersScreenAppear</td>\n",
       "      <td>46333</td>\n",
       "      <td>4593</td>\n",
       "    </tr>\n",
       "    <tr>\n",
       "      <th>0</th>\n",
       "      <td>CartScreenAppear</td>\n",
       "      <td>42303</td>\n",
       "      <td>3734</td>\n",
       "    </tr>\n",
       "    <tr>\n",
       "      <th>3</th>\n",
       "      <td>PaymentScreenSuccessful</td>\n",
       "      <td>33918</td>\n",
       "      <td>3539</td>\n",
       "    </tr>\n",
       "    <tr>\n",
       "      <th>4</th>\n",
       "      <td>Tutorial</td>\n",
       "      <td>1005</td>\n",
       "      <td>840</td>\n",
       "    </tr>\n",
       "  </tbody>\n",
       "</table>\n",
       "</div>"
      ],
      "text/plain": [
       "                event_name  events_count  users_unique\n",
       "1         MainScreenAppear        117328          7419\n",
       "2       OffersScreenAppear         46333          4593\n",
       "0         CartScreenAppear         42303          3734\n",
       "3  PaymentScreenSuccessful         33918          3539\n",
       "4                 Tutorial          1005           840"
      ]
     },
     "execution_count": 29,
     "metadata": {},
     "output_type": "execute_result"
    }
   ],
   "source": [
    "events = (data_full\n",
    "          .groupby('event_name')['device_id_hash']\n",
    "          .agg(['count', 'nunique'])\n",
    "          .reset_index()\n",
    "         )\n",
    "events.columns =['event_name', 'events_count', 'users_unique']\n",
    "events = events.sort_values('users_unique', ascending = False)\n",
    "events"
   ]
  },
  {
   "cell_type": "markdown",
   "metadata": {},
   "source": [
    "Самое популярное событие - это просмотр главного экрана. Затем примерно одинаковое количество у события \"Появление экрана предложений\" и \"Появление экрана с корзиной\". Руководство просматривают меньше всего и то, скорее всего, случайно)"
   ]
  },
  {
   "cell_type": "code",
   "execution_count": 30,
   "metadata": {},
   "outputs": [],
   "source": [
    "#users = data_full.groupby('event_name').agg({'device_id_hash': 'nunique'}).sort_values('device_id_hash', ascending = False)\n",
    "#users"
   ]
  },
  {
   "cell_type": "markdown",
   "metadata": {},
   "source": [
    "Посчитаем долю пользователей, которые хоть раз совершали событие."
   ]
  },
  {
   "cell_type": "code",
   "execution_count": 31,
   "metadata": {},
   "outputs": [
    {
     "data": {
      "text/html": [
       "<style  type=\"text/css\" >\n",
       "</style><table id=\"T_fd0f1_\" ><thead>    <tr>        <th class=\"blank level0\" ></th>        <th class=\"col_heading level0 col0\" >event_name</th>        <th class=\"col_heading level0 col1\" >events_count</th>        <th class=\"col_heading level0 col2\" >users_unique</th>        <th class=\"col_heading level0 col3\" >ratio_users</th>    </tr></thead><tbody>\n",
       "                <tr>\n",
       "                        <th id=\"T_fd0f1_level0_row0\" class=\"row_heading level0 row0\" >1</th>\n",
       "                        <td id=\"T_fd0f1_row0_col0\" class=\"data row0 col0\" >MainScreenAppear</td>\n",
       "                        <td id=\"T_fd0f1_row0_col1\" class=\"data row0 col1\" >117328</td>\n",
       "                        <td id=\"T_fd0f1_row0_col2\" class=\"data row0 col2\" >7419</td>\n",
       "                        <td id=\"T_fd0f1_row0_col3\" class=\"data row0 col3\" >98.25%</td>\n",
       "            </tr>\n",
       "            <tr>\n",
       "                        <th id=\"T_fd0f1_level0_row1\" class=\"row_heading level0 row1\" >2</th>\n",
       "                        <td id=\"T_fd0f1_row1_col0\" class=\"data row1 col0\" >OffersScreenAppear</td>\n",
       "                        <td id=\"T_fd0f1_row1_col1\" class=\"data row1 col1\" >46333</td>\n",
       "                        <td id=\"T_fd0f1_row1_col2\" class=\"data row1 col2\" >4593</td>\n",
       "                        <td id=\"T_fd0f1_row1_col3\" class=\"data row1 col3\" >60.83%</td>\n",
       "            </tr>\n",
       "            <tr>\n",
       "                        <th id=\"T_fd0f1_level0_row2\" class=\"row_heading level0 row2\" >0</th>\n",
       "                        <td id=\"T_fd0f1_row2_col0\" class=\"data row2 col0\" >CartScreenAppear</td>\n",
       "                        <td id=\"T_fd0f1_row2_col1\" class=\"data row2 col1\" >42303</td>\n",
       "                        <td id=\"T_fd0f1_row2_col2\" class=\"data row2 col2\" >3734</td>\n",
       "                        <td id=\"T_fd0f1_row2_col3\" class=\"data row2 col3\" >49.45%</td>\n",
       "            </tr>\n",
       "            <tr>\n",
       "                        <th id=\"T_fd0f1_level0_row3\" class=\"row_heading level0 row3\" >3</th>\n",
       "                        <td id=\"T_fd0f1_row3_col0\" class=\"data row3 col0\" >PaymentScreenSuccessful</td>\n",
       "                        <td id=\"T_fd0f1_row3_col1\" class=\"data row3 col1\" >33918</td>\n",
       "                        <td id=\"T_fd0f1_row3_col2\" class=\"data row3 col2\" >3539</td>\n",
       "                        <td id=\"T_fd0f1_row3_col3\" class=\"data row3 col3\" >46.87%</td>\n",
       "            </tr>\n",
       "            <tr>\n",
       "                        <th id=\"T_fd0f1_level0_row4\" class=\"row_heading level0 row4\" >4</th>\n",
       "                        <td id=\"T_fd0f1_row4_col0\" class=\"data row4 col0\" >Tutorial</td>\n",
       "                        <td id=\"T_fd0f1_row4_col1\" class=\"data row4 col1\" >1005</td>\n",
       "                        <td id=\"T_fd0f1_row4_col2\" class=\"data row4 col2\" >840</td>\n",
       "                        <td id=\"T_fd0f1_row4_col3\" class=\"data row4 col3\" >11.12%</td>\n",
       "            </tr>\n",
       "    </tbody></table>"
      ],
      "text/plain": [
       "<pandas.io.formats.style.Styler at 0x7fe61fd89bb0>"
      ]
     },
     "execution_count": 31,
     "metadata": {},
     "output_type": "execute_result"
    }
   ],
   "source": [
    "events['ratio_users'] = (events['users_unique'] / data.device_id_hash.nunique())\n",
    "events.style.format({'ratio_users': '{:.2%}'})"
   ]
  },
  {
   "cell_type": "markdown",
   "metadata": {},
   "source": [
    "При загрузке приложения первое, что видит пользователь - это главный экран, поэтому 98% пользователей точно совершают это действие. Остальные 2% отваливаются из-за технических сбоев при загрузке приложения, или закрывают его, не дождавшись загрузки. Затем, перед покупкой, пользователь хочет ознакомиться со всеми предложениями, как я понимаю: это каталог. Логично, чтобы выбрать товар нужно ознакомиться с каталогом. Поэтому 60% пользователей заходят на этот экран, но почему-то достаточно большой процент не доходит до него. Этот вопрос я бы отдала в отдел тестирования после детального изучения отказов (с каких устройств и каких версий, например). Далее логичная и последовательная цепочка: корзина, страница успеха. С главной страницы до успеха доходят почти 47% пользователей. Про туториалы писала выше - это никак не вписывается в воронку и можно просматривать в любое время. Поэтому предлагаю его удалить:"
   ]
  },
  {
   "cell_type": "markdown",
   "metadata": {},
   "source": [
    "<div id='link'></div>"
   ]
  },
  {
   "cell_type": "code",
   "execution_count": 32,
   "metadata": {},
   "outputs": [
    {
     "data": {
      "text/html": [
       "<style  type=\"text/css\" >\n",
       "</style><table id=\"T_218dc_\" ><thead>    <tr>        <th class=\"blank level0\" ></th>        <th class=\"col_heading level0 col0\" >event_name</th>        <th class=\"col_heading level0 col1\" >events_count</th>        <th class=\"col_heading level0 col2\" >users_unique</th>        <th class=\"col_heading level0 col3\" >ratio_users</th>    </tr></thead><tbody>\n",
       "                <tr>\n",
       "                        <th id=\"T_218dc_level0_row0\" class=\"row_heading level0 row0\" >1</th>\n",
       "                        <td id=\"T_218dc_row0_col0\" class=\"data row0 col0\" >MainScreenAppear</td>\n",
       "                        <td id=\"T_218dc_row0_col1\" class=\"data row0 col1\" >117328</td>\n",
       "                        <td id=\"T_218dc_row0_col2\" class=\"data row0 col2\" >7419</td>\n",
       "                        <td id=\"T_218dc_row0_col3\" class=\"data row0 col3\" >98.25%</td>\n",
       "            </tr>\n",
       "            <tr>\n",
       "                        <th id=\"T_218dc_level0_row1\" class=\"row_heading level0 row1\" >2</th>\n",
       "                        <td id=\"T_218dc_row1_col0\" class=\"data row1 col0\" >OffersScreenAppear</td>\n",
       "                        <td id=\"T_218dc_row1_col1\" class=\"data row1 col1\" >46333</td>\n",
       "                        <td id=\"T_218dc_row1_col2\" class=\"data row1 col2\" >4593</td>\n",
       "                        <td id=\"T_218dc_row1_col3\" class=\"data row1 col3\" >60.83%</td>\n",
       "            </tr>\n",
       "            <tr>\n",
       "                        <th id=\"T_218dc_level0_row2\" class=\"row_heading level0 row2\" >0</th>\n",
       "                        <td id=\"T_218dc_row2_col0\" class=\"data row2 col0\" >CartScreenAppear</td>\n",
       "                        <td id=\"T_218dc_row2_col1\" class=\"data row2 col1\" >42303</td>\n",
       "                        <td id=\"T_218dc_row2_col2\" class=\"data row2 col2\" >3734</td>\n",
       "                        <td id=\"T_218dc_row2_col3\" class=\"data row2 col3\" >49.45%</td>\n",
       "            </tr>\n",
       "            <tr>\n",
       "                        <th id=\"T_218dc_level0_row3\" class=\"row_heading level0 row3\" >3</th>\n",
       "                        <td id=\"T_218dc_row3_col0\" class=\"data row3 col0\" >PaymentScreenSuccessful</td>\n",
       "                        <td id=\"T_218dc_row3_col1\" class=\"data row3 col1\" >33918</td>\n",
       "                        <td id=\"T_218dc_row3_col2\" class=\"data row3 col2\" >3539</td>\n",
       "                        <td id=\"T_218dc_row3_col3\" class=\"data row3 col3\" >46.87%</td>\n",
       "            </tr>\n",
       "    </tbody></table>"
      ],
      "text/plain": [
       "<pandas.io.formats.style.Styler at 0x7fe61f6e3370>"
      ]
     },
     "execution_count": 32,
     "metadata": {},
     "output_type": "execute_result"
    }
   ],
   "source": [
    "events_funnel = events.query('event_name != \"Tutorial\"')\n",
    "events_funnel.style.format({'ratio_users': '{:.2%}'})"
   ]
  },
  {
   "cell_type": "code",
   "execution_count": 33,
   "metadata": {},
   "outputs": [],
   "source": [
    "data_full = data_full.query('event_name != \"Tutorial\"')"
   ]
  },
  {
   "cell_type": "markdown",
   "metadata": {},
   "source": [
    "Построим воронку событий:"
   ]
  },
  {
   "cell_type": "code",
   "execution_count": 34,
   "metadata": {},
   "outputs": [
    {
     "data": {
      "image/png": "[encoded data removed]",
      "text/plain": [
       "<Figure size 432x288 with 1 Axes>"
      ]
     },
     "metadata": {
      "needs_background": "light"
     },
     "output_type": "display_data"
    }
   ],
   "source": [
    "ax = sns.barplot(x = 'ratio_users', y = 'event_name', data = events_funnel.reset_index())\n",
    "ax.set_title('Воронка событий');"
   ]
  },
  {
   "cell_type": "markdown",
   "metadata": {},
   "source": [
    "Теперь разделим эту воронку по нашим испытательным группам:"
   ]
  },
  {
   "cell_type": "code",
   "execution_count": 35,
   "metadata": {},
   "outputs": [
    {
     "data": {
      "text/html": [
       "<div>\n",
       "<style scoped>\n",
       "    .dataframe tbody tr th:only-of-type {\n",
       "        vertical-align: middle;\n",
       "    }\n",
       "\n",
       "    .dataframe tbody tr th {\n",
       "        vertical-align: top;\n",
       "    }\n",
       "\n",
       "    .dataframe thead th {\n",
       "        text-align: right;\n",
       "    }\n",
       "</style>\n",
       "<table border=\"1\" class=\"dataframe\">\n",
       "  <thead>\n",
       "    <tr style=\"text-align: right;\">\n",
       "      <th></th>\n",
       "      <th>event_name</th>\n",
       "      <th>exp_id</th>\n",
       "      <th>events_count</th>\n",
       "      <th>users_unique</th>\n",
       "    </tr>\n",
       "  </thead>\n",
       "  <tbody>\n",
       "    <tr>\n",
       "      <th>0</th>\n",
       "      <td>CartScreenAppear</td>\n",
       "      <td>246</td>\n",
       "      <td>14690</td>\n",
       "      <td>1266</td>\n",
       "    </tr>\n",
       "    <tr>\n",
       "      <th>1</th>\n",
       "      <td>CartScreenAppear</td>\n",
       "      <td>247</td>\n",
       "      <td>12434</td>\n",
       "      <td>1238</td>\n",
       "    </tr>\n",
       "    <tr>\n",
       "      <th>2</th>\n",
       "      <td>CartScreenAppear</td>\n",
       "      <td>248</td>\n",
       "      <td>15179</td>\n",
       "      <td>1230</td>\n",
       "    </tr>\n",
       "    <tr>\n",
       "      <th>3</th>\n",
       "      <td>MainScreenAppear</td>\n",
       "      <td>246</td>\n",
       "      <td>37676</td>\n",
       "      <td>2450</td>\n",
       "    </tr>\n",
       "    <tr>\n",
       "      <th>4</th>\n",
       "      <td>MainScreenAppear</td>\n",
       "      <td>247</td>\n",
       "      <td>39090</td>\n",
       "      <td>2476</td>\n",
       "    </tr>\n",
       "    <tr>\n",
       "      <th>5</th>\n",
       "      <td>MainScreenAppear</td>\n",
       "      <td>248</td>\n",
       "      <td>40562</td>\n",
       "      <td>2493</td>\n",
       "    </tr>\n",
       "    <tr>\n",
       "      <th>6</th>\n",
       "      <td>OffersScreenAppear</td>\n",
       "      <td>246</td>\n",
       "      <td>14767</td>\n",
       "      <td>1542</td>\n",
       "    </tr>\n",
       "    <tr>\n",
       "      <th>7</th>\n",
       "      <td>OffersScreenAppear</td>\n",
       "      <td>247</td>\n",
       "      <td>15179</td>\n",
       "      <td>1520</td>\n",
       "    </tr>\n",
       "    <tr>\n",
       "      <th>8</th>\n",
       "      <td>OffersScreenAppear</td>\n",
       "      <td>248</td>\n",
       "      <td>16387</td>\n",
       "      <td>1531</td>\n",
       "    </tr>\n",
       "    <tr>\n",
       "      <th>9</th>\n",
       "      <td>PaymentScreenSuccessful</td>\n",
       "      <td>246</td>\n",
       "      <td>11852</td>\n",
       "      <td>1200</td>\n",
       "    </tr>\n",
       "    <tr>\n",
       "      <th>10</th>\n",
       "      <td>PaymentScreenSuccessful</td>\n",
       "      <td>247</td>\n",
       "      <td>9981</td>\n",
       "      <td>1158</td>\n",
       "    </tr>\n",
       "    <tr>\n",
       "      <th>11</th>\n",
       "      <td>PaymentScreenSuccessful</td>\n",
       "      <td>248</td>\n",
       "      <td>12085</td>\n",
       "      <td>1181</td>\n",
       "    </tr>\n",
       "  </tbody>\n",
       "</table>\n",
       "</div>"
      ],
      "text/plain": [
       "                 event_name  exp_id  events_count  users_unique\n",
       "0          CartScreenAppear     246         14690          1266\n",
       "1          CartScreenAppear     247         12434          1238\n",
       "2          CartScreenAppear     248         15179          1230\n",
       "3          MainScreenAppear     246         37676          2450\n",
       "4          MainScreenAppear     247         39090          2476\n",
       "5          MainScreenAppear     248         40562          2493\n",
       "6        OffersScreenAppear     246         14767          1542\n",
       "7        OffersScreenAppear     247         15179          1520\n",
       "8        OffersScreenAppear     248         16387          1531\n",
       "9   PaymentScreenSuccessful     246         11852          1200\n",
       "10  PaymentScreenSuccessful     247          9981          1158\n",
       "11  PaymentScreenSuccessful     248         12085          1181"
      ]
     },
     "execution_count": 35,
     "metadata": {},
     "output_type": "execute_result"
    }
   ],
   "source": [
    "event_pivot = (data_full\n",
    "               .pivot_table(index=['event_name','exp_id'], values='device_id_hash', aggfunc=['count', 'nunique'])\n",
    "               .reset_index()\n",
    "              )\n",
    "event_pivot.columns= ['event_name','exp_id', 'events_count', 'users_unique']\n",
    "event_pivot"
   ]
  },
  {
   "cell_type": "markdown",
   "metadata": {},
   "source": [
    "Построим воронку и подпишем в каждой группе количество пользователей:"
   ]
  },
  {
   "cell_type": "code",
   "execution_count": 36,
   "metadata": {},
   "outputs": [
    {
     "data": {
      "image/png": "[encoded data removed]",
      "text/plain": [
       "<Figure size 1080x720 with 1 Axes>"
      ]
     },
     "metadata": {
      "needs_background": "light"
     },
     "output_type": "display_data"
    }
   ],
   "source": [
    "plt.figure(figsize = (15, 10))\n",
    "sorting = events.query('event_name != \"Tutorial\"').sort_values('events_count', ascending = False).reset_index(drop = True)['event_name']\n",
    "ax = sns.barplot(y = 'event_name', x = 'events_count', order = sorting, hue = 'exp_id', data = event_pivot)\n",
    "ax.set_title('Воронка событий по группам')\n",
    "for i in ax.patches:\n",
    "    if i.get_width() > 9000:\n",
    "        ax.text(i.get_width()-2500, i.get_y()+0.2, \n",
    "                str(int(i.get_width())), fontsize=14, color='white')\n",
    "    else:\n",
    "        ax.text(i.get_width()+30, i.get_y()+0.2, \n",
    "                str(int(i.get_width())), fontsize=14, color='black')\n",
    "plt.show()"
   ]
  },
  {
   "cell_type": "markdown",
   "metadata": {},
   "source": [
    "По воронке событий посчитаем, какая доля пользователей проходит на следующий шаг воронки (от числа пользователей на предыдущем)."
   ]
  },
  {
   "cell_type": "code",
   "execution_count": 37,
   "metadata": {},
   "outputs": [
    {
     "data": {
      "text/plain": [
       "1      nan%\n",
       "2    38.09%\n",
       "0    18.70%\n",
       "3     5.22%\n",
       "Name: users_unique, dtype: object"
      ]
     },
     "execution_count": 37,
     "metadata": {},
     "output_type": "execute_result"
    }
   ],
   "source": [
    "(events_funnel\n",
    "     .sort_values('users_unique', ascending=False)['users_unique']\n",
    "     .pct_change()\n",
    "     .abs()\n",
    "     .map(lambda n: '{:,.2%}'.format(n))\n",
    "     )"
   ]
  },
  {
   "cell_type": "code",
   "execution_count": 38,
   "metadata": {},
   "outputs": [],
   "source": [
    "#ab = round((events_funnel['users_unique'][1] / events_funnel['users_unique'][0]) * 100, 2)\n",
    "#bc = round((events_funnel['users_unique'][2] / events_funnel['users_unique'][1]) * 100, 2)\n",
    "#cd = round((events_funnel['users_unique'][3] / events_funnel['users_unique'][2]) * 100, 2)\n",
    "#print(ab, bc, cd)"
   ]
  },
  {
   "cell_type": "markdown",
   "metadata": {},
   "source": [
    "Видим, что больше всего пользователей (чуть больше 37%) теряются на этапе перехода с главной страницы на страницу просмотра каталога. От каталога до корзины не доходит 11,4%, от корзины до успешного платежа теряется примерно 2,6% пользователей."
   ]
  },
  {
   "cell_type": "markdown",
   "metadata": {},
   "source": [
    "### Изучим результаты эксперимента"
   ]
  },
  {
   "cell_type": "markdown",
   "metadata": {},
   "source": [
    "Посмотрим еще раз, сколько пользователей в каждой экспериментальной группе:"
   ]
  },
  {
   "cell_type": "code",
   "execution_count": 39,
   "metadata": {},
   "outputs": [
    {
     "data": {
      "text/html": [
       "<div>\n",
       "<style scoped>\n",
       "    .dataframe tbody tr th:only-of-type {\n",
       "        vertical-align: middle;\n",
       "    }\n",
       "\n",
       "    .dataframe tbody tr th {\n",
       "        vertical-align: top;\n",
       "    }\n",
       "\n",
       "    .dataframe thead th {\n",
       "        text-align: right;\n",
       "    }\n",
       "</style>\n",
       "<table border=\"1\" class=\"dataframe\">\n",
       "  <thead>\n",
       "    <tr style=\"text-align: right;\">\n",
       "      <th></th>\n",
       "      <th>group</th>\n",
       "      <th>events_count</th>\n",
       "      <th>users_unique</th>\n",
       "    </tr>\n",
       "  </thead>\n",
       "  <tbody>\n",
       "    <tr>\n",
       "      <th>0</th>\n",
       "      <td>246</td>\n",
       "      <td>78985</td>\n",
       "      <td>2483</td>\n",
       "    </tr>\n",
       "    <tr>\n",
       "      <th>1</th>\n",
       "      <td>247</td>\n",
       "      <td>76684</td>\n",
       "      <td>2512</td>\n",
       "    </tr>\n",
       "    <tr>\n",
       "      <th>2</th>\n",
       "      <td>248</td>\n",
       "      <td>84213</td>\n",
       "      <td>2535</td>\n",
       "    </tr>\n",
       "  </tbody>\n",
       "</table>\n",
       "</div>"
      ],
      "text/plain": [
       "   group  events_count  users_unique\n",
       "0    246         78985          2483\n",
       "1    247         76684          2512\n",
       "2    248         84213          2535"
      ]
     },
     "execution_count": 39,
     "metadata": {},
     "output_type": "execute_result"
    }
   ],
   "source": [
    "users_group = data_full.groupby('exp_id')['device_id_hash'].agg(['count', 'nunique']).reset_index()\n",
    "users_group.columns =['group', 'events_count', 'users_unique']\n",
    "users_group"
   ]
  },
  {
   "cell_type": "code",
   "execution_count": 40,
   "metadata": {},
   "outputs": [
    {
     "data": {
      "image/png": "[encoded data removed]",
      "text/plain": [
       "<Figure size 504x504 with 1 Axes>"
      ]
     },
     "metadata": {
      "needs_background": "light"
     },
     "output_type": "display_data"
    }
   ],
   "source": [
    "plt.figure(figsize = (7, 7))\n",
    "sorting = users_group.sort_values('users_unique', ascending = False).reset_index(drop = True)['group']\n",
    "ax = sns.barplot(y = 'users_unique', x = 'group', order = sorting, hue = 'group', data = users_group)\n",
    "ax.set_title('Количество пользователей по группам')\n",
    "for bar in ax.patches:\n",
    "    ax.annotate(format(bar.get_height(), '.2f'),\n",
    "                   (bar.get_x() + bar.get_width() / 2,\n",
    "                    bar.get_height()), ha='center', va='center',\n",
    "                   size=12, xytext=(0, 8),\n",
    "                   textcoords='offset points')\n",
    "plt.show()"
   ]
  },
  {
   "cell_type": "markdown",
   "metadata": {},
   "source": [
    "Есть 2 контрольные группы для А/А-эксперимента, чтобы проверить корректность всех механизмов и расчётов. Проверим, находят ли статистические критерии разницу между выборками 246 и 247."
   ]
  },
  {
   "cell_type": "markdown",
   "metadata": {},
   "source": [
    "По таблице видно, что примерно одинаковое количество пользователей в каждой экспериментальной группе. Выделим и посмотрим подробнее, насколько различаются наши группы:"
   ]
  },
  {
   "cell_type": "code",
   "execution_count": 41,
   "metadata": {},
   "outputs": [
    {
     "name": "stdout",
     "output_type": "stream",
     "text": [
      "Разница между выборками 246 и 247 составляет 1.15%\n"
     ]
    }
   ],
   "source": [
    "group_246 = data_full.query('exp_id == 246').groupby('exp_id')['device_id_hash'].nunique().reset_index()\n",
    "group_247 = data_full.query('exp_id == 247').groupby('exp_id')['device_id_hash'].nunique().reset_index()\n",
    "difference = 1 - group_246.iloc[0]['device_id_hash'] / group_247.iloc[0]['device_id_hash']\n",
    "print('Разница между выборками 246 и 247 составляет {:.2%}'.format(difference))"
   ]
  },
  {
   "cell_type": "markdown",
   "metadata": {},
   "source": [
    "Теория гласит, что различие в количестве пользователей не должно превышать 1% для успешного A/A-теста. У нас превышение незначительное, поэтому считаем, что точность достаточная для проведения эксперимента. "
   ]
  },
  {
   "cell_type": "markdown",
   "metadata": {},
   "source": [
    "Выберем самое популярное событие. Посчитаем число пользователей, совершивших это событие в каждой из контрольных групп. Посчитайте долю пользователей, совершивших это событие. Проверьте, будет ли отличие между группами статистически достоверным. Проделайте то же самое для всех других событий (удобно обернуть проверку в отдельную функцию). Можно ли сказать, что разбиение на группы работает корректно?"
   ]
  },
  {
   "cell_type": "markdown",
   "metadata": {},
   "source": [
    "Посмотрим сколько пользователей из каждой группы совершило каждое событие:"
   ]
  },
  {
   "cell_type": "code",
   "execution_count": 42,
   "metadata": {},
   "outputs": [
    {
     "data": {
      "text/html": [
       "<div>\n",
       "<style scoped>\n",
       "    .dataframe tbody tr th:only-of-type {\n",
       "        vertical-align: middle;\n",
       "    }\n",
       "\n",
       "    .dataframe tbody tr th {\n",
       "        vertical-align: top;\n",
       "    }\n",
       "\n",
       "    .dataframe thead th {\n",
       "        text-align: right;\n",
       "    }\n",
       "</style>\n",
       "<table border=\"1\" class=\"dataframe\">\n",
       "  <thead>\n",
       "    <tr style=\"text-align: right;\">\n",
       "      <th>exp_id</th>\n",
       "      <th>246</th>\n",
       "      <th>247</th>\n",
       "      <th>248</th>\n",
       "    </tr>\n",
       "    <tr>\n",
       "      <th>event_name</th>\n",
       "      <th></th>\n",
       "      <th></th>\n",
       "      <th></th>\n",
       "    </tr>\n",
       "  </thead>\n",
       "  <tbody>\n",
       "    <tr>\n",
       "      <th>CartScreenAppear</th>\n",
       "      <td>1266</td>\n",
       "      <td>1238</td>\n",
       "      <td>1230</td>\n",
       "    </tr>\n",
       "    <tr>\n",
       "      <th>MainScreenAppear</th>\n",
       "      <td>2450</td>\n",
       "      <td>2476</td>\n",
       "      <td>2493</td>\n",
       "    </tr>\n",
       "    <tr>\n",
       "      <th>OffersScreenAppear</th>\n",
       "      <td>1542</td>\n",
       "      <td>1520</td>\n",
       "      <td>1531</td>\n",
       "    </tr>\n",
       "    <tr>\n",
       "      <th>PaymentScreenSuccessful</th>\n",
       "      <td>1200</td>\n",
       "      <td>1158</td>\n",
       "      <td>1181</td>\n",
       "    </tr>\n",
       "  </tbody>\n",
       "</table>\n",
       "</div>"
      ],
      "text/plain": [
       "exp_id                    246   247   248\n",
       "event_name                               \n",
       "CartScreenAppear         1266  1238  1230\n",
       "MainScreenAppear         2450  2476  2493\n",
       "OffersScreenAppear       1542  1520  1531\n",
       "PaymentScreenSuccessful  1200  1158  1181"
      ]
     },
     "execution_count": 42,
     "metadata": {},
     "output_type": "execute_result"
    }
   ],
   "source": [
    "exp_table = (data_full\n",
    "             .pivot_table(index='event_name', columns='exp_id', values='device_id_hash', aggfunc='nunique')\n",
    "            )\n",
    "exp_table"
   ]
  },
  {
   "cell_type": "markdown",
   "metadata": {},
   "source": [
    "Теперь для наглядности построим воронку пользователей по событиям, разделенную на группы:"
   ]
  },
  {
   "cell_type": "code",
   "execution_count": 43,
   "metadata": {},
   "outputs": [
    {
     "data": {
      "image/png": "[encoded data removed]",
      "text/plain": [
       "<Figure size 1440x504 with 1 Axes>"
      ]
     },
     "metadata": {
      "needs_background": "light"
     },
     "output_type": "display_data"
    }
   ],
   "source": [
    "plt.figure(figsize = (20, 7))\n",
    "sorting = (events\n",
    "           .query('event_name != \"Tutorial\"')\n",
    "           .sort_values('users_unique', ascending = False)\n",
    "           .reset_index(drop = True)['event_name']\n",
    "          )\n",
    "ax = sns.barplot(y = 'event_name', x = 'users_unique', order = sorting, hue = 'exp_id', data = event_pivot)\n",
    "ax.set_title('Воронка пользователей по группам')\n",
    "for i in ax.patches:\n",
    "    if i.get_width() > 9000:\n",
    "        ax.text(i.get_width()-2500, i.get_y()+0.2, \n",
    "                str(int(i.get_width())), fontsize=14, color='white')\n",
    "    else:\n",
    "        ax.text(i.get_width()+30, i.get_y()+0.2, \n",
    "                str(int(i.get_width())), fontsize=14, color='black')\n",
    "plt.show()"
   ]
  },
  {
   "cell_type": "markdown",
   "metadata": {},
   "source": [
    "Самое популярное событие у пользователей всех групп - `MainScreenAppear`. "
   ]
  },
  {
   "cell_type": "markdown",
   "metadata": {},
   "source": [
    "Создадим функцию, которая поможет посчитать статистическую значимость между группами."
   ]
  },
  {
   "cell_type": "markdown",
   "metadata": {},
   "source": [
    "Определим критический уровень статистической значимости как 0,05.\n",
    "\n",
    "Озвучим гипотезы:\n",
    "\n",
    "H0: \"Между экспериментальными группами нет статистически значимой разницы\".\n",
    "\n",
    "H1: \"Между экспериментальными группами есть статистически значимая разница\"."
   ]
  },
  {
   "cell_type": "code",
   "execution_count": 44,
   "metadata": {},
   "outputs": [],
   "source": [
    "def ab_test(df, exp_groups, alpha):\n",
    "    #найдем уникальных пользователей в каждой группе\n",
    "    users = [df.query('exp_id == @group_number')['device_id_hash'].nunique() for group_number in exp_groups]\n",
    "    #перебираем все экспериментальные группы для каждого события, считаем количество пользователей и долю\n",
    "    for event in df.event_name.unique():\n",
    "        events = [df.query('exp_id == %d and event_name == \"%s\"' % (group_number, event))['device_id_hash'].nunique() for group_number in exp_groups]\n",
    "        # сравниваем кол-во уникальных юзеров на каждом шаге группы к кол-ву уникальных юзеров в этой группе всего\n",
    "        p1 = events[0] / users[0] #считаем долю для 1 группы\n",
    "        p2 = events[1] / users[1] #считаем долю для 2 группы\n",
    "        \n",
    "        p_combined = sum(events) / sum(users) \n",
    "        \n",
    "        difference = p1 - p2 # разница в датасетах\n",
    "        \n",
    "        z_value = difference / mth.sqrt(\n",
    "            p_combined * (1 - p_combined) * (1 / users[0] + 1 / users[1]) #считаем z-value, которая покажет, насколько она далека от среднего значения точки данных\n",
    "        )\n",
    "        \n",
    "        distr = st.norm(0, 1) #распределение\n",
    "        p_value = (1 - distr.cdf(abs(z_value))) * 2 #считаем p-value\n",
    "        \n",
    "        print(event)\n",
    "        print(p1, p2)\n",
    "        print('p-значение: ', p_value)\n",
    "        #сравниваем p-value и alpha\n",
    "        if p_value < alpha:\n",
    "            print('Отвергаем нулевую гипотезу по событию %s: между долями есть значимая разница' % (event))\n",
    "        else:\n",
    "            print('Не получилось отвергнуть нулевую гипотезу по событию %s: нет оснований считать доли разными' % (event))\n",
    "            \n",
    "        print('---')\n",
    "        print(' ')"
   ]
  },
  {
   "cell_type": "markdown",
   "metadata": {},
   "source": [
    "Посмотрим на события в 246 и 247 группах:"
   ]
  },
  {
   "cell_type": "code",
   "execution_count": 45,
   "metadata": {},
   "outputs": [
    {
     "name": "stdout",
     "output_type": "stream",
     "text": [
      "MainScreenAppear\n",
      "0.9867096254530809 0.9856687898089171\n",
      "p-значение:  0.7526703436483038\n",
      "Не получилось отвергнуть нулевую гипотезу по событию MainScreenAppear: нет оснований считать доли разными\n",
      "---\n",
      " \n",
      "OffersScreenAppear\n",
      "0.6210229561014902 0.6050955414012739\n",
      "p-значение:  0.24786096925282264\n",
      "Не получилось отвергнуть нулевую гипотезу по событию OffersScreenAppear: нет оснований считать доли разными\n",
      "---\n",
      " \n",
      "CartScreenAppear\n",
      "0.5098670962545309 0.4928343949044586\n",
      "p-значение:  0.22867643757335676\n",
      "Не получилось отвергнуть нулевую гипотезу по событию CartScreenAppear: нет оснований считать доли разными\n",
      "---\n",
      " \n",
      "PaymentScreenSuccessful\n",
      "0.4832863471606927 0.4609872611464968\n",
      "p-значение:  0.11446627829276612\n",
      "Не получилось отвергнуть нулевую гипотезу по событию PaymentScreenSuccessful: нет оснований считать доли разными\n",
      "---\n",
      " \n"
     ]
    }
   ],
   "source": [
    "ab_test(data_full, [246, 247], 0.05)"
   ]
  },
  {
   "cell_type": "markdown",
   "metadata": {},
   "source": [
    "Различия между контрольными группами 246 и 247 статистически не значимы для всех событий. Можно сделать вывод, что разбиение на группы прошло верно и, поэтому, можно делать сравнение любой из этих групп с тестовой 248."
   ]
  },
  {
   "cell_type": "markdown",
   "metadata": {},
   "source": [
    "Аналогично поступим с группой с изменённым шрифтом. Сравним результаты с каждой из контрольных групп в отдельности по каждому событию. Сравним результаты с объединённой контрольной группой."
   ]
  },
  {
   "cell_type": "markdown",
   "metadata": {},
   "source": [
    "Посмотрим на события в 246 и 248 группах:"
   ]
  },
  {
   "cell_type": "code",
   "execution_count": 46,
   "metadata": {},
   "outputs": [
    {
     "name": "stdout",
     "output_type": "stream",
     "text": [
      "MainScreenAppear\n",
      "0.9867096254530809 0.9834319526627219\n",
      "p-значение:  0.3387114076159288\n",
      "Не получилось отвергнуть нулевую гипотезу по событию MainScreenAppear: нет оснований считать доли разными\n",
      "---\n",
      " \n",
      "OffersScreenAppear\n",
      "0.6210229561014902 0.6039447731755424\n",
      "p-значение:  0.21442476639710506\n",
      "Не получилось отвергнуть нулевую гипотезу по событию OffersScreenAppear: нет оснований считать доли разными\n",
      "---\n",
      " \n",
      "CartScreenAppear\n",
      "0.5098670962545309 0.48520710059171596\n",
      "p-значение:  0.08067367598823139\n",
      "Не получилось отвергнуть нулевую гипотезу по событию CartScreenAppear: нет оснований считать доли разными\n",
      "---\n",
      " \n",
      "PaymentScreenSuccessful\n",
      "0.4832863471606927 0.4658777120315582\n",
      "p-значение:  0.21693033984516674\n",
      "Не получилось отвергнуть нулевую гипотезу по событию PaymentScreenSuccessful: нет оснований считать доли разными\n",
      "---\n",
      " \n"
     ]
    }
   ],
   "source": [
    "ab_test(data_full, [246, 248], 0.05)"
   ]
  },
  {
   "cell_type": "markdown",
   "metadata": {},
   "source": [
    "Различия между группами 246 и 248 статистически не значимы для всех событий. Но мы видим, что p-value намного выше критерия значимости (0.05), что говорит о высокой вероятности различий между показателями, которые могли появиться случайно из-за выброса в данных или аномалий."
   ]
  },
  {
   "cell_type": "markdown",
   "metadata": {},
   "source": [
    "Посмотрим на события в 247 и 248 группах:"
   ]
  },
  {
   "cell_type": "code",
   "execution_count": 47,
   "metadata": {},
   "outputs": [
    {
     "name": "stdout",
     "output_type": "stream",
     "text": [
      "MainScreenAppear\n",
      "0.9856687898089171 0.9834319526627219\n",
      "p-значение:  0.5194964354051703\n",
      "Не получилось отвергнуть нулевую гипотезу по событию MainScreenAppear: нет оснований считать доли разными\n",
      "---\n",
      " \n",
      "OffersScreenAppear\n",
      "0.6050955414012739 0.6039447731755424\n",
      "p-значение:  0.9333751305879443\n",
      "Не получилось отвергнуть нулевую гипотезу по событию OffersScreenAppear: нет оснований считать доли разными\n",
      "---\n",
      " \n",
      "CartScreenAppear\n",
      "0.4928343949044586 0.48520710059171596\n",
      "p-значение:  0.5878284605111943\n",
      "Не получилось отвергнуть нулевую гипотезу по событию CartScreenAppear: нет оснований считать доли разными\n",
      "---\n",
      " \n",
      "PaymentScreenSuccessful\n",
      "0.4609872611464968 0.4658777120315582\n",
      "p-значение:  0.7275718682261119\n",
      "Не получилось отвергнуть нулевую гипотезу по событию PaymentScreenSuccessful: нет оснований считать доли разными\n",
      "---\n",
      " \n"
     ]
    }
   ],
   "source": [
    "ab_test(data_full, [247, 248], 0.05)"
   ]
  },
  {
   "cell_type": "markdown",
   "metadata": {},
   "source": [
    "Схожая картина с предыдущим экспериментом, поэтому можно считать, что группы 247 и 248 не имеют различий."
   ]
  },
  {
   "cell_type": "markdown",
   "metadata": {},
   "source": [
    "Объединим две контрольные группы в одну:"
   ]
  },
  {
   "cell_type": "code",
   "execution_count": 48,
   "metadata": {},
   "outputs": [
    {
     "data": {
      "text/plain": [
       "246    155669\n",
       "248     84213\n",
       "Name: exp_id, dtype: int64"
      ]
     },
     "execution_count": 48,
     "metadata": {},
     "output_type": "execute_result"
    }
   ],
   "source": [
    "group_merge = data_full.copy()\n",
    "group_merge[\"exp_id\"].replace({247: 246}, inplace = True)\n",
    "group_merge[\"exp_id\"].value_counts()"
   ]
  },
  {
   "cell_type": "code",
   "execution_count": 49,
   "metadata": {},
   "outputs": [
    {
     "data": {
      "text/plain": [
       "249    155669\n",
       "248     84213\n",
       "Name: exp_id, dtype: int64"
      ]
     },
     "execution_count": 49,
     "metadata": {},
     "output_type": "execute_result"
    }
   ],
   "source": [
    "group_merge[\"exp_id\"] = group_merge[\"exp_id\"].replace({246: 249})\n",
    "group_merge[\"exp_id\"].value_counts()"
   ]
  },
  {
   "cell_type": "markdown",
   "metadata": {},
   "source": [
    "Теперь посмотрим на события в объединенной контрольной группе 246 и 248 группах:"
   ]
  },
  {
   "cell_type": "code",
   "execution_count": 50,
   "metadata": {},
   "outputs": [
    {
     "name": "stdout",
     "output_type": "stream",
     "text": [
      "MainScreenAppear\n",
      "0.9861861861861861 0.9834319526627219\n",
      "p-значение:  0.3486684291093256\n",
      "Не получилось отвергнуть нулевую гипотезу по событию MainScreenAppear: нет оснований считать доли разными\n",
      "---\n",
      " \n",
      "OffersScreenAppear\n",
      "0.613013013013013 0.6039447731755424\n",
      "p-значение:  0.44582745409482394\n",
      "Не получилось отвергнуть нулевую гипотезу по событию OffersScreenAppear: нет оснований считать доли разными\n",
      "---\n",
      " \n",
      "CartScreenAppear\n",
      "0.5013013013013013 0.48520710059171596\n",
      "p-значение:  0.18683558686831558\n",
      "Не получилось отвергнуть нулевую гипотезу по событию CartScreenAppear: нет оснований считать доли разными\n",
      "---\n",
      " \n",
      "PaymentScreenSuccessful\n",
      "0.4720720720720721 0.4658777120315582\n",
      "p-значение:  0.6107918742187335\n",
      "Не получилось отвергнуть нулевую гипотезу по событию PaymentScreenSuccessful: нет оснований считать доли разными\n",
      "---\n",
      " \n"
     ]
    }
   ],
   "source": [
    "ab_test(group_merge, [249, 248], 0.05)"
   ]
  },
  {
   "cell_type": "markdown",
   "metadata": {},
   "source": [
    "Различия между объединенной контрольной группой 249 и группой 248 статистически не значимы для всех событий. P-value больше alpha, откуда следует, что результат случаен, т.к. попадает в интервал 3 сигмы. Т.е. от 0.05 до 1."
   ]
  },
  {
   "cell_type": "markdown",
   "metadata": {},
   "source": [
    "<b>Какой уровень значимости вы выбрали при проверке статистических гипотез выше? Посчитайте, сколько проверок статистических гипотез вы сделали. При уровне значимости 0.1 каждый десятый раз можно получать ложный результат. Какой уровень значимости стоит применить? Если вы хотите изменить его, проделайте предыдущие пункты и проверьте свои выводы.</b>"
   ]
  },
  {
   "cell_type": "markdown",
   "metadata": {},
   "source": [
    "Мы выбрали критический уровень статистической значимости alpha = 0.05.\n",
    "\n",
    "Так как в нашем эксперименте 4 пары групп и 4 этапа в воронке, число гипотез равно 16. Для уменьшения вероятности ошибки первого рода (ложнопозтивного результата), которая увеличивается с каждой новой проверкой гипотезы в нашем множественном сравнении, необходимо применить поправку Бонферрони.\n",
    "\n",
    "Для расчета поправки следует разделить наш уровень значимости (0,05) на число сравнений (16).\n",
    "\n",
    "С учетом поправки, нашу alpha следовало бы уменьшить до: 0.05/16 = 0.003."
   ]
  },
  {
   "cell_type": "markdown",
   "metadata": {},
   "source": [
    "Теперь проверим те же гипотезы, но с уровнем значимости 0.003:"
   ]
  },
  {
   "cell_type": "markdown",
   "metadata": {},
   "source": [
    "Смотрим на события в 246 и 248 группах:"
   ]
  },
  {
   "cell_type": "code",
   "execution_count": 51,
   "metadata": {},
   "outputs": [
    {
     "name": "stdout",
     "output_type": "stream",
     "text": [
      "MainScreenAppear\n",
      "0.9867096254530809 0.9834319526627219\n",
      "p-значение:  0.3387114076159288\n",
      "Не получилось отвергнуть нулевую гипотезу по событию MainScreenAppear: нет оснований считать доли разными\n",
      "---\n",
      " \n",
      "OffersScreenAppear\n",
      "0.6210229561014902 0.6039447731755424\n",
      "p-значение:  0.21442476639710506\n",
      "Не получилось отвергнуть нулевую гипотезу по событию OffersScreenAppear: нет оснований считать доли разными\n",
      "---\n",
      " \n",
      "CartScreenAppear\n",
      "0.5098670962545309 0.48520710059171596\n",
      "p-значение:  0.08067367598823139\n",
      "Не получилось отвергнуть нулевую гипотезу по событию CartScreenAppear: нет оснований считать доли разными\n",
      "---\n",
      " \n",
      "PaymentScreenSuccessful\n",
      "0.4832863471606927 0.4658777120315582\n",
      "p-значение:  0.21693033984516674\n",
      "Не получилось отвергнуть нулевую гипотезу по событию PaymentScreenSuccessful: нет оснований считать доли разными\n",
      "---\n",
      " \n"
     ]
    }
   ],
   "source": [
    "ab_test(data_full, [246, 248], 0.003)"
   ]
  },
  {
   "cell_type": "markdown",
   "metadata": {},
   "source": [
    "Различия между 246 и 248 группами для всех событий статистически не значимы."
   ]
  },
  {
   "cell_type": "markdown",
   "metadata": {},
   "source": [
    "Смотрим на события в 247 и 248 группах:"
   ]
  },
  {
   "cell_type": "code",
   "execution_count": 52,
   "metadata": {},
   "outputs": [
    {
     "name": "stdout",
     "output_type": "stream",
     "text": [
      "MainScreenAppear\n",
      "0.9856687898089171 0.9834319526627219\n",
      "p-значение:  0.5194964354051703\n",
      "Не получилось отвергнуть нулевую гипотезу по событию MainScreenAppear: нет оснований считать доли разными\n",
      "---\n",
      " \n",
      "OffersScreenAppear\n",
      "0.6050955414012739 0.6039447731755424\n",
      "p-значение:  0.9333751305879443\n",
      "Не получилось отвергнуть нулевую гипотезу по событию OffersScreenAppear: нет оснований считать доли разными\n",
      "---\n",
      " \n",
      "CartScreenAppear\n",
      "0.4928343949044586 0.48520710059171596\n",
      "p-значение:  0.5878284605111943\n",
      "Не получилось отвергнуть нулевую гипотезу по событию CartScreenAppear: нет оснований считать доли разными\n",
      "---\n",
      " \n",
      "PaymentScreenSuccessful\n",
      "0.4609872611464968 0.4658777120315582\n",
      "p-значение:  0.7275718682261119\n",
      "Не получилось отвергнуть нулевую гипотезу по событию PaymentScreenSuccessful: нет оснований считать доли разными\n",
      "---\n",
      " \n"
     ]
    }
   ],
   "source": [
    "ab_test(data_full, [247, 248], 0.003)"
   ]
  },
  {
   "cell_type": "markdown",
   "metadata": {},
   "source": [
    "Различия между 247 и 248 группами для всех событий статистически не значимы."
   ]
  },
  {
   "cell_type": "markdown",
   "metadata": {},
   "source": [
    "Теперь посмотрим на события в объединенной группе и группе 248:"
   ]
  },
  {
   "cell_type": "code",
   "execution_count": 53,
   "metadata": {},
   "outputs": [
    {
     "name": "stdout",
     "output_type": "stream",
     "text": [
      "MainScreenAppear\n",
      "0.9861861861861861 0.9834319526627219\n",
      "p-значение:  0.3486684291093256\n",
      "Не получилось отвергнуть нулевую гипотезу по событию MainScreenAppear: нет оснований считать доли разными\n",
      "---\n",
      " \n",
      "OffersScreenAppear\n",
      "0.613013013013013 0.6039447731755424\n",
      "p-значение:  0.44582745409482394\n",
      "Не получилось отвергнуть нулевую гипотезу по событию OffersScreenAppear: нет оснований считать доли разными\n",
      "---\n",
      " \n",
      "CartScreenAppear\n",
      "0.5013013013013013 0.48520710059171596\n",
      "p-значение:  0.18683558686831558\n",
      "Не получилось отвергнуть нулевую гипотезу по событию CartScreenAppear: нет оснований считать доли разными\n",
      "---\n",
      " \n",
      "PaymentScreenSuccessful\n",
      "0.4720720720720721 0.4658777120315582\n",
      "p-значение:  0.6107918742187335\n",
      "Не получилось отвергнуть нулевую гипотезу по событию PaymentScreenSuccessful: нет оснований считать доли разными\n",
      "---\n",
      " \n"
     ]
    }
   ],
   "source": [
    "ab_test(group_merge, [249, 248], 0.003)"
   ]
  },
  {
   "cell_type": "markdown",
   "metadata": {},
   "source": [
    "Различия между объединенной группой 249 и 248 для всех событий статистически не значимы."
   ]
  },
  {
   "cell_type": "markdown",
   "metadata": {},
   "source": [
    "Все тесты превышают указанную поправку, поэтому у нас нет оснований отвергать нулевую гипотезу."
   ]
  },
  {
   "cell_type": "markdown",
   "metadata": {},
   "source": [
    "Вывод:\n",
    "\n",
    "С учетом проделанных расчетов можно сделать вывод, что изменение шрифта сильно не повлияет на пользовательское поведение. А вот над главной страницей нужно поработать и выяснить, почему такой большой процент пользователей не идет дальше. Подробнее изучить устройства, с которых пользователи приходят, версию приложения, географию пользователя. Отделу тестирования посмотреть на баги, отделу UX/UI - на экспертизу."
   ]
  },
  {
   "cell_type": "code",
   "execution_count": null,
   "metadata": {},
   "outputs": [],
   "source": []
  }
 ],
 "metadata": {
  "ExecuteTimeLog": [
   {
    "duration": 46,
    "start_time": "2023-01-01T13:25:21.766Z"
   },
   {
    "duration": 383,
    "start_time": "2023-01-01T13:25:24.736Z"
   },
   {
    "duration": 760,
    "start_time": "2023-01-01T13:25:25.636Z"
   },
   {
    "duration": 20,
    "start_time": "2023-01-01T13:33:35.046Z"
   },
   {
    "duration": 84,
    "start_time": "2023-01-01T13:34:26.586Z"
   },
   {
    "duration": 62,
    "start_time": "2023-01-01T13:39:08.395Z"
   },
   {
    "duration": 49,
    "start_time": "2023-01-01T13:39:23.456Z"
   },
   {
    "duration": 1798,
    "start_time": "2023-01-01T13:39:58.675Z"
   },
   {
    "duration": 1251,
    "start_time": "2023-01-01T13:40:32.366Z"
   },
   {
    "duration": 179,
    "start_time": "2023-01-01T13:40:51.017Z"
   },
   {
    "duration": 41,
    "start_time": "2023-01-01T13:41:06.226Z"
   },
   {
    "duration": 176,
    "start_time": "2023-01-01T13:41:11.196Z"
   },
   {
    "duration": 16,
    "start_time": "2023-01-01T13:42:07.597Z"
   },
   {
    "duration": 10,
    "start_time": "2023-01-01T13:45:43.666Z"
   },
   {
    "duration": 55,
    "start_time": "2023-01-01T13:47:06.447Z"
   },
   {
    "duration": 46,
    "start_time": "2023-01-01T13:47:32.266Z"
   },
   {
    "duration": 14,
    "start_time": "2023-01-01T13:47:51.466Z"
   },
   {
    "duration": 52,
    "start_time": "2023-01-01T13:52:01.876Z"
   },
   {
    "duration": 108,
    "start_time": "2023-01-01T13:52:09.447Z"
   },
   {
    "duration": 366,
    "start_time": "2023-01-01T14:01:04.216Z"
   },
   {
    "duration": 41,
    "start_time": "2023-01-01T14:04:43.166Z"
   },
   {
    "duration": 6,
    "start_time": "2023-01-01T14:04:59.437Z"
   },
   {
    "duration": 13,
    "start_time": "2023-01-01T14:05:07.866Z"
   },
   {
    "duration": 382,
    "start_time": "2023-01-01T14:06:45.036Z"
   },
   {
    "duration": 12,
    "start_time": "2023-01-01T14:07:50.976Z"
   },
   {
    "duration": 4,
    "start_time": "2023-01-01T14:09:16.787Z"
   },
   {
    "duration": 24,
    "start_time": "2023-01-01T14:09:27.067Z"
   },
   {
    "duration": 24,
    "start_time": "2023-01-01T14:09:46.147Z"
   },
   {
    "duration": 573,
    "start_time": "2023-01-01T14:10:11.476Z"
   },
   {
    "duration": 608,
    "start_time": "2023-01-01T14:10:34.288Z"
   },
   {
    "duration": 407,
    "start_time": "2023-01-01T14:10:51.906Z"
   },
   {
    "duration": 4,
    "start_time": "2023-01-01T14:11:19.906Z"
   },
   {
    "duration": 23,
    "start_time": "2023-01-01T14:11:29.106Z"
   },
   {
    "duration": 7,
    "start_time": "2023-01-01T14:11:57.894Z"
   },
   {
    "duration": 509,
    "start_time": "2023-01-01T14:12:05.796Z"
   },
   {
    "duration": 451,
    "start_time": "2023-01-01T14:22:39.627Z"
   },
   {
    "duration": 388,
    "start_time": "2023-01-01T14:23:02.317Z"
   },
   {
    "duration": 195,
    "start_time": "2023-01-01T14:23:02.708Z"
   },
   {
    "duration": 17,
    "start_time": "2023-01-01T14:23:02.904Z"
   },
   {
    "duration": 60,
    "start_time": "2023-01-01T14:23:02.922Z"
   },
   {
    "duration": 139,
    "start_time": "2023-01-01T14:23:02.984Z"
   },
   {
    "duration": 13,
    "start_time": "2023-01-01T14:23:03.124Z"
   },
   {
    "duration": 26,
    "start_time": "2023-01-01T14:23:03.139Z"
   },
   {
    "duration": 11,
    "start_time": "2023-01-01T14:23:03.167Z"
   },
   {
    "duration": 17,
    "start_time": "2023-01-01T14:23:03.179Z"
   },
   {
    "duration": 12,
    "start_time": "2023-01-01T14:24:19.826Z"
   },
   {
    "duration": 45,
    "start_time": "2023-01-01T14:24:37.308Z"
   },
   {
    "duration": 58,
    "start_time": "2023-01-01T14:24:39.047Z"
   },
   {
    "duration": 499,
    "start_time": "2023-01-01T14:24:56.427Z"
   },
   {
    "duration": 402,
    "start_time": "2023-01-01T14:25:25.596Z"
   },
   {
    "duration": 187,
    "start_time": "2023-01-01T14:25:26.000Z"
   },
   {
    "duration": 15,
    "start_time": "2023-01-01T14:25:26.188Z"
   },
   {
    "duration": 64,
    "start_time": "2023-01-01T14:25:26.204Z"
   },
   {
    "duration": 151,
    "start_time": "2023-01-01T14:25:26.270Z"
   },
   {
    "duration": 17,
    "start_time": "2023-01-01T14:25:26.424Z"
   },
   {
    "duration": 21,
    "start_time": "2023-01-01T14:25:26.443Z"
   },
   {
    "duration": 14,
    "start_time": "2023-01-01T14:25:26.466Z"
   },
   {
    "duration": 39,
    "start_time": "2023-01-01T14:25:26.482Z"
   },
   {
    "duration": 11,
    "start_time": "2023-01-01T14:25:26.523Z"
   },
   {
    "duration": 44,
    "start_time": "2023-01-01T14:26:11.046Z"
   },
   {
    "duration": 408,
    "start_time": "2023-01-01T14:26:26.796Z"
   },
   {
    "duration": 531,
    "start_time": "2023-01-01T14:26:27.206Z"
   },
   {
    "duration": 15,
    "start_time": "2023-01-01T14:26:27.739Z"
   },
   {
    "duration": 60,
    "start_time": "2023-01-01T14:26:27.756Z"
   },
   {
    "duration": 120,
    "start_time": "2023-01-01T14:26:27.818Z"
   },
   {
    "duration": 12,
    "start_time": "2023-01-01T14:26:27.940Z"
   },
   {
    "duration": 29,
    "start_time": "2023-01-01T14:26:27.953Z"
   },
   {
    "duration": 41,
    "start_time": "2023-01-01T14:26:52.505Z"
   },
   {
    "duration": 6,
    "start_time": "2023-01-01T14:26:54.075Z"
   },
   {
    "duration": 358,
    "start_time": "2023-01-01T14:26:58.546Z"
   },
   {
    "duration": 513,
    "start_time": "2023-01-01T14:27:00.319Z"
   },
   {
    "duration": 16,
    "start_time": "2023-01-01T14:27:03.695Z"
   },
   {
    "duration": 63,
    "start_time": "2023-01-01T14:27:05.929Z"
   },
   {
    "duration": 121,
    "start_time": "2023-01-01T14:27:08.084Z"
   },
   {
    "duration": 13,
    "start_time": "2023-01-01T14:27:10.405Z"
   },
   {
    "duration": 18,
    "start_time": "2023-01-01T14:27:13.246Z"
   },
   {
    "duration": 42,
    "start_time": "2023-01-01T14:27:20.564Z"
   },
   {
    "duration": 7,
    "start_time": "2023-01-01T14:27:55.393Z"
   },
   {
    "duration": 7,
    "start_time": "2023-01-01T14:27:58.716Z"
   },
   {
    "duration": 362,
    "start_time": "2023-01-01T14:28:14.948Z"
   },
   {
    "duration": 507,
    "start_time": "2023-01-01T14:28:15.312Z"
   },
   {
    "duration": 15,
    "start_time": "2023-01-01T14:28:15.820Z"
   },
   {
    "duration": 61,
    "start_time": "2023-01-01T14:28:15.837Z"
   },
   {
    "duration": 133,
    "start_time": "2023-01-01T14:28:15.901Z"
   },
   {
    "duration": 12,
    "start_time": "2023-01-01T14:28:16.035Z"
   },
   {
    "duration": 29,
    "start_time": "2023-01-01T14:28:16.049Z"
   },
   {
    "duration": 12,
    "start_time": "2023-01-01T14:28:16.080Z"
   },
   {
    "duration": 37,
    "start_time": "2023-01-01T14:28:16.093Z"
   },
   {
    "duration": 12,
    "start_time": "2023-01-01T14:28:16.131Z"
   },
   {
    "duration": 42,
    "start_time": "2023-01-01T14:28:41.113Z"
   },
   {
    "duration": 7,
    "start_time": "2023-01-01T14:28:57.385Z"
   },
   {
    "duration": 7,
    "start_time": "2023-01-01T14:29:05.453Z"
   },
   {
    "duration": 6,
    "start_time": "2023-01-01T14:29:07.086Z"
   },
   {
    "duration": 5,
    "start_time": "2023-01-01T14:29:07.916Z"
   },
   {
    "duration": 362,
    "start_time": "2023-01-01T14:29:15.845Z"
   },
   {
    "duration": 541,
    "start_time": "2023-01-01T14:29:16.209Z"
   },
   {
    "duration": 15,
    "start_time": "2023-01-01T14:29:16.751Z"
   },
   {
    "duration": 62,
    "start_time": "2023-01-01T14:29:16.768Z"
   },
   {
    "duration": 119,
    "start_time": "2023-01-01T14:29:16.832Z"
   },
   {
    "duration": 12,
    "start_time": "2023-01-01T14:29:16.953Z"
   },
   {
    "duration": 20,
    "start_time": "2023-01-01T14:29:16.967Z"
   },
   {
    "duration": 9,
    "start_time": "2023-01-01T14:29:16.989Z"
   },
   {
    "duration": 21,
    "start_time": "2023-01-01T14:29:17.012Z"
   },
   {
    "duration": 11,
    "start_time": "2023-01-01T14:29:17.034Z"
   },
   {
    "duration": 53,
    "start_time": "2023-01-01T14:30:04.065Z"
   },
   {
    "duration": 65,
    "start_time": "2023-01-01T14:30:15.808Z"
   },
   {
    "duration": 17,
    "start_time": "2023-01-01T14:30:30.175Z"
   },
   {
    "duration": 19,
    "start_time": "2023-01-01T14:30:41.365Z"
   },
   {
    "duration": 854,
    "start_time": "2023-01-01T14:31:57.825Z"
   },
   {
    "duration": 177,
    "start_time": "2023-01-01T14:32:12.875Z"
   },
   {
    "duration": 752,
    "start_time": "2023-01-01T14:32:25.173Z"
   },
   {
    "duration": 415,
    "start_time": "2023-01-01T14:32:41.788Z"
   },
   {
    "duration": 199,
    "start_time": "2023-01-01T14:32:42.205Z"
   },
   {
    "duration": 16,
    "start_time": "2023-01-01T14:32:42.406Z"
   },
   {
    "duration": 60,
    "start_time": "2023-01-01T14:32:42.423Z"
   },
   {
    "duration": 131,
    "start_time": "2023-01-01T14:32:42.486Z"
   },
   {
    "duration": 13,
    "start_time": "2023-01-01T14:32:42.619Z"
   },
   {
    "duration": 19,
    "start_time": "2023-01-01T14:32:42.633Z"
   },
   {
    "duration": 7,
    "start_time": "2023-01-01T14:32:42.653Z"
   },
   {
    "duration": 85,
    "start_time": "2023-01-01T14:32:42.661Z"
   },
   {
    "duration": 0,
    "start_time": "2023-01-01T14:32:42.748Z"
   },
   {
    "duration": 561,
    "start_time": "2023-01-01T14:33:03.886Z"
   },
   {
    "duration": 380,
    "start_time": "2023-01-01T14:34:20.318Z"
   },
   {
    "duration": 189,
    "start_time": "2023-01-01T14:34:20.699Z"
   },
   {
    "duration": 15,
    "start_time": "2023-01-01T14:34:20.889Z"
   },
   {
    "duration": 57,
    "start_time": "2023-01-01T14:34:20.911Z"
   },
   {
    "duration": 123,
    "start_time": "2023-01-01T14:34:20.970Z"
   },
   {
    "duration": 17,
    "start_time": "2023-01-01T14:34:21.095Z"
   },
   {
    "duration": 15,
    "start_time": "2023-01-01T14:34:21.114Z"
   },
   {
    "duration": 7,
    "start_time": "2023-01-01T14:34:21.131Z"
   },
   {
    "duration": 18,
    "start_time": "2023-01-01T14:34:21.139Z"
   },
   {
    "duration": 12,
    "start_time": "2023-01-01T14:34:21.158Z"
   },
   {
    "duration": 43,
    "start_time": "2023-01-01T14:35:40.737Z"
   },
   {
    "duration": 1446,
    "start_time": "2023-01-01T14:35:58.567Z"
   },
   {
    "duration": 19,
    "start_time": "2023-01-01T14:36:00.127Z"
   },
   {
    "duration": 13,
    "start_time": "2023-01-01T14:36:07.637Z"
   },
   {
    "duration": 43,
    "start_time": "2023-01-01T18:48:38.479Z"
   },
   {
    "duration": 358,
    "start_time": "2023-01-01T18:48:47.656Z"
   },
   {
    "duration": 540,
    "start_time": "2023-01-01T18:48:48.016Z"
   },
   {
    "duration": 14,
    "start_time": "2023-01-01T18:48:48.557Z"
   },
   {
    "duration": 57,
    "start_time": "2023-01-01T18:48:48.573Z"
   },
   {
    "duration": 115,
    "start_time": "2023-01-01T18:48:48.632Z"
   },
   {
    "duration": 12,
    "start_time": "2023-01-01T18:48:48.749Z"
   },
   {
    "duration": 16,
    "start_time": "2023-01-01T18:48:48.763Z"
   },
   {
    "duration": 6,
    "start_time": "2023-01-01T18:48:48.780Z"
   },
   {
    "duration": 39,
    "start_time": "2023-01-01T18:48:48.788Z"
   },
   {
    "duration": 10,
    "start_time": "2023-01-01T18:48:48.829Z"
   },
   {
    "duration": 7,
    "start_time": "2023-01-01T18:50:04.771Z"
   },
   {
    "duration": 92,
    "start_time": "2023-01-01T18:51:31.631Z"
   },
   {
    "duration": 48,
    "start_time": "2023-01-01T18:52:12.452Z"
   },
   {
    "duration": 353,
    "start_time": "2023-01-01T19:10:19.059Z"
   },
   {
    "duration": 180,
    "start_time": "2023-01-01T19:10:19.413Z"
   },
   {
    "duration": 18,
    "start_time": "2023-01-01T19:10:19.595Z"
   },
   {
    "duration": 55,
    "start_time": "2023-01-01T19:10:19.615Z"
   },
   {
    "duration": 121,
    "start_time": "2023-01-01T19:10:19.672Z"
   },
   {
    "duration": 18,
    "start_time": "2023-01-01T19:10:19.795Z"
   },
   {
    "duration": 17,
    "start_time": "2023-01-01T19:10:19.815Z"
   },
   {
    "duration": 8,
    "start_time": "2023-01-01T19:10:19.833Z"
   },
   {
    "duration": 17,
    "start_time": "2023-01-01T19:10:19.842Z"
   },
   {
    "duration": 9,
    "start_time": "2023-01-01T19:10:19.861Z"
   },
   {
    "duration": 60,
    "start_time": "2023-01-01T19:15:56.821Z"
   },
   {
    "duration": 41,
    "start_time": "2023-01-01T19:16:09.571Z"
   },
   {
    "duration": 18,
    "start_time": "2023-01-01T19:16:38.760Z"
   },
   {
    "duration": 11,
    "start_time": "2023-01-01T19:16:42.519Z"
   },
   {
    "duration": 9,
    "start_time": "2023-01-01T19:18:18.858Z"
   },
   {
    "duration": 7,
    "start_time": "2023-01-01T19:19:01.012Z"
   },
   {
    "duration": 7,
    "start_time": "2023-01-01T19:19:12.561Z"
   },
   {
    "duration": 65,
    "start_time": "2023-01-01T19:19:21.131Z"
   },
   {
    "duration": 12,
    "start_time": "2023-01-01T19:19:28.422Z"
   },
   {
    "duration": 74,
    "start_time": "2023-01-01T19:26:54.452Z"
   },
   {
    "duration": 57,
    "start_time": "2023-01-01T19:27:06.196Z"
   },
   {
    "duration": 13,
    "start_time": "2023-01-01T19:27:56.320Z"
   },
   {
    "duration": 58,
    "start_time": "2023-01-01T19:29:48.812Z"
   },
   {
    "duration": 12,
    "start_time": "2023-01-01T19:29:50.642Z"
   },
   {
    "duration": 62,
    "start_time": "2023-01-01T19:29:57.552Z"
   },
   {
    "duration": 14,
    "start_time": "2023-01-01T19:30:03.762Z"
   },
   {
    "duration": 3,
    "start_time": "2023-01-01T19:30:43.180Z"
   },
   {
    "duration": 3,
    "start_time": "2023-01-01T19:30:50.062Z"
   },
   {
    "duration": 14,
    "start_time": "2023-01-01T19:32:20.512Z"
   },
   {
    "duration": 13,
    "start_time": "2023-01-01T19:32:29.132Z"
   },
   {
    "duration": 13,
    "start_time": "2023-01-01T19:32:42.412Z"
   },
   {
    "duration": 393,
    "start_time": "2023-01-01T20:17:01.015Z"
   },
   {
    "duration": 192,
    "start_time": "2023-01-01T20:17:01.411Z"
   },
   {
    "duration": 16,
    "start_time": "2023-01-01T20:17:01.605Z"
   },
   {
    "duration": 61,
    "start_time": "2023-01-01T20:17:01.622Z"
   },
   {
    "duration": 123,
    "start_time": "2023-01-01T20:17:01.685Z"
   },
   {
    "duration": 12,
    "start_time": "2023-01-01T20:17:01.812Z"
   },
   {
    "duration": 33,
    "start_time": "2023-01-01T20:17:01.826Z"
   },
   {
    "duration": 15,
    "start_time": "2023-01-01T20:17:01.860Z"
   },
   {
    "duration": 48,
    "start_time": "2023-01-01T20:17:01.877Z"
   },
   {
    "duration": 21,
    "start_time": "2023-01-01T20:17:01.926Z"
   },
   {
    "duration": 15,
    "start_time": "2023-01-01T20:17:01.948Z"
   },
   {
    "duration": 78,
    "start_time": "2023-01-01T20:17:01.964Z"
   },
   {
    "duration": 14,
    "start_time": "2023-01-01T20:17:02.044Z"
   },
   {
    "duration": 80,
    "start_time": "2023-01-01T20:17:02.060Z"
   },
   {
    "duration": 13,
    "start_time": "2023-01-01T20:17:02.141Z"
   },
   {
    "duration": 4,
    "start_time": "2023-01-01T20:17:02.156Z"
   },
   {
    "duration": 22,
    "start_time": "2023-01-01T20:17:02.161Z"
   },
   {
    "duration": 39,
    "start_time": "2023-01-01T20:17:02.185Z"
   },
   {
    "duration": 2,
    "start_time": "2023-01-01T20:17:19.897Z"
   },
   {
    "duration": 25,
    "start_time": "2023-01-01T20:17:22.227Z"
   },
   {
    "duration": 14,
    "start_time": "2023-01-01T20:17:23.157Z"
   },
   {
    "duration": 8,
    "start_time": "2023-01-01T20:17:52.555Z"
   },
   {
    "duration": 2,
    "start_time": "2023-01-01T20:17:55.032Z"
   },
   {
    "duration": 24,
    "start_time": "2023-01-01T20:17:55.987Z"
   },
   {
    "duration": 15,
    "start_time": "2023-01-01T20:17:58.557Z"
   },
   {
    "duration": 66,
    "start_time": "2023-01-01T20:18:33.007Z"
   },
   {
    "duration": 16,
    "start_time": "2023-01-01T20:18:34.377Z"
   },
   {
    "duration": 58,
    "start_time": "2023-01-01T20:18:51.197Z"
   },
   {
    "duration": 13,
    "start_time": "2023-01-01T20:18:53.744Z"
   },
   {
    "duration": 4,
    "start_time": "2023-01-01T20:18:56.897Z"
   },
   {
    "duration": 14,
    "start_time": "2023-01-01T20:19:00.657Z"
   },
   {
    "duration": 14,
    "start_time": "2023-01-01T20:19:01.927Z"
   },
   {
    "duration": 374,
    "start_time": "2023-01-01T20:19:11.618Z"
   },
   {
    "duration": 180,
    "start_time": "2023-01-01T20:19:11.994Z"
   },
   {
    "duration": 14,
    "start_time": "2023-01-01T20:19:12.176Z"
   },
   {
    "duration": 62,
    "start_time": "2023-01-01T20:19:12.193Z"
   },
   {
    "duration": 119,
    "start_time": "2023-01-01T20:19:12.256Z"
   },
   {
    "duration": 12,
    "start_time": "2023-01-01T20:19:12.377Z"
   },
   {
    "duration": 26,
    "start_time": "2023-01-01T20:19:12.390Z"
   },
   {
    "duration": 8,
    "start_time": "2023-01-01T20:19:12.417Z"
   },
   {
    "duration": 6,
    "start_time": "2023-01-01T20:19:12.427Z"
   },
   {
    "duration": 21,
    "start_time": "2023-01-01T20:19:12.434Z"
   },
   {
    "duration": 11,
    "start_time": "2023-01-01T20:19:12.456Z"
   },
   {
    "duration": 761,
    "start_time": "2023-01-01T20:19:12.469Z"
   },
   {
    "duration": 0,
    "start_time": "2023-01-01T20:19:13.231Z"
   },
   {
    "duration": 0,
    "start_time": "2023-01-01T20:19:13.233Z"
   },
   {
    "duration": 0,
    "start_time": "2023-01-01T20:19:13.233Z"
   },
   {
    "duration": 0,
    "start_time": "2023-01-01T20:19:13.234Z"
   },
   {
    "duration": 0,
    "start_time": "2023-01-01T20:19:13.235Z"
   },
   {
    "duration": 0,
    "start_time": "2023-01-01T20:19:13.236Z"
   },
   {
    "duration": 60,
    "start_time": "2023-01-01T20:19:27.968Z"
   },
   {
    "duration": 15,
    "start_time": "2023-01-01T20:19:30.418Z"
   },
   {
    "duration": 70,
    "start_time": "2023-01-01T20:19:50.998Z"
   },
   {
    "duration": 14,
    "start_time": "2023-01-01T20:19:52.688Z"
   },
   {
    "duration": 4,
    "start_time": "2023-01-01T20:19:54.478Z"
   },
   {
    "duration": 14,
    "start_time": "2023-01-01T20:19:56.139Z"
   },
   {
    "duration": 15,
    "start_time": "2023-01-01T20:19:56.978Z"
   },
   {
    "duration": 596,
    "start_time": "2023-01-01T20:21:36.368Z"
   },
   {
    "duration": 235,
    "start_time": "2023-01-01T20:23:38.516Z"
   },
   {
    "duration": 171,
    "start_time": "2023-01-01T20:23:52.128Z"
   },
   {
    "duration": 217,
    "start_time": "2023-01-01T20:24:00.046Z"
   },
   {
    "duration": 181,
    "start_time": "2023-01-01T20:24:06.208Z"
   },
   {
    "duration": 176,
    "start_time": "2023-01-01T20:28:20.947Z"
   },
   {
    "duration": 2,
    "start_time": "2023-01-01T20:32:34.679Z"
   },
   {
    "duration": 158,
    "start_time": "2023-01-01T20:32:46.646Z"
   },
   {
    "duration": 203,
    "start_time": "2023-01-01T20:32:56.398Z"
   },
   {
    "duration": 174,
    "start_time": "2023-01-01T20:33:46.299Z"
   },
   {
    "duration": 163,
    "start_time": "2023-01-01T20:33:58.428Z"
   },
   {
    "duration": 10,
    "start_time": "2023-01-01T20:35:32.029Z"
   },
   {
    "duration": 45,
    "start_time": "2023-01-01T20:35:39.338Z"
   },
   {
    "duration": 158,
    "start_time": "2023-01-01T20:35:43.409Z"
   },
   {
    "duration": 344,
    "start_time": "2023-01-01T20:44:33.380Z"
   },
   {
    "duration": 387,
    "start_time": "2023-01-01T20:44:39.730Z"
   },
   {
    "duration": 15,
    "start_time": "2023-01-01T20:44:48.979Z"
   },
   {
    "duration": 157,
    "start_time": "2023-01-01T20:44:59.409Z"
   },
   {
    "duration": 22,
    "start_time": "2023-01-01T20:45:04.760Z"
   },
   {
    "duration": 158,
    "start_time": "2023-01-01T20:45:08.750Z"
   },
   {
    "duration": 152,
    "start_time": "2023-01-01T20:45:26.670Z"
   },
   {
    "duration": 12,
    "start_time": "2023-01-01T20:45:38.829Z"
   },
   {
    "duration": 154,
    "start_time": "2023-01-01T20:45:40.160Z"
   },
   {
    "duration": 8,
    "start_time": "2023-01-01T20:47:17.991Z"
   },
   {
    "duration": 6,
    "start_time": "2023-01-01T20:47:47.780Z"
   },
   {
    "duration": 7,
    "start_time": "2023-01-01T20:48:09.939Z"
   },
   {
    "duration": 10,
    "start_time": "2023-01-01T20:49:22.120Z"
   },
   {
    "duration": 14,
    "start_time": "2023-01-01T20:50:12.290Z"
   },
   {
    "duration": 162,
    "start_time": "2023-01-01T20:50:14.680Z"
   },
   {
    "duration": 12,
    "start_time": "2023-01-01T20:50:19.130Z"
   },
   {
    "duration": 7,
    "start_time": "2023-01-01T20:50:20.500Z"
   },
   {
    "duration": 6,
    "start_time": "2023-01-01T20:50:21.320Z"
   },
   {
    "duration": 529,
    "start_time": "2023-01-01T20:50:31.670Z"
   },
   {
    "duration": 182,
    "start_time": "2023-01-01T20:50:32.201Z"
   },
   {
    "duration": 13,
    "start_time": "2023-01-01T20:50:32.385Z"
   },
   {
    "duration": 71,
    "start_time": "2023-01-01T20:50:32.400Z"
   },
   {
    "duration": 127,
    "start_time": "2023-01-01T20:50:32.473Z"
   },
   {
    "duration": 13,
    "start_time": "2023-01-01T20:50:32.602Z"
   },
   {
    "duration": 15,
    "start_time": "2023-01-01T20:50:32.617Z"
   },
   {
    "duration": 8,
    "start_time": "2023-01-01T20:50:32.634Z"
   },
   {
    "duration": 2,
    "start_time": "2023-01-01T20:50:32.643Z"
   },
   {
    "duration": 19,
    "start_time": "2023-01-01T20:50:32.647Z"
   },
   {
    "duration": 10,
    "start_time": "2023-01-01T20:50:32.667Z"
   },
   {
    "duration": 90,
    "start_time": "2023-01-01T20:50:32.679Z"
   },
   {
    "duration": 14,
    "start_time": "2023-01-01T20:50:32.770Z"
   },
   {
    "duration": 91,
    "start_time": "2023-01-01T20:50:32.786Z"
   },
   {
    "duration": 12,
    "start_time": "2023-01-01T20:50:32.878Z"
   },
   {
    "duration": 3,
    "start_time": "2023-01-01T20:50:32.892Z"
   },
   {
    "duration": 28,
    "start_time": "2023-01-01T20:50:32.896Z"
   },
   {
    "duration": 14,
    "start_time": "2023-01-01T20:50:32.925Z"
   },
   {
    "duration": 245,
    "start_time": "2023-01-01T20:50:32.940Z"
   },
   {
    "duration": 15,
    "start_time": "2023-01-01T20:50:33.186Z"
   },
   {
    "duration": 167,
    "start_time": "2023-01-01T20:50:33.202Z"
   },
   {
    "duration": 15,
    "start_time": "2023-01-01T20:50:33.370Z"
   },
   {
    "duration": 7,
    "start_time": "2023-01-01T20:50:33.386Z"
   },
   {
    "duration": 23,
    "start_time": "2023-01-01T20:50:33.394Z"
   },
   {
    "duration": 25,
    "start_time": "2023-01-01T21:29:36.279Z"
   },
   {
    "duration": 46,
    "start_time": "2023-01-01T21:30:20.569Z"
   },
   {
    "duration": 7,
    "start_time": "2023-01-01T21:30:59.739Z"
   },
   {
    "duration": 35,
    "start_time": "2023-01-01T21:35:04.180Z"
   },
   {
    "duration": 31,
    "start_time": "2023-01-01T21:39:31.489Z"
   },
   {
    "duration": 10,
    "start_time": "2023-01-01T21:39:43.829Z"
   },
   {
    "duration": 11,
    "start_time": "2023-01-01T21:40:02.509Z"
   },
   {
    "duration": 10,
    "start_time": "2023-01-01T21:40:12.209Z"
   },
   {
    "duration": 9,
    "start_time": "2023-01-01T21:40:19.299Z"
   },
   {
    "duration": 10,
    "start_time": "2023-01-01T21:40:38.949Z"
   },
   {
    "duration": 20,
    "start_time": "2023-01-01T21:41:36.328Z"
   },
   {
    "duration": 16,
    "start_time": "2023-01-01T21:41:47.499Z"
   },
   {
    "duration": 10,
    "start_time": "2023-01-01T21:41:59.508Z"
   },
   {
    "duration": 12,
    "start_time": "2023-01-01T21:43:23.099Z"
   },
   {
    "duration": 11,
    "start_time": "2023-01-01T21:43:35.019Z"
   },
   {
    "duration": 15,
    "start_time": "2023-01-01T21:43:42.478Z"
   },
   {
    "duration": 72,
    "start_time": "2023-01-01T21:50:37.028Z"
   },
   {
    "duration": 10,
    "start_time": "2023-01-01T21:50:56.108Z"
   },
   {
    "duration": 11,
    "start_time": "2023-01-01T21:51:19.478Z"
   },
   {
    "duration": 12,
    "start_time": "2023-01-01T22:11:50.796Z"
   },
   {
    "duration": 3,
    "start_time": "2023-01-01T22:12:42.284Z"
   },
   {
    "duration": 11,
    "start_time": "2023-01-01T22:12:43.807Z"
   },
   {
    "duration": 589,
    "start_time": "2023-01-01T22:12:53.616Z"
   },
   {
    "duration": 191,
    "start_time": "2023-01-01T22:12:54.207Z"
   },
   {
    "duration": 16,
    "start_time": "2023-01-01T22:12:54.399Z"
   },
   {
    "duration": 60,
    "start_time": "2023-01-01T22:12:54.417Z"
   },
   {
    "duration": 136,
    "start_time": "2023-01-01T22:12:54.478Z"
   },
   {
    "duration": 12,
    "start_time": "2023-01-01T22:12:54.615Z"
   },
   {
    "duration": 17,
    "start_time": "2023-01-01T22:12:54.629Z"
   },
   {
    "duration": 8,
    "start_time": "2023-01-01T22:12:54.647Z"
   },
   {
    "duration": 3,
    "start_time": "2023-01-01T22:12:54.657Z"
   },
   {
    "duration": 19,
    "start_time": "2023-01-01T22:12:54.662Z"
   },
   {
    "duration": 38,
    "start_time": "2023-01-01T22:12:54.682Z"
   },
   {
    "duration": 65,
    "start_time": "2023-01-01T22:12:54.722Z"
   },
   {
    "duration": 25,
    "start_time": "2023-01-01T22:12:54.789Z"
   },
   {
    "duration": 86,
    "start_time": "2023-01-01T22:12:54.815Z"
   },
   {
    "duration": 16,
    "start_time": "2023-01-01T22:12:54.912Z"
   },
   {
    "duration": 5,
    "start_time": "2023-01-01T22:12:54.929Z"
   },
   {
    "duration": 23,
    "start_time": "2023-01-01T22:12:54.935Z"
   },
   {
    "duration": 16,
    "start_time": "2023-01-01T22:12:54.960Z"
   },
   {
    "duration": 245,
    "start_time": "2023-01-01T22:12:54.978Z"
   },
   {
    "duration": 24,
    "start_time": "2023-01-01T22:12:55.225Z"
   },
   {
    "duration": 171,
    "start_time": "2023-01-01T22:12:55.251Z"
   },
   {
    "duration": 15,
    "start_time": "2023-01-01T22:12:55.424Z"
   },
   {
    "duration": 6,
    "start_time": "2023-01-01T22:12:55.441Z"
   },
   {
    "duration": 6,
    "start_time": "2023-01-01T22:12:55.448Z"
   },
   {
    "duration": 6,
    "start_time": "2023-01-01T22:12:55.455Z"
   },
   {
    "duration": 50,
    "start_time": "2023-01-01T22:12:55.462Z"
   },
   {
    "duration": 2,
    "start_time": "2023-01-01T22:12:55.514Z"
   },
   {
    "duration": 35,
    "start_time": "2023-01-01T22:12:55.518Z"
   },
   {
    "duration": 48,
    "start_time": "2023-01-02T21:07:35.767Z"
   },
   {
    "duration": 791,
    "start_time": "2023-01-02T21:07:50.465Z"
   },
   {
    "duration": 560,
    "start_time": "2023-01-02T21:07:51.258Z"
   },
   {
    "duration": 15,
    "start_time": "2023-01-02T21:07:51.820Z"
   },
   {
    "duration": 60,
    "start_time": "2023-01-02T21:07:51.837Z"
   },
   {
    "duration": 130,
    "start_time": "2023-01-02T21:07:51.899Z"
   },
   {
    "duration": 15,
    "start_time": "2023-01-02T21:07:52.030Z"
   },
   {
    "duration": 28,
    "start_time": "2023-01-02T21:07:52.047Z"
   },
   {
    "duration": 25,
    "start_time": "2023-01-02T21:07:52.077Z"
   },
   {
    "duration": 3,
    "start_time": "2023-01-02T21:07:52.104Z"
   },
   {
    "duration": 22,
    "start_time": "2023-01-02T21:07:52.109Z"
   },
   {
    "duration": 11,
    "start_time": "2023-01-02T21:07:52.133Z"
   },
   {
    "duration": 99,
    "start_time": "2023-01-02T21:07:52.146Z"
   },
   {
    "duration": 15,
    "start_time": "2023-01-02T21:07:52.246Z"
   },
   {
    "duration": 85,
    "start_time": "2023-01-02T21:07:52.262Z"
   },
   {
    "duration": 13,
    "start_time": "2023-01-02T21:07:52.349Z"
   },
   {
    "duration": 3,
    "start_time": "2023-01-02T21:07:52.363Z"
   },
   {
    "duration": 35,
    "start_time": "2023-01-02T21:07:52.368Z"
   },
   {
    "duration": 17,
    "start_time": "2023-01-02T21:07:52.405Z"
   },
   {
    "duration": 262,
    "start_time": "2023-01-02T21:07:52.423Z"
   },
   {
    "duration": 32,
    "start_time": "2023-01-02T21:07:52.686Z"
   },
   {
    "duration": 177,
    "start_time": "2023-01-02T21:07:52.720Z"
   },
   {
    "duration": 15,
    "start_time": "2023-01-02T21:07:52.899Z"
   },
   {
    "duration": 9,
    "start_time": "2023-01-02T21:07:52.916Z"
   },
   {
    "duration": 9,
    "start_time": "2023-01-02T21:07:52.927Z"
   },
   {
    "duration": 9,
    "start_time": "2023-01-02T21:07:52.937Z"
   },
   {
    "duration": 60,
    "start_time": "2023-01-02T21:07:52.948Z"
   },
   {
    "duration": 14,
    "start_time": "2023-01-02T21:07:53.010Z"
   },
   {
    "duration": 67,
    "start_time": "2023-01-02T21:07:53.028Z"
   },
   {
    "duration": 49,
    "start_time": "2023-01-02T21:07:53.097Z"
   },
   {
    "duration": 47,
    "start_time": "2023-01-02T21:08:10.415Z"
   },
   {
    "duration": 2,
    "start_time": "2023-01-02T21:08:26.268Z"
   },
   {
    "duration": 47,
    "start_time": "2023-01-02T21:12:04.407Z"
   },
   {
    "duration": 44,
    "start_time": "2023-01-03T12:19:00.719Z"
   },
   {
    "duration": 731,
    "start_time": "2023-01-03T12:19:16.090Z"
   },
   {
    "duration": 516,
    "start_time": "2023-01-03T12:19:16.824Z"
   },
   {
    "duration": 15,
    "start_time": "2023-01-03T12:19:17.342Z"
   },
   {
    "duration": 61,
    "start_time": "2023-01-03T12:19:17.359Z"
   },
   {
    "duration": 117,
    "start_time": "2023-01-03T12:19:17.421Z"
   },
   {
    "duration": 14,
    "start_time": "2023-01-03T12:19:17.539Z"
   },
   {
    "duration": 18,
    "start_time": "2023-01-03T12:19:17.554Z"
   },
   {
    "duration": 7,
    "start_time": "2023-01-03T12:19:17.574Z"
   },
   {
    "duration": 4,
    "start_time": "2023-01-03T12:19:17.598Z"
   },
   {
    "duration": 18,
    "start_time": "2023-01-03T12:19:17.605Z"
   },
   {
    "duration": 10,
    "start_time": "2023-01-03T12:19:17.624Z"
   },
   {
    "duration": 78,
    "start_time": "2023-01-03T12:19:17.636Z"
   },
   {
    "duration": 15,
    "start_time": "2023-01-03T12:19:17.715Z"
   },
   {
    "duration": 79,
    "start_time": "2023-01-03T12:19:17.731Z"
   },
   {
    "duration": 11,
    "start_time": "2023-01-03T12:19:17.812Z"
   },
   {
    "duration": 4,
    "start_time": "2023-01-03T12:19:17.824Z"
   },
   {
    "duration": 19,
    "start_time": "2023-01-03T12:19:17.829Z"
   },
   {
    "duration": 16,
    "start_time": "2023-01-03T12:19:17.849Z"
   },
   {
    "duration": 254,
    "start_time": "2023-01-03T12:19:17.867Z"
   },
   {
    "duration": 22,
    "start_time": "2023-01-03T12:19:18.122Z"
   },
   {
    "duration": 167,
    "start_time": "2023-01-03T12:19:18.145Z"
   },
   {
    "duration": 15,
    "start_time": "2023-01-03T12:19:18.314Z"
   },
   {
    "duration": 6,
    "start_time": "2023-01-03T12:19:18.331Z"
   },
   {
    "duration": 6,
    "start_time": "2023-01-03T12:19:18.338Z"
   },
   {
    "duration": 6,
    "start_time": "2023-01-03T12:19:18.345Z"
   },
   {
    "duration": 48,
    "start_time": "2023-01-03T12:19:18.352Z"
   },
   {
    "duration": 4,
    "start_time": "2023-01-03T12:19:18.401Z"
   },
   {
    "duration": 4,
    "start_time": "2023-01-03T12:19:18.408Z"
   },
   {
    "duration": 52,
    "start_time": "2023-01-03T12:19:18.413Z"
   },
   {
    "duration": 68,
    "start_time": "2023-01-03T12:19:18.466Z"
   },
   {
    "duration": 9,
    "start_time": "2023-01-03T12:19:18.535Z"
   },
   {
    "duration": 7,
    "start_time": "2023-01-03T12:20:25.280Z"
   },
   {
    "duration": 7,
    "start_time": "2023-01-03T12:21:26.068Z"
   },
   {
    "duration": 4,
    "start_time": "2023-01-03T12:28:46.663Z"
   },
   {
    "duration": 4,
    "start_time": "2023-01-03T12:29:47.627Z"
   },
   {
    "duration": 74,
    "start_time": "2023-01-03T12:30:18.748Z"
   },
   {
    "duration": 4,
    "start_time": "2023-01-03T12:31:00.683Z"
   },
   {
    "duration": 4,
    "start_time": "2023-01-03T12:31:32.740Z"
   },
   {
    "duration": 6,
    "start_time": "2023-01-03T12:32:39.663Z"
   },
   {
    "duration": 4,
    "start_time": "2023-01-03T12:33:08.989Z"
   },
   {
    "duration": 4,
    "start_time": "2023-01-03T12:33:43.999Z"
   },
   {
    "duration": 57,
    "start_time": "2023-01-05T09:25:53.370Z"
   },
   {
    "duration": 1248,
    "start_time": "2023-01-05T09:26:31.170Z"
   },
   {
    "duration": 1121,
    "start_time": "2023-01-05T09:26:39.601Z"
   },
   {
    "duration": 537,
    "start_time": "2023-01-05T09:26:40.724Z"
   },
   {
    "duration": 13,
    "start_time": "2023-01-05T09:26:41.263Z"
   },
   {
    "duration": 71,
    "start_time": "2023-01-05T09:26:41.277Z"
   },
   {
    "duration": 127,
    "start_time": "2023-01-05T09:26:41.350Z"
   },
   {
    "duration": 21,
    "start_time": "2023-01-05T09:26:41.478Z"
   },
   {
    "duration": 29,
    "start_time": "2023-01-05T09:26:41.501Z"
   },
   {
    "duration": 10,
    "start_time": "2023-01-05T09:26:41.532Z"
   },
   {
    "duration": 2,
    "start_time": "2023-01-05T09:26:41.543Z"
   },
   {
    "duration": 23,
    "start_time": "2023-01-05T09:26:41.547Z"
   },
   {
    "duration": 43,
    "start_time": "2023-01-05T09:26:41.571Z"
   },
   {
    "duration": 64,
    "start_time": "2023-01-05T09:26:41.616Z"
   },
   {
    "duration": 35,
    "start_time": "2023-01-05T09:26:41.682Z"
   },
   {
    "duration": 82,
    "start_time": "2023-01-05T09:26:41.721Z"
   },
   {
    "duration": 17,
    "start_time": "2023-01-05T09:26:41.805Z"
   },
   {
    "duration": 4,
    "start_time": "2023-01-05T09:26:41.823Z"
   },
   {
    "duration": 17,
    "start_time": "2023-01-05T09:26:41.829Z"
   },
   {
    "duration": 18,
    "start_time": "2023-01-05T09:26:41.847Z"
   },
   {
    "duration": 252,
    "start_time": "2023-01-05T09:26:41.866Z"
   },
   {
    "duration": 27,
    "start_time": "2023-01-05T09:26:42.120Z"
   },
   {
    "duration": 195,
    "start_time": "2023-01-05T09:26:42.149Z"
   },
   {
    "duration": 16,
    "start_time": "2023-01-05T09:26:42.346Z"
   },
   {
    "duration": 6,
    "start_time": "2023-01-05T09:26:42.364Z"
   },
   {
    "duration": 11,
    "start_time": "2023-01-05T09:26:42.371Z"
   },
   {
    "duration": 14,
    "start_time": "2023-01-05T09:26:42.384Z"
   },
   {
    "duration": 30,
    "start_time": "2023-01-05T09:26:42.400Z"
   },
   {
    "duration": 5,
    "start_time": "2023-01-05T09:26:42.431Z"
   },
   {
    "duration": 5,
    "start_time": "2023-01-05T09:26:42.437Z"
   },
   {
    "duration": 69,
    "start_time": "2023-01-05T09:26:42.443Z"
   },
   {
    "duration": 46,
    "start_time": "2023-01-05T09:26:42.514Z"
   },
   {
    "duration": 7,
    "start_time": "2023-01-05T09:26:42.561Z"
   },
   {
    "duration": 13,
    "start_time": "2023-01-05T09:26:42.570Z"
   },
   {
    "duration": 222,
    "start_time": "2023-01-05T09:26:42.584Z"
   },
   {
    "duration": 131,
    "start_time": "2023-01-05T09:28:31.307Z"
   },
   {
    "duration": 122,
    "start_time": "2023-01-05T09:28:48.036Z"
   },
   {
    "duration": 136,
    "start_time": "2023-01-05T09:28:57.116Z"
   },
   {
    "duration": 179,
    "start_time": "2023-01-05T09:31:22.543Z"
   },
   {
    "duration": 114,
    "start_time": "2023-01-05T09:31:43.474Z"
   },
   {
    "duration": 110,
    "start_time": "2023-01-05T09:33:12.664Z"
   },
   {
    "duration": 107,
    "start_time": "2023-01-05T09:35:21.006Z"
   },
   {
    "duration": 114,
    "start_time": "2023-01-05T09:35:30.783Z"
   },
   {
    "duration": 106,
    "start_time": "2023-01-05T09:35:41.746Z"
   },
   {
    "duration": 119,
    "start_time": "2023-01-05T09:35:50.793Z"
   },
   {
    "duration": 173,
    "start_time": "2023-01-05T09:35:54.511Z"
   },
   {
    "duration": 6,
    "start_time": "2023-01-05T09:41:27.933Z"
   },
   {
    "duration": 66,
    "start_time": "2023-01-05T12:48:18.577Z"
   },
   {
    "duration": 1503,
    "start_time": "2023-01-05T12:48:45.715Z"
   },
   {
    "duration": 843,
    "start_time": "2023-01-05T12:48:47.220Z"
   },
   {
    "duration": 21,
    "start_time": "2023-01-05T12:48:48.066Z"
   },
   {
    "duration": 90,
    "start_time": "2023-01-05T12:48:48.088Z"
   },
   {
    "duration": 194,
    "start_time": "2023-01-05T12:48:48.182Z"
   },
   {
    "duration": 17,
    "start_time": "2023-01-05T12:48:48.377Z"
   },
   {
    "duration": 22,
    "start_time": "2023-01-05T12:48:48.396Z"
   },
   {
    "duration": 35,
    "start_time": "2023-01-05T12:48:48.420Z"
   },
   {
    "duration": 7,
    "start_time": "2023-01-05T12:48:48.458Z"
   },
   {
    "duration": 30,
    "start_time": "2023-01-05T12:48:48.467Z"
   },
   {
    "duration": 15,
    "start_time": "2023-01-05T12:48:48.500Z"
   },
   {
    "duration": 114,
    "start_time": "2023-01-05T12:48:48.517Z"
   },
   {
    "duration": 29,
    "start_time": "2023-01-05T12:48:48.633Z"
   },
   {
    "duration": 112,
    "start_time": "2023-01-05T12:48:48.668Z"
   },
   {
    "duration": 15,
    "start_time": "2023-01-05T12:48:48.782Z"
   },
   {
    "duration": 4,
    "start_time": "2023-01-05T12:48:48.798Z"
   },
   {
    "duration": 22,
    "start_time": "2023-01-05T12:48:48.804Z"
   },
   {
    "duration": 52,
    "start_time": "2023-01-05T12:48:48.828Z"
   },
   {
    "duration": 333,
    "start_time": "2023-01-05T12:48:48.882Z"
   },
   {
    "duration": 68,
    "start_time": "2023-01-05T12:48:49.217Z"
   },
   {
    "duration": 221,
    "start_time": "2023-01-05T12:48:49.287Z"
   },
   {
    "duration": 18,
    "start_time": "2023-01-05T12:48:49.511Z"
   },
   {
    "duration": 23,
    "start_time": "2023-01-05T12:48:49.531Z"
   },
   {
    "duration": 25,
    "start_time": "2023-01-05T12:48:49.557Z"
   },
   {
    "duration": 10,
    "start_time": "2023-01-05T12:48:49.584Z"
   },
   {
    "duration": 66,
    "start_time": "2023-01-05T12:48:49.597Z"
   },
   {
    "duration": 79,
    "start_time": "2023-01-05T12:48:49.665Z"
   },
   {
    "duration": 68,
    "start_time": "2023-01-05T12:48:49.747Z"
   },
   {
    "duration": 10,
    "start_time": "2023-01-05T12:48:49.817Z"
   },
   {
    "duration": 194,
    "start_time": "2023-01-05T12:48:49.829Z"
   },
   {
    "duration": 5,
    "start_time": "2023-01-05T12:48:50.025Z"
   },
   {
    "duration": 34,
    "start_time": "2023-01-05T12:48:50.032Z"
   },
   {
    "duration": 1288,
    "start_time": "2023-01-05T13:29:31.624Z"
   },
   {
    "duration": 213,
    "start_time": "2023-01-05T13:29:32.915Z"
   },
   {
    "duration": 26,
    "start_time": "2023-01-05T13:29:33.129Z"
   },
   {
    "duration": 72,
    "start_time": "2023-01-05T13:29:33.157Z"
   },
   {
    "duration": 162,
    "start_time": "2023-01-05T13:29:33.231Z"
   },
   {
    "duration": 17,
    "start_time": "2023-01-05T13:29:33.395Z"
   },
   {
    "duration": 40,
    "start_time": "2023-01-05T13:29:33.414Z"
   },
   {
    "duration": 9,
    "start_time": "2023-01-05T13:29:33.456Z"
   },
   {
    "duration": 6,
    "start_time": "2023-01-05T13:29:33.467Z"
   },
   {
    "duration": 23,
    "start_time": "2023-01-05T13:29:33.475Z"
   },
   {
    "duration": 13,
    "start_time": "2023-01-05T13:29:33.500Z"
   },
   {
    "duration": 103,
    "start_time": "2023-01-05T13:29:33.515Z"
   },
   {
    "duration": 16,
    "start_time": "2023-01-05T13:29:33.619Z"
   },
   {
    "duration": 81,
    "start_time": "2023-01-05T13:29:33.653Z"
   },
   {
    "duration": 26,
    "start_time": "2023-01-05T13:29:33.736Z"
   },
   {
    "duration": 4,
    "start_time": "2023-01-05T13:29:33.764Z"
   },
   {
    "duration": 20,
    "start_time": "2023-01-05T13:29:33.770Z"
   },
   {
    "duration": 20,
    "start_time": "2023-01-05T13:29:33.792Z"
   },
   {
    "duration": 295,
    "start_time": "2023-01-05T13:29:33.814Z"
   },
   {
    "duration": 26,
    "start_time": "2023-01-05T13:29:34.110Z"
   },
   {
    "duration": 220,
    "start_time": "2023-01-05T13:29:34.138Z"
   },
   {
    "duration": 17,
    "start_time": "2023-01-05T13:29:34.360Z"
   },
   {
    "duration": 9,
    "start_time": "2023-01-05T13:29:34.379Z"
   },
   {
    "duration": 13,
    "start_time": "2023-01-05T13:29:34.389Z"
   },
   {
    "duration": 9,
    "start_time": "2023-01-05T13:29:34.404Z"
   },
   {
    "duration": 56,
    "start_time": "2023-01-05T13:29:34.414Z"
   },
   {
    "duration": 60,
    "start_time": "2023-01-05T13:29:34.472Z"
   },
   {
    "duration": 59,
    "start_time": "2023-01-05T13:29:34.533Z"
   },
   {
    "duration": 8,
    "start_time": "2023-01-05T13:29:34.594Z"
   },
   {
    "duration": 151,
    "start_time": "2023-01-05T13:29:34.604Z"
   },
   {
    "duration": 6,
    "start_time": "2023-01-05T13:29:34.756Z"
   },
   {
    "duration": 17,
    "start_time": "2023-01-05T13:29:34.764Z"
   },
   {
    "duration": 1357,
    "start_time": "2023-01-05T13:29:34.783Z"
   },
   {
    "duration": 1300,
    "start_time": "2023-01-06T08:32:41.664Z"
   },
   {
    "duration": 978,
    "start_time": "2023-01-06T08:32:42.967Z"
   },
   {
    "duration": 18,
    "start_time": "2023-01-06T08:32:43.947Z"
   },
   {
    "duration": 85,
    "start_time": "2023-01-06T08:32:43.967Z"
   },
   {
    "duration": 155,
    "start_time": "2023-01-06T08:32:44.054Z"
   },
   {
    "duration": 16,
    "start_time": "2023-01-06T08:32:44.211Z"
   },
   {
    "duration": 18,
    "start_time": "2023-01-06T08:32:44.228Z"
   },
   {
    "duration": 30,
    "start_time": "2023-01-06T08:32:44.247Z"
   },
   {
    "duration": 17,
    "start_time": "2023-01-06T08:32:44.279Z"
   },
   {
    "duration": 10,
    "start_time": "2023-01-06T08:32:44.299Z"
   },
   {
    "duration": 85,
    "start_time": "2023-01-06T08:32:44.311Z"
   },
   {
    "duration": 14,
    "start_time": "2023-01-06T08:32:44.397Z"
   },
   {
    "duration": 89,
    "start_time": "2023-01-06T08:32:44.413Z"
   },
   {
    "duration": 13,
    "start_time": "2023-01-06T08:32:44.503Z"
   },
   {
    "duration": 3,
    "start_time": "2023-01-06T08:32:44.518Z"
   },
   {
    "duration": 17,
    "start_time": "2023-01-06T08:32:44.522Z"
   },
   {
    "duration": 44,
    "start_time": "2023-01-06T08:32:44.540Z"
   },
   {
    "duration": 239,
    "start_time": "2023-01-06T08:32:44.585Z"
   },
   {
    "duration": 23,
    "start_time": "2023-01-06T08:32:44.825Z"
   },
   {
    "duration": 216,
    "start_time": "2023-01-06T08:32:44.849Z"
   },
   {
    "duration": 26,
    "start_time": "2023-01-06T08:32:45.067Z"
   },
   {
    "duration": 9,
    "start_time": "2023-01-06T08:32:45.095Z"
   },
   {
    "duration": 30,
    "start_time": "2023-01-06T08:32:45.106Z"
   },
   {
    "duration": 9,
    "start_time": "2023-01-06T08:32:45.138Z"
   },
   {
    "duration": 50,
    "start_time": "2023-01-06T08:32:45.149Z"
   },
   {
    "duration": 83,
    "start_time": "2023-01-06T08:32:45.201Z"
   },
   {
    "duration": 43,
    "start_time": "2023-01-06T08:32:45.286Z"
   },
   {
    "duration": 7,
    "start_time": "2023-01-06T08:32:45.332Z"
   },
   {
    "duration": 140,
    "start_time": "2023-01-06T08:32:45.340Z"
   },
   {
    "duration": 5,
    "start_time": "2023-01-06T08:32:45.482Z"
   },
   {
    "duration": 16,
    "start_time": "2023-01-06T08:32:45.488Z"
   },
   {
    "duration": 1181,
    "start_time": "2023-01-06T08:32:45.506Z"
   },
   {
    "duration": 3,
    "start_time": "2023-01-06T08:34:30.596Z"
   },
   {
    "duration": 14,
    "start_time": "2023-01-06T08:49:40.222Z"
   },
   {
    "duration": 1064,
    "start_time": "2023-01-06T08:49:51.997Z"
   },
   {
    "duration": 16,
    "start_time": "2023-01-06T08:57:17.214Z"
   },
   {
    "duration": 113,
    "start_time": "2023-01-06T08:58:37.986Z"
   },
   {
    "duration": 115,
    "start_time": "2023-01-06T08:59:23.336Z"
   },
   {
    "duration": 125,
    "start_time": "2023-01-06T09:00:30.273Z"
   },
   {
    "duration": 111,
    "start_time": "2023-01-06T09:01:10.106Z"
   },
   {
    "duration": 16,
    "start_time": "2023-01-06T09:03:58.326Z"
   },
   {
    "duration": 1073,
    "start_time": "2023-01-06T09:04:23.605Z"
   },
   {
    "duration": 179,
    "start_time": "2023-01-06T09:04:24.680Z"
   },
   {
    "duration": 22,
    "start_time": "2023-01-06T09:04:24.861Z"
   },
   {
    "duration": 77,
    "start_time": "2023-01-06T09:04:24.884Z"
   },
   {
    "duration": 123,
    "start_time": "2023-01-06T09:04:24.964Z"
   },
   {
    "duration": 13,
    "start_time": "2023-01-06T09:04:25.088Z"
   },
   {
    "duration": 26,
    "start_time": "2023-01-06T09:04:25.102Z"
   },
   {
    "duration": 22,
    "start_time": "2023-01-06T09:04:25.130Z"
   },
   {
    "duration": 30,
    "start_time": "2023-01-06T09:04:25.153Z"
   },
   {
    "duration": 13,
    "start_time": "2023-01-06T09:04:25.185Z"
   },
   {
    "duration": 69,
    "start_time": "2023-01-06T09:04:25.200Z"
   },
   {
    "duration": 16,
    "start_time": "2023-01-06T09:04:25.271Z"
   },
   {
    "duration": 117,
    "start_time": "2023-01-06T09:04:25.289Z"
   },
   {
    "duration": 13,
    "start_time": "2023-01-06T09:04:25.408Z"
   },
   {
    "duration": 19,
    "start_time": "2023-01-06T09:04:25.422Z"
   },
   {
    "duration": 26,
    "start_time": "2023-01-06T09:04:25.443Z"
   },
   {
    "duration": 32,
    "start_time": "2023-01-06T09:04:25.471Z"
   },
   {
    "duration": 261,
    "start_time": "2023-01-06T09:04:25.504Z"
   },
   {
    "duration": 31,
    "start_time": "2023-01-06T09:04:25.767Z"
   },
   {
    "duration": 171,
    "start_time": "2023-01-06T09:04:25.800Z"
   },
   {
    "duration": 19,
    "start_time": "2023-01-06T09:04:25.972Z"
   },
   {
    "duration": 26,
    "start_time": "2023-01-06T09:04:25.992Z"
   },
   {
    "duration": 22,
    "start_time": "2023-01-06T09:04:26.020Z"
   },
   {
    "duration": 30,
    "start_time": "2023-01-06T09:04:26.044Z"
   },
   {
    "duration": 30,
    "start_time": "2023-01-06T09:04:26.076Z"
   },
   {
    "duration": 65,
    "start_time": "2023-01-06T09:04:26.107Z"
   },
   {
    "duration": 40,
    "start_time": "2023-01-06T09:04:26.173Z"
   },
   {
    "duration": 7,
    "start_time": "2023-01-06T09:04:26.214Z"
   },
   {
    "duration": 132,
    "start_time": "2023-01-06T09:04:26.222Z"
   },
   {
    "duration": 113,
    "start_time": "2023-01-06T09:04:26.355Z"
   },
   {
    "duration": 112,
    "start_time": "2023-01-06T09:04:26.470Z"
   },
   {
    "duration": 0,
    "start_time": "2023-01-06T09:04:26.584Z"
   },
   {
    "duration": 0,
    "start_time": "2023-01-06T09:04:26.585Z"
   },
   {
    "duration": 0,
    "start_time": "2023-01-06T09:04:26.586Z"
   },
   {
    "duration": 0,
    "start_time": "2023-01-06T09:04:26.587Z"
   },
   {
    "duration": 116,
    "start_time": "2023-01-06T09:06:47.812Z"
   },
   {
    "duration": 11,
    "start_time": "2023-01-06T09:07:48.623Z"
   },
   {
    "duration": 219,
    "start_time": "2023-01-06T09:07:54.505Z"
   },
   {
    "duration": 211,
    "start_time": "2023-01-06T09:07:58.104Z"
   },
   {
    "duration": 293,
    "start_time": "2023-01-06T09:08:16.335Z"
   },
   {
    "duration": 231,
    "start_time": "2023-01-06T09:10:57.405Z"
   },
   {
    "duration": 1203,
    "start_time": "2023-01-06T09:14:34.595Z"
   },
   {
    "duration": 293,
    "start_time": "2023-01-06T09:14:35.800Z"
   },
   {
    "duration": 16,
    "start_time": "2023-01-06T09:14:36.094Z"
   },
   {
    "duration": 97,
    "start_time": "2023-01-06T09:14:36.112Z"
   },
   {
    "duration": 127,
    "start_time": "2023-01-06T09:14:36.211Z"
   },
   {
    "duration": 13,
    "start_time": "2023-01-06T09:14:36.340Z"
   },
   {
    "duration": 31,
    "start_time": "2023-01-06T09:14:36.355Z"
   },
   {
    "duration": 9,
    "start_time": "2023-01-06T09:14:36.388Z"
   },
   {
    "duration": 24,
    "start_time": "2023-01-06T09:14:36.399Z"
   },
   {
    "duration": 15,
    "start_time": "2023-01-06T09:14:36.425Z"
   },
   {
    "duration": 91,
    "start_time": "2023-01-06T09:14:36.442Z"
   },
   {
    "duration": 17,
    "start_time": "2023-01-06T09:14:36.536Z"
   },
   {
    "duration": 80,
    "start_time": "2023-01-06T09:14:36.555Z"
   },
   {
    "duration": 16,
    "start_time": "2023-01-06T09:14:36.638Z"
   },
   {
    "duration": 4,
    "start_time": "2023-01-06T09:14:36.656Z"
   },
   {
    "duration": 19,
    "start_time": "2023-01-06T09:14:36.679Z"
   },
   {
    "duration": 24,
    "start_time": "2023-01-06T09:14:36.700Z"
   },
   {
    "duration": 278,
    "start_time": "2023-01-06T09:14:36.726Z"
   },
   {
    "duration": 25,
    "start_time": "2023-01-06T09:14:37.006Z"
   },
   {
    "duration": 183,
    "start_time": "2023-01-06T09:14:37.032Z"
   },
   {
    "duration": 15,
    "start_time": "2023-01-06T09:14:37.217Z"
   },
   {
    "duration": 7,
    "start_time": "2023-01-06T09:14:37.233Z"
   },
   {
    "duration": 7,
    "start_time": "2023-01-06T09:14:37.241Z"
   },
   {
    "duration": 29,
    "start_time": "2023-01-06T09:14:37.250Z"
   },
   {
    "duration": 19,
    "start_time": "2023-01-06T09:14:37.280Z"
   },
   {
    "duration": 53,
    "start_time": "2023-01-06T09:14:37.301Z"
   },
   {
    "duration": 62,
    "start_time": "2023-01-06T09:14:37.355Z"
   },
   {
    "duration": 9,
    "start_time": "2023-01-06T09:14:37.418Z"
   },
   {
    "duration": 155,
    "start_time": "2023-01-06T09:14:37.428Z"
   },
   {
    "duration": 96,
    "start_time": "2023-01-06T09:14:37.585Z"
   },
   {
    "duration": 0,
    "start_time": "2023-01-06T09:14:37.683Z"
   },
   {
    "duration": 0,
    "start_time": "2023-01-06T09:14:37.685Z"
   },
   {
    "duration": 0,
    "start_time": "2023-01-06T09:14:37.686Z"
   },
   {
    "duration": 0,
    "start_time": "2023-01-06T09:14:37.687Z"
   },
   {
    "duration": 0,
    "start_time": "2023-01-06T09:14:37.689Z"
   },
   {
    "duration": 0,
    "start_time": "2023-01-06T09:17:07.290Z"
   },
   {
    "duration": 0,
    "start_time": "2023-01-06T09:17:07.291Z"
   },
   {
    "duration": 0,
    "start_time": "2023-01-06T09:17:07.294Z"
   },
   {
    "duration": 1246,
    "start_time": "2023-01-06T09:17:14.584Z"
   },
   {
    "duration": 197,
    "start_time": "2023-01-06T09:17:15.832Z"
   },
   {
    "duration": 17,
    "start_time": "2023-01-06T09:17:16.031Z"
   },
   {
    "duration": 86,
    "start_time": "2023-01-06T09:17:16.049Z"
   },
   {
    "duration": 147,
    "start_time": "2023-01-06T09:17:16.137Z"
   },
   {
    "duration": 13,
    "start_time": "2023-01-06T09:17:16.286Z"
   },
   {
    "duration": 20,
    "start_time": "2023-01-06T09:17:16.300Z"
   },
   {
    "duration": 9,
    "start_time": "2023-01-06T09:17:16.322Z"
   },
   {
    "duration": 17,
    "start_time": "2023-01-06T09:17:16.332Z"
   },
   {
    "duration": 37,
    "start_time": "2023-01-06T09:17:16.351Z"
   },
   {
    "duration": 64,
    "start_time": "2023-01-06T09:17:16.389Z"
   },
   {
    "duration": 28,
    "start_time": "2023-01-06T09:17:16.454Z"
   },
   {
    "duration": 74,
    "start_time": "2023-01-06T09:17:16.483Z"
   },
   {
    "duration": 23,
    "start_time": "2023-01-06T09:17:16.560Z"
   },
   {
    "duration": 3,
    "start_time": "2023-01-06T09:17:16.585Z"
   },
   {
    "duration": 23,
    "start_time": "2023-01-06T09:17:16.590Z"
   },
   {
    "duration": 29,
    "start_time": "2023-01-06T09:17:16.615Z"
   },
   {
    "duration": 234,
    "start_time": "2023-01-06T09:17:16.645Z"
   },
   {
    "duration": 25,
    "start_time": "2023-01-06T09:17:16.880Z"
   },
   {
    "duration": 177,
    "start_time": "2023-01-06T09:17:16.906Z"
   },
   {
    "duration": 15,
    "start_time": "2023-01-06T09:17:17.084Z"
   },
   {
    "duration": 6,
    "start_time": "2023-01-06T09:17:17.100Z"
   },
   {
    "duration": 21,
    "start_time": "2023-01-06T09:17:17.108Z"
   },
   {
    "duration": 16,
    "start_time": "2023-01-06T09:17:17.130Z"
   },
   {
    "duration": 33,
    "start_time": "2023-01-06T09:17:17.148Z"
   },
   {
    "duration": 63,
    "start_time": "2023-01-06T09:17:17.182Z"
   },
   {
    "duration": 42,
    "start_time": "2023-01-06T09:17:17.246Z"
   },
   {
    "duration": 8,
    "start_time": "2023-01-06T09:17:17.289Z"
   },
   {
    "duration": 133,
    "start_time": "2023-01-06T09:17:17.299Z"
   },
   {
    "duration": 112,
    "start_time": "2023-01-06T09:17:17.433Z"
   },
   {
    "duration": 246,
    "start_time": "2023-01-06T09:17:17.547Z"
   },
   {
    "duration": 4,
    "start_time": "2023-01-06T09:17:17.794Z"
   },
   {
    "duration": 37,
    "start_time": "2023-01-06T09:17:17.800Z"
   },
   {
    "duration": 14,
    "start_time": "2023-01-06T09:17:17.839Z"
   },
   {
    "duration": 1230,
    "start_time": "2023-01-06T09:17:17.855Z"
   },
   {
    "duration": 144,
    "start_time": "2023-01-06T09:19:12.734Z"
   },
   {
    "duration": 215,
    "start_time": "2023-01-06T09:19:17.633Z"
   },
   {
    "duration": 241,
    "start_time": "2023-01-06T09:20:21.493Z"
   },
   {
    "duration": 355,
    "start_time": "2023-01-06T09:21:39.563Z"
   },
   {
    "duration": 325,
    "start_time": "2023-01-06T09:21:43.800Z"
   },
   {
    "duration": 248,
    "start_time": "2023-01-06T09:22:03.215Z"
   },
   {
    "duration": 15,
    "start_time": "2023-01-06T09:25:31.315Z"
   },
   {
    "duration": 13,
    "start_time": "2023-01-06T09:26:00.795Z"
   },
   {
    "duration": 553,
    "start_time": "2023-01-06T09:26:16.535Z"
   },
   {
    "duration": 203,
    "start_time": "2023-01-06T09:26:54.596Z"
   },
   {
    "duration": 203,
    "start_time": "2023-01-06T09:27:17.735Z"
   },
   {
    "duration": 257,
    "start_time": "2023-01-06T09:27:27.908Z"
   },
   {
    "duration": 75,
    "start_time": "2023-01-06T09:28:43.815Z"
   },
   {
    "duration": 68,
    "start_time": "2023-01-06T09:29:12.348Z"
   },
   {
    "duration": 49,
    "start_time": "2023-01-06T09:29:46.444Z"
   },
   {
    "duration": 54,
    "start_time": "2023-01-06T09:29:54.633Z"
   },
   {
    "duration": 61,
    "start_time": "2023-01-06T09:30:45.011Z"
   },
   {
    "duration": 66,
    "start_time": "2023-01-06T09:30:57.009Z"
   },
   {
    "duration": 58,
    "start_time": "2023-01-06T09:31:01.746Z"
   },
   {
    "duration": 64,
    "start_time": "2023-01-06T09:31:19.036Z"
   },
   {
    "duration": 60,
    "start_time": "2023-01-06T09:31:50.733Z"
   },
   {
    "duration": 73,
    "start_time": "2023-01-06T09:31:58.685Z"
   },
   {
    "duration": 52,
    "start_time": "2023-01-06T09:32:17.073Z"
   },
   {
    "duration": 277,
    "start_time": "2023-01-06T09:34:04.503Z"
   },
   {
    "duration": 1164,
    "start_time": "2023-01-06T09:34:24.014Z"
   },
   {
    "duration": 191,
    "start_time": "2023-01-06T09:34:25.180Z"
   },
   {
    "duration": 19,
    "start_time": "2023-01-06T09:34:25.372Z"
   },
   {
    "duration": 64,
    "start_time": "2023-01-06T09:34:25.393Z"
   },
   {
    "duration": 153,
    "start_time": "2023-01-06T09:34:25.459Z"
   },
   {
    "duration": 13,
    "start_time": "2023-01-06T09:34:25.614Z"
   },
   {
    "duration": 28,
    "start_time": "2023-01-06T09:34:25.629Z"
   },
   {
    "duration": 23,
    "start_time": "2023-01-06T09:34:25.659Z"
   },
   {
    "duration": 21,
    "start_time": "2023-01-06T09:34:25.684Z"
   },
   {
    "duration": 19,
    "start_time": "2023-01-06T09:34:25.707Z"
   },
   {
    "duration": 112,
    "start_time": "2023-01-06T09:34:25.729Z"
   },
   {
    "duration": 14,
    "start_time": "2023-01-06T09:34:25.843Z"
   },
   {
    "duration": 89,
    "start_time": "2023-01-06T09:34:25.859Z"
   },
   {
    "duration": 15,
    "start_time": "2023-01-06T09:34:25.951Z"
   },
   {
    "duration": 5,
    "start_time": "2023-01-06T09:34:25.978Z"
   },
   {
    "duration": 18,
    "start_time": "2023-01-06T09:34:25.985Z"
   },
   {
    "duration": 15,
    "start_time": "2023-01-06T09:34:26.005Z"
   },
   {
    "duration": 285,
    "start_time": "2023-01-06T09:34:26.023Z"
   },
   {
    "duration": 26,
    "start_time": "2023-01-06T09:34:26.309Z"
   },
   {
    "duration": 198,
    "start_time": "2023-01-06T09:34:26.336Z"
   },
   {
    "duration": 16,
    "start_time": "2023-01-06T09:34:26.535Z"
   },
   {
    "duration": 7,
    "start_time": "2023-01-06T09:34:26.553Z"
   },
   {
    "duration": 21,
    "start_time": "2023-01-06T09:34:26.562Z"
   },
   {
    "duration": 23,
    "start_time": "2023-01-06T09:34:26.585Z"
   },
   {
    "duration": 20,
    "start_time": "2023-01-06T09:34:26.610Z"
   },
   {
    "duration": 93,
    "start_time": "2023-01-06T09:34:26.632Z"
   },
   {
    "duration": 66,
    "start_time": "2023-01-06T09:34:26.726Z"
   },
   {
    "duration": 57,
    "start_time": "2023-01-06T09:34:26.793Z"
   },
   {
    "duration": 8,
    "start_time": "2023-01-06T09:34:26.852Z"
   },
   {
    "duration": 154,
    "start_time": "2023-01-06T09:34:26.862Z"
   },
   {
    "duration": 139,
    "start_time": "2023-01-06T09:34:27.017Z"
   },
   {
    "duration": 372,
    "start_time": "2023-01-06T09:34:27.158Z"
   },
   {
    "duration": 0,
    "start_time": "2023-01-06T09:34:27.531Z"
   },
   {
    "duration": 0,
    "start_time": "2023-01-06T09:34:27.533Z"
   },
   {
    "duration": 0,
    "start_time": "2023-01-06T09:34:27.533Z"
   },
   {
    "duration": 0,
    "start_time": "2023-01-06T09:34:27.535Z"
   },
   {
    "duration": 277,
    "start_time": "2023-01-06T09:35:26.376Z"
   },
   {
    "duration": 74,
    "start_time": "2023-01-06T09:42:12.146Z"
   },
   {
    "duration": 10,
    "start_time": "2023-01-06T09:44:39.136Z"
   },
   {
    "duration": 4,
    "start_time": "2023-01-06T09:44:46.362Z"
   },
   {
    "duration": 5,
    "start_time": "2023-01-06T09:44:47.883Z"
   },
   {
    "duration": 4,
    "start_time": "2023-01-06T09:45:55.530Z"
   },
   {
    "duration": 3,
    "start_time": "2023-01-06T09:48:29.674Z"
   },
   {
    "duration": 3,
    "start_time": "2023-01-06T09:48:36.059Z"
   },
   {
    "duration": 3,
    "start_time": "2023-01-06T09:48:37.809Z"
   },
   {
    "duration": 2,
    "start_time": "2023-01-06T09:48:39.077Z"
   },
   {
    "duration": 4,
    "start_time": "2023-01-06T09:49:58.818Z"
   },
   {
    "duration": 4,
    "start_time": "2023-01-06T09:58:34.468Z"
   },
   {
    "duration": 15,
    "start_time": "2023-01-06T10:03:19.745Z"
   },
   {
    "duration": 9,
    "start_time": "2023-01-06T10:04:48.145Z"
   },
   {
    "duration": 1168,
    "start_time": "2023-01-06T10:40:24.811Z"
   },
   {
    "duration": 186,
    "start_time": "2023-01-06T10:40:25.981Z"
   },
   {
    "duration": 18,
    "start_time": "2023-01-06T10:40:26.168Z"
   },
   {
    "duration": 76,
    "start_time": "2023-01-06T10:40:26.187Z"
   },
   {
    "duration": 153,
    "start_time": "2023-01-06T10:40:26.265Z"
   },
   {
    "duration": 13,
    "start_time": "2023-01-06T10:40:26.420Z"
   },
   {
    "duration": 18,
    "start_time": "2023-01-06T10:40:26.435Z"
   },
   {
    "duration": 24,
    "start_time": "2023-01-06T10:40:26.455Z"
   },
   {
    "duration": 17,
    "start_time": "2023-01-06T10:40:26.481Z"
   },
   {
    "duration": 14,
    "start_time": "2023-01-06T10:40:26.499Z"
   },
   {
    "duration": 92,
    "start_time": "2023-01-06T10:40:26.515Z"
   },
   {
    "duration": 14,
    "start_time": "2023-01-06T10:40:26.609Z"
   },
   {
    "duration": 84,
    "start_time": "2023-01-06T10:40:26.624Z"
   },
   {
    "duration": 14,
    "start_time": "2023-01-06T10:40:26.710Z"
   },
   {
    "duration": 4,
    "start_time": "2023-01-06T10:40:26.726Z"
   },
   {
    "duration": 17,
    "start_time": "2023-01-06T10:40:26.731Z"
   },
   {
    "duration": 37,
    "start_time": "2023-01-06T10:40:26.750Z"
   },
   {
    "duration": 267,
    "start_time": "2023-01-06T10:40:26.789Z"
   },
   {
    "duration": 33,
    "start_time": "2023-01-06T10:40:27.058Z"
   },
   {
    "duration": 197,
    "start_time": "2023-01-06T10:40:27.093Z"
   },
   {
    "duration": 16,
    "start_time": "2023-01-06T10:40:27.292Z"
   },
   {
    "duration": 33,
    "start_time": "2023-01-06T10:40:27.310Z"
   },
   {
    "duration": 34,
    "start_time": "2023-01-06T10:40:27.345Z"
   },
   {
    "duration": 16,
    "start_time": "2023-01-06T10:40:27.381Z"
   },
   {
    "duration": 39,
    "start_time": "2023-01-06T10:40:27.399Z"
   },
   {
    "duration": 95,
    "start_time": "2023-01-06T10:40:27.440Z"
   },
   {
    "duration": 57,
    "start_time": "2023-01-06T10:40:27.537Z"
   },
   {
    "duration": 51,
    "start_time": "2023-01-06T10:40:27.596Z"
   },
   {
    "duration": 11,
    "start_time": "2023-01-06T10:40:27.649Z"
   },
   {
    "duration": 124,
    "start_time": "2023-01-06T10:40:27.677Z"
   },
   {
    "duration": 136,
    "start_time": "2023-01-06T10:40:27.803Z"
   },
   {
    "duration": 290,
    "start_time": "2023-01-06T10:40:27.941Z"
   },
   {
    "duration": 6,
    "start_time": "2023-01-06T10:40:28.232Z"
   },
   {
    "duration": 118,
    "start_time": "2023-01-06T10:40:28.240Z"
   },
   {
    "duration": 0,
    "start_time": "2023-01-06T10:40:28.360Z"
   },
   {
    "duration": 0,
    "start_time": "2023-01-06T10:40:28.361Z"
   },
   {
    "duration": 0,
    "start_time": "2023-01-06T10:40:28.362Z"
   },
   {
    "duration": 0,
    "start_time": "2023-01-06T10:40:28.363Z"
   },
   {
    "duration": 0,
    "start_time": "2023-01-06T10:40:28.364Z"
   },
   {
    "duration": 0,
    "start_time": "2023-01-06T10:40:28.365Z"
   },
   {
    "duration": 0,
    "start_time": "2023-01-06T10:40:28.367Z"
   },
   {
    "duration": 9,
    "start_time": "2023-01-06T10:43:08.305Z"
   },
   {
    "duration": 6,
    "start_time": "2023-01-06T10:43:43.207Z"
   },
   {
    "duration": 34,
    "start_time": "2023-01-06T10:44:49.944Z"
   },
   {
    "duration": 41,
    "start_time": "2023-01-06T10:48:55.034Z"
   },
   {
    "duration": 0,
    "start_time": "2023-01-06T10:53:53.499Z"
   },
   {
    "duration": 1093,
    "start_time": "2023-01-06T10:54:18.088Z"
   },
   {
    "duration": 185,
    "start_time": "2023-01-06T10:54:19.183Z"
   },
   {
    "duration": 15,
    "start_time": "2023-01-06T10:54:19.369Z"
   },
   {
    "duration": 63,
    "start_time": "2023-01-06T10:54:19.385Z"
   },
   {
    "duration": 137,
    "start_time": "2023-01-06T10:54:19.450Z"
   },
   {
    "duration": 13,
    "start_time": "2023-01-06T10:54:19.588Z"
   },
   {
    "duration": 28,
    "start_time": "2023-01-06T10:54:19.603Z"
   },
   {
    "duration": 9,
    "start_time": "2023-01-06T10:54:19.632Z"
   },
   {
    "duration": 35,
    "start_time": "2023-01-06T10:54:19.643Z"
   },
   {
    "duration": 11,
    "start_time": "2023-01-06T10:54:19.680Z"
   },
   {
    "duration": 64,
    "start_time": "2023-01-06T10:54:19.692Z"
   },
   {
    "duration": 28,
    "start_time": "2023-01-06T10:54:19.758Z"
   },
   {
    "duration": 75,
    "start_time": "2023-01-06T10:54:19.788Z"
   },
   {
    "duration": 13,
    "start_time": "2023-01-06T10:54:19.877Z"
   },
   {
    "duration": 3,
    "start_time": "2023-01-06T10:54:19.892Z"
   },
   {
    "duration": 18,
    "start_time": "2023-01-06T10:54:19.897Z"
   },
   {
    "duration": 17,
    "start_time": "2023-01-06T10:54:19.916Z"
   },
   {
    "duration": 272,
    "start_time": "2023-01-06T10:54:19.934Z"
   },
   {
    "duration": 24,
    "start_time": "2023-01-06T10:54:20.208Z"
   },
   {
    "duration": 176,
    "start_time": "2023-01-06T10:54:20.233Z"
   },
   {
    "duration": 17,
    "start_time": "2023-01-06T10:54:20.411Z"
   },
   {
    "duration": 26,
    "start_time": "2023-01-06T10:54:20.430Z"
   },
   {
    "duration": 37,
    "start_time": "2023-01-06T10:54:20.458Z"
   },
   {
    "duration": 32,
    "start_time": "2023-01-06T10:54:20.497Z"
   },
   {
    "duration": 40,
    "start_time": "2023-01-06T10:54:20.531Z"
   },
   {
    "duration": 75,
    "start_time": "2023-01-06T10:54:20.573Z"
   },
   {
    "duration": 50,
    "start_time": "2023-01-06T10:54:20.650Z"
   },
   {
    "duration": 40,
    "start_time": "2023-01-06T10:54:20.702Z"
   },
   {
    "duration": 8,
    "start_time": "2023-01-06T10:54:20.743Z"
   },
   {
    "duration": 147,
    "start_time": "2023-01-06T10:54:20.753Z"
   },
   {
    "duration": 152,
    "start_time": "2023-01-06T10:54:20.902Z"
   },
   {
    "duration": 278,
    "start_time": "2023-01-06T10:54:21.056Z"
   },
   {
    "duration": 4,
    "start_time": "2023-01-06T10:54:21.336Z"
   },
   {
    "duration": 72,
    "start_time": "2023-01-06T10:54:21.342Z"
   },
   {
    "duration": 129,
    "start_time": "2023-01-06T10:54:21.416Z"
   },
   {
    "duration": 0,
    "start_time": "2023-01-06T10:54:21.547Z"
   },
   {
    "duration": 0,
    "start_time": "2023-01-06T10:54:21.548Z"
   },
   {
    "duration": 0,
    "start_time": "2023-01-06T10:54:21.549Z"
   },
   {
    "duration": 0,
    "start_time": "2023-01-06T10:54:21.550Z"
   },
   {
    "duration": 0,
    "start_time": "2023-01-06T10:54:21.551Z"
   },
   {
    "duration": 0,
    "start_time": "2023-01-06T10:54:21.552Z"
   },
   {
    "duration": 1143,
    "start_time": "2023-01-06T10:55:04.805Z"
   },
   {
    "duration": 677,
    "start_time": "2023-01-06T10:55:24.873Z"
   },
   {
    "duration": 241,
    "start_time": "2023-01-06T10:55:32.525Z"
   },
   {
    "duration": 65,
    "start_time": "2023-01-06T10:55:52.375Z"
   },
   {
    "duration": 265,
    "start_time": "2023-01-06T10:56:05.825Z"
   },
   {
    "duration": 595,
    "start_time": "2023-01-06T10:56:11.533Z"
   },
   {
    "duration": 1093,
    "start_time": "2023-01-06T12:03:52.274Z"
   },
   {
    "duration": 187,
    "start_time": "2023-01-06T12:03:53.368Z"
   },
   {
    "duration": 21,
    "start_time": "2023-01-06T12:03:53.556Z"
   },
   {
    "duration": 63,
    "start_time": "2023-01-06T12:03:53.579Z"
   },
   {
    "duration": 135,
    "start_time": "2023-01-06T12:03:53.644Z"
   },
   {
    "duration": 13,
    "start_time": "2023-01-06T12:03:53.780Z"
   },
   {
    "duration": 17,
    "start_time": "2023-01-06T12:03:53.794Z"
   },
   {
    "duration": 8,
    "start_time": "2023-01-06T12:03:53.812Z"
   },
   {
    "duration": 16,
    "start_time": "2023-01-06T12:03:53.822Z"
   },
   {
    "duration": 11,
    "start_time": "2023-01-06T12:03:53.839Z"
   },
   {
    "duration": 80,
    "start_time": "2023-01-06T12:03:53.879Z"
   },
   {
    "duration": 31,
    "start_time": "2023-01-06T12:03:53.961Z"
   },
   {
    "duration": 103,
    "start_time": "2023-01-06T12:03:53.994Z"
   },
   {
    "duration": 16,
    "start_time": "2023-01-06T12:03:54.100Z"
   },
   {
    "duration": 4,
    "start_time": "2023-01-06T12:03:54.118Z"
   },
   {
    "duration": 17,
    "start_time": "2023-01-06T12:03:54.123Z"
   },
   {
    "duration": 38,
    "start_time": "2023-01-06T12:03:54.142Z"
   },
   {
    "duration": 246,
    "start_time": "2023-01-06T12:03:54.181Z"
   },
   {
    "duration": 25,
    "start_time": "2023-01-06T12:03:54.429Z"
   },
   {
    "duration": 190,
    "start_time": "2023-01-06T12:03:54.455Z"
   },
   {
    "duration": 15,
    "start_time": "2023-01-06T12:03:54.646Z"
   },
   {
    "duration": 18,
    "start_time": "2023-01-06T12:03:54.663Z"
   },
   {
    "duration": 7,
    "start_time": "2023-01-06T12:03:54.683Z"
   },
   {
    "duration": 7,
    "start_time": "2023-01-06T12:03:54.692Z"
   },
   {
    "duration": 19,
    "start_time": "2023-01-06T12:03:54.701Z"
   },
   {
    "duration": 93,
    "start_time": "2023-01-06T12:03:54.721Z"
   },
   {
    "duration": 50,
    "start_time": "2023-01-06T12:03:54.816Z"
   },
   {
    "duration": 44,
    "start_time": "2023-01-06T12:03:54.879Z"
   },
   {
    "duration": 8,
    "start_time": "2023-01-06T12:03:54.925Z"
   },
   {
    "duration": 153,
    "start_time": "2023-01-06T12:03:54.935Z"
   },
   {
    "duration": 139,
    "start_time": "2023-01-06T12:03:55.090Z"
   },
   {
    "duration": 275,
    "start_time": "2023-01-06T12:03:55.230Z"
   },
   {
    "duration": 5,
    "start_time": "2023-01-06T12:03:55.506Z"
   },
   {
    "duration": 39,
    "start_time": "2023-01-06T12:03:55.512Z"
   },
   {
    "duration": 635,
    "start_time": "2023-01-06T12:03:55.553Z"
   },
   {
    "duration": 3,
    "start_time": "2023-01-06T12:03:56.189Z"
   },
   {
    "duration": 6,
    "start_time": "2023-01-06T12:03:56.193Z"
   },
   {
    "duration": 7,
    "start_time": "2023-01-06T12:03:56.201Z"
   },
   {
    "duration": 102,
    "start_time": "2023-01-06T12:03:56.210Z"
   },
   {
    "duration": 0,
    "start_time": "2023-01-06T12:03:56.314Z"
   },
   {
    "duration": 0,
    "start_time": "2023-01-06T12:03:56.316Z"
   },
   {
    "duration": 598,
    "start_time": "2023-01-06T12:04:27.539Z"
   },
   {
    "duration": 661,
    "start_time": "2023-01-06T12:04:34.524Z"
   },
   {
    "duration": 578,
    "start_time": "2023-01-06T12:04:38.620Z"
   },
   {
    "duration": 624,
    "start_time": "2023-01-06T12:04:43.130Z"
   },
   {
    "duration": 656,
    "start_time": "2023-01-06T12:04:53.482Z"
   },
   {
    "duration": 218,
    "start_time": "2023-01-06T12:05:04.462Z"
   },
   {
    "duration": 629,
    "start_time": "2023-01-06T12:05:42.271Z"
   },
   {
    "duration": 228,
    "start_time": "2023-01-06T12:05:52.312Z"
   },
   {
    "duration": 206,
    "start_time": "2023-01-06T12:06:10.562Z"
   },
   {
    "duration": 590,
    "start_time": "2023-01-06T12:07:25.077Z"
   },
   {
    "duration": 684,
    "start_time": "2023-01-06T12:07:40.491Z"
   },
   {
    "duration": 650,
    "start_time": "2023-01-06T12:07:52.163Z"
   },
   {
    "duration": 666,
    "start_time": "2023-01-06T12:08:06.179Z"
   },
   {
    "duration": 606,
    "start_time": "2023-01-06T12:08:10.085Z"
   },
   {
    "duration": 631,
    "start_time": "2023-01-06T12:08:41.340Z"
   },
   {
    "duration": 242,
    "start_time": "2023-01-06T12:09:10.155Z"
   },
   {
    "duration": 77,
    "start_time": "2023-01-06T12:09:30.935Z"
   },
   {
    "duration": 88,
    "start_time": "2023-01-06T12:09:37.435Z"
   },
   {
    "duration": 69,
    "start_time": "2023-01-06T12:09:49.261Z"
   },
   {
    "duration": 82,
    "start_time": "2023-01-06T12:10:02.320Z"
   },
   {
    "duration": 228,
    "start_time": "2023-01-06T12:10:14.102Z"
   },
   {
    "duration": 173,
    "start_time": "2023-01-06T12:10:57.687Z"
   },
   {
    "duration": 198,
    "start_time": "2023-01-06T12:13:18.369Z"
   },
   {
    "duration": 214,
    "start_time": "2023-01-06T12:14:24.824Z"
   },
   {
    "duration": 215,
    "start_time": "2023-01-06T12:14:41.756Z"
   },
   {
    "duration": 18,
    "start_time": "2023-01-06T12:15:46.455Z"
   },
   {
    "duration": 218,
    "start_time": "2023-01-06T12:15:57.021Z"
   },
   {
    "duration": 325,
    "start_time": "2023-01-06T12:17:36.321Z"
   },
   {
    "duration": 193,
    "start_time": "2023-01-06T12:18:32.941Z"
   },
   {
    "duration": 227,
    "start_time": "2023-01-06T12:19:16.241Z"
   },
   {
    "duration": 216,
    "start_time": "2023-01-06T12:19:28.919Z"
   },
   {
    "duration": 223,
    "start_time": "2023-01-06T12:20:26.741Z"
   },
   {
    "duration": 224,
    "start_time": "2023-01-06T12:20:35.079Z"
   },
   {
    "duration": 212,
    "start_time": "2023-01-06T12:20:42.614Z"
   },
   {
    "duration": 257,
    "start_time": "2023-01-06T12:21:12.179Z"
   },
   {
    "duration": 241,
    "start_time": "2023-01-06T12:21:20.357Z"
   },
   {
    "duration": 234,
    "start_time": "2023-01-06T12:21:29.019Z"
   },
   {
    "duration": 257,
    "start_time": "2023-01-06T12:21:35.460Z"
   },
   {
    "duration": 348,
    "start_time": "2023-01-06T12:21:44.342Z"
   },
   {
    "duration": 198,
    "start_time": "2023-01-06T12:22:38.956Z"
   },
   {
    "duration": 248,
    "start_time": "2023-01-06T12:23:25.399Z"
   },
   {
    "duration": 3,
    "start_time": "2023-01-06T12:24:42.631Z"
   },
   {
    "duration": 3,
    "start_time": "2023-01-06T12:24:44.709Z"
   },
   {
    "duration": 2,
    "start_time": "2023-01-06T12:24:45.991Z"
   },
   {
    "duration": 3,
    "start_time": "2023-01-06T12:24:49.333Z"
   },
   {
    "duration": 4,
    "start_time": "2023-01-06T12:24:52.244Z"
   },
   {
    "duration": 4,
    "start_time": "2023-01-06T12:24:53.719Z"
   },
   {
    "duration": 1114,
    "start_time": "2023-01-06T13:12:01.854Z"
   },
   {
    "duration": 191,
    "start_time": "2023-01-06T13:12:02.970Z"
   },
   {
    "duration": 27,
    "start_time": "2023-01-06T13:12:03.162Z"
   },
   {
    "duration": 74,
    "start_time": "2023-01-06T13:12:03.191Z"
   },
   {
    "duration": 131,
    "start_time": "2023-01-06T13:12:03.266Z"
   },
   {
    "duration": 12,
    "start_time": "2023-01-06T13:12:03.398Z"
   },
   {
    "duration": 55,
    "start_time": "2023-01-06T13:12:03.412Z"
   },
   {
    "duration": 32,
    "start_time": "2023-01-06T13:12:03.469Z"
   },
   {
    "duration": 26,
    "start_time": "2023-01-06T13:12:03.503Z"
   },
   {
    "duration": 37,
    "start_time": "2023-01-06T13:12:03.532Z"
   },
   {
    "duration": 84,
    "start_time": "2023-01-06T13:12:03.570Z"
   },
   {
    "duration": 14,
    "start_time": "2023-01-06T13:12:03.656Z"
   },
   {
    "duration": 81,
    "start_time": "2023-01-06T13:12:03.672Z"
   },
   {
    "duration": 14,
    "start_time": "2023-01-06T13:12:03.755Z"
   },
   {
    "duration": 32,
    "start_time": "2023-01-06T13:12:03.770Z"
   },
   {
    "duration": 27,
    "start_time": "2023-01-06T13:12:03.803Z"
   },
   {
    "duration": 24,
    "start_time": "2023-01-06T13:12:03.832Z"
   },
   {
    "duration": 298,
    "start_time": "2023-01-06T13:12:03.858Z"
   },
   {
    "duration": 31,
    "start_time": "2023-01-06T13:12:04.158Z"
   },
   {
    "duration": 169,
    "start_time": "2023-01-06T13:12:04.191Z"
   },
   {
    "duration": 23,
    "start_time": "2023-01-06T13:12:04.363Z"
   },
   {
    "duration": 6,
    "start_time": "2023-01-06T13:12:04.388Z"
   },
   {
    "duration": 60,
    "start_time": "2023-01-06T13:12:04.395Z"
   },
   {
    "duration": 53,
    "start_time": "2023-01-06T13:12:04.456Z"
   },
   {
    "duration": 49,
    "start_time": "2023-01-06T13:12:04.511Z"
   },
   {
    "duration": 98,
    "start_time": "2023-01-06T13:12:04.562Z"
   },
   {
    "duration": 49,
    "start_time": "2023-01-06T13:12:04.662Z"
   },
   {
    "duration": 40,
    "start_time": "2023-01-06T13:12:04.714Z"
   },
   {
    "duration": 7,
    "start_time": "2023-01-06T13:12:04.755Z"
   },
   {
    "duration": 121,
    "start_time": "2023-01-06T13:12:04.778Z"
   },
   {
    "duration": 141,
    "start_time": "2023-01-06T13:12:04.901Z"
   },
   {
    "duration": 261,
    "start_time": "2023-01-06T13:12:05.044Z"
   },
   {
    "duration": 4,
    "start_time": "2023-01-06T13:12:05.307Z"
   },
   {
    "duration": 59,
    "start_time": "2023-01-06T13:12:05.312Z"
   },
   {
    "duration": 196,
    "start_time": "2023-01-06T13:12:05.372Z"
   },
   {
    "duration": 289,
    "start_time": "2023-01-06T13:12:05.570Z"
   },
   {
    "duration": 3,
    "start_time": "2023-01-06T13:12:05.861Z"
   },
   {
    "duration": 19,
    "start_time": "2023-01-06T13:12:05.866Z"
   },
   {
    "duration": 25,
    "start_time": "2023-01-06T13:12:05.887Z"
   },
   {
    "duration": 21,
    "start_time": "2023-01-06T13:12:05.913Z"
   },
   {
    "duration": 33,
    "start_time": "2023-01-06T13:12:05.936Z"
   },
   {
    "duration": 19,
    "start_time": "2023-01-06T13:12:05.971Z"
   },
   {
    "duration": 28,
    "start_time": "2023-01-06T13:12:05.992Z"
   },
   {
    "duration": 71,
    "start_time": "2023-01-06T13:32:35.109Z"
   },
   {
    "duration": 28,
    "start_time": "2023-01-06T13:42:57.560Z"
   },
   {
    "duration": 23,
    "start_time": "2023-01-06T13:43:03.134Z"
   },
   {
    "duration": 120,
    "start_time": "2023-01-06T13:43:13.544Z"
   },
   {
    "duration": 420,
    "start_time": "2023-01-06T13:43:21.827Z"
   },
   {
    "duration": 20,
    "start_time": "2023-01-06T13:43:49.995Z"
   },
   {
    "duration": 109,
    "start_time": "2023-01-06T13:43:51.525Z"
   },
   {
    "duration": 95,
    "start_time": "2023-01-06T13:43:54.657Z"
   },
   {
    "duration": 257,
    "start_time": "2023-01-06T13:43:57.257Z"
   },
   {
    "duration": 60,
    "start_time": "2023-01-06T13:44:18.797Z"
   },
   {
    "duration": 67,
    "start_time": "2023-01-06T13:44:23.927Z"
   },
   {
    "duration": 11,
    "start_time": "2023-01-06T13:44:26.077Z"
   },
   {
    "duration": 9,
    "start_time": "2023-01-06T13:44:28.076Z"
   },
   {
    "duration": 29,
    "start_time": "2023-01-06T13:44:29.428Z"
   },
   {
    "duration": 21,
    "start_time": "2023-01-06T13:44:40.147Z"
   },
   {
    "duration": 125,
    "start_time": "2023-01-06T13:44:41.555Z"
   },
   {
    "duration": 112,
    "start_time": "2023-01-06T13:44:44.801Z"
   },
   {
    "duration": 288,
    "start_time": "2023-01-06T13:44:49.517Z"
   },
   {
    "duration": 7,
    "start_time": "2023-01-06T13:45:14.857Z"
   },
   {
    "duration": 54,
    "start_time": "2023-01-06T13:45:19.287Z"
   },
   {
    "duration": 33,
    "start_time": "2023-01-06T13:47:28.636Z"
   },
   {
    "duration": 39,
    "start_time": "2023-01-06T13:48:56.837Z"
   },
   {
    "duration": 40,
    "start_time": "2023-01-06T13:49:14.390Z"
   },
   {
    "duration": 36,
    "start_time": "2023-01-06T13:49:28.515Z"
   },
   {
    "duration": 79,
    "start_time": "2023-01-06T14:00:39.588Z"
   },
   {
    "duration": 207,
    "start_time": "2023-01-06T14:11:22.740Z"
   },
   {
    "duration": 6,
    "start_time": "2023-01-06T14:13:36.558Z"
   },
   {
    "duration": 7,
    "start_time": "2023-01-06T14:13:41.968Z"
   },
   {
    "duration": 5,
    "start_time": "2023-01-06T14:16:54.688Z"
   },
   {
    "duration": 8,
    "start_time": "2023-01-06T14:17:22.265Z"
   },
   {
    "duration": 32,
    "start_time": "2023-01-06T14:17:32.080Z"
   },
   {
    "duration": 6,
    "start_time": "2023-01-06T14:18:46.695Z"
   },
   {
    "duration": 140,
    "start_time": "2023-01-06T14:18:47.657Z"
   },
   {
    "duration": 6,
    "start_time": "2023-01-06T14:20:43.356Z"
   },
   {
    "duration": 135,
    "start_time": "2023-01-06T14:20:44.287Z"
   },
   {
    "duration": 9,
    "start_time": "2023-01-06T14:21:33.553Z"
   },
   {
    "duration": 34,
    "start_time": "2023-01-06T14:21:34.585Z"
   },
   {
    "duration": 6,
    "start_time": "2023-01-06T14:22:02.758Z"
   },
   {
    "duration": 137,
    "start_time": "2023-01-06T14:22:03.787Z"
   },
   {
    "duration": 159,
    "start_time": "2023-01-06T14:23:13.747Z"
   },
   {
    "duration": 7,
    "start_time": "2023-01-06T14:24:02.288Z"
   },
   {
    "duration": 133,
    "start_time": "2023-01-06T14:24:04.983Z"
   },
   {
    "duration": 136,
    "start_time": "2023-01-06T14:31:53.601Z"
   },
   {
    "duration": 129,
    "start_time": "2023-01-06T14:43:09.008Z"
   },
   {
    "duration": 21,
    "start_time": "2023-01-06T14:48:49.337Z"
   },
   {
    "duration": 19,
    "start_time": "2023-01-06T14:49:02.326Z"
   },
   {
    "duration": 139,
    "start_time": "2023-01-06T14:50:24.767Z"
   },
   {
    "duration": 13,
    "start_time": "2023-01-06T14:51:25.757Z"
   },
   {
    "duration": 144,
    "start_time": "2023-01-06T14:51:27.906Z"
   },
   {
    "duration": 50,
    "start_time": "2023-01-07T12:35:23.265Z"
   },
   {
    "duration": 1273,
    "start_time": "2023-01-07T12:35:31.920Z"
   },
   {
    "duration": 671,
    "start_time": "2023-01-07T12:35:33.195Z"
   },
   {
    "duration": 20,
    "start_time": "2023-01-07T12:35:33.868Z"
   },
   {
    "duration": 69,
    "start_time": "2023-01-07T12:35:33.891Z"
   },
   {
    "duration": 143,
    "start_time": "2023-01-07T12:35:33.963Z"
   },
   {
    "duration": 15,
    "start_time": "2023-01-07T12:35:34.108Z"
   },
   {
    "duration": 19,
    "start_time": "2023-01-07T12:35:34.125Z"
   },
   {
    "duration": 36,
    "start_time": "2023-01-07T12:35:34.145Z"
   },
   {
    "duration": 20,
    "start_time": "2023-01-07T12:35:34.183Z"
   },
   {
    "duration": 12,
    "start_time": "2023-01-07T12:35:34.205Z"
   },
   {
    "duration": 89,
    "start_time": "2023-01-07T12:35:34.218Z"
   },
   {
    "duration": 14,
    "start_time": "2023-01-07T12:35:34.309Z"
   },
   {
    "duration": 83,
    "start_time": "2023-01-07T12:35:34.324Z"
   },
   {
    "duration": 15,
    "start_time": "2023-01-07T12:35:34.410Z"
   },
   {
    "duration": 4,
    "start_time": "2023-01-07T12:35:34.427Z"
   },
   {
    "duration": 18,
    "start_time": "2023-01-07T12:35:34.433Z"
   },
   {
    "duration": 38,
    "start_time": "2023-01-07T12:35:34.452Z"
   },
   {
    "duration": 256,
    "start_time": "2023-01-07T12:35:34.492Z"
   },
   {
    "duration": 37,
    "start_time": "2023-01-07T12:35:34.750Z"
   },
   {
    "duration": 189,
    "start_time": "2023-01-07T12:35:34.788Z"
   },
   {
    "duration": 16,
    "start_time": "2023-01-07T12:35:34.979Z"
   },
   {
    "duration": 8,
    "start_time": "2023-01-07T12:35:34.996Z"
   },
   {
    "duration": 7,
    "start_time": "2023-01-07T12:35:35.005Z"
   },
   {
    "duration": 11,
    "start_time": "2023-01-07T12:35:35.013Z"
   },
   {
    "duration": 21,
    "start_time": "2023-01-07T12:35:35.025Z"
   },
   {
    "duration": 101,
    "start_time": "2023-01-07T12:35:35.047Z"
   },
   {
    "duration": 63,
    "start_time": "2023-01-07T12:35:35.150Z"
   },
   {
    "duration": 44,
    "start_time": "2023-01-07T12:35:35.215Z"
   },
   {
    "duration": 22,
    "start_time": "2023-01-07T12:35:35.261Z"
   },
   {
    "duration": 20,
    "start_time": "2023-01-07T12:35:35.285Z"
   },
   {
    "duration": 150,
    "start_time": "2023-01-07T12:35:35.307Z"
   },
   {
    "duration": 131,
    "start_time": "2023-01-07T12:35:35.459Z"
   },
   {
    "duration": 423,
    "start_time": "2023-01-07T12:35:35.592Z"
   },
   {
    "duration": 0,
    "start_time": "2023-01-07T12:35:36.017Z"
   },
   {
    "duration": 0,
    "start_time": "2023-01-07T12:35:36.018Z"
   },
   {
    "duration": 0,
    "start_time": "2023-01-07T12:35:36.020Z"
   },
   {
    "duration": 0,
    "start_time": "2023-01-07T12:35:36.021Z"
   },
   {
    "duration": 0,
    "start_time": "2023-01-07T12:35:36.022Z"
   },
   {
    "duration": 0,
    "start_time": "2023-01-07T12:35:36.023Z"
   },
   {
    "duration": 0,
    "start_time": "2023-01-07T12:35:36.024Z"
   },
   {
    "duration": 0,
    "start_time": "2023-01-07T12:35:36.025Z"
   },
   {
    "duration": 0,
    "start_time": "2023-01-07T12:35:36.026Z"
   },
   {
    "duration": 0,
    "start_time": "2023-01-07T12:35:36.027Z"
   },
   {
    "duration": 0,
    "start_time": "2023-01-07T12:35:36.029Z"
   },
   {
    "duration": 0,
    "start_time": "2023-01-07T12:35:36.029Z"
   },
   {
    "duration": 294,
    "start_time": "2023-01-07T12:36:05.559Z"
   },
   {
    "duration": 5,
    "start_time": "2023-01-07T12:36:21.948Z"
   },
   {
    "duration": 51,
    "start_time": "2023-01-07T12:36:26.393Z"
   },
   {
    "duration": 196,
    "start_time": "2023-01-07T12:36:27.318Z"
   },
   {
    "duration": 287,
    "start_time": "2023-01-07T12:36:34.899Z"
   },
   {
    "duration": 37,
    "start_time": "2023-01-07T12:36:45.777Z"
   },
   {
    "duration": 79,
    "start_time": "2023-01-07T12:36:50.328Z"
   },
   {
    "duration": 278,
    "start_time": "2023-01-07T12:36:52.475Z"
   },
   {
    "duration": 7,
    "start_time": "2023-01-07T12:37:01.776Z"
   },
   {
    "duration": 132,
    "start_time": "2023-01-07T12:37:03.548Z"
   },
   {
    "duration": 132,
    "start_time": "2023-01-07T12:37:07.248Z"
   },
   {
    "duration": 124,
    "start_time": "2023-01-07T12:37:10.196Z"
   },
   {
    "duration": 15,
    "start_time": "2023-01-07T12:37:13.812Z"
   },
   {
    "duration": 142,
    "start_time": "2023-01-07T12:37:15.550Z"
   },
   {
    "duration": 157,
    "start_time": "2023-01-07T12:44:47.542Z"
   },
   {
    "duration": 140,
    "start_time": "2023-01-07T12:44:50.511Z"
   },
   {
    "duration": 59,
    "start_time": "2023-01-07T12:46:32.679Z"
   },
   {
    "duration": 59,
    "start_time": "2023-01-07T12:47:24.749Z"
   },
   {
    "duration": 9,
    "start_time": "2023-01-07T12:48:30.809Z"
   },
   {
    "duration": 126,
    "start_time": "2023-01-07T12:49:14.007Z"
   },
   {
    "duration": 122,
    "start_time": "2023-01-07T12:49:18.760Z"
   },
   {
    "duration": 153,
    "start_time": "2023-01-07T12:49:36.991Z"
   },
   {
    "duration": 58,
    "start_time": "2023-01-07T12:51:23.949Z"
   },
   {
    "duration": 1229,
    "start_time": "2023-01-07T13:00:43.172Z"
   },
   {
    "duration": 207,
    "start_time": "2023-01-07T13:00:44.403Z"
   },
   {
    "duration": 16,
    "start_time": "2023-01-07T13:00:44.612Z"
   },
   {
    "duration": 86,
    "start_time": "2023-01-07T13:00:44.630Z"
   },
   {
    "duration": 146,
    "start_time": "2023-01-07T13:00:44.718Z"
   },
   {
    "duration": 18,
    "start_time": "2023-01-07T13:00:44.865Z"
   },
   {
    "duration": 20,
    "start_time": "2023-01-07T13:00:44.885Z"
   },
   {
    "duration": 10,
    "start_time": "2023-01-07T13:00:44.908Z"
   },
   {
    "duration": 20,
    "start_time": "2023-01-07T13:00:44.920Z"
   },
   {
    "duration": 13,
    "start_time": "2023-01-07T13:00:44.979Z"
   },
   {
    "duration": 84,
    "start_time": "2023-01-07T13:00:44.993Z"
   },
   {
    "duration": 15,
    "start_time": "2023-01-07T13:00:45.079Z"
   },
   {
    "duration": 99,
    "start_time": "2023-01-07T13:00:45.096Z"
   },
   {
    "duration": 16,
    "start_time": "2023-01-07T13:00:45.197Z"
   },
   {
    "duration": 4,
    "start_time": "2023-01-07T13:00:45.215Z"
   },
   {
    "duration": 18,
    "start_time": "2023-01-07T13:00:45.222Z"
   },
   {
    "duration": 42,
    "start_time": "2023-01-07T13:00:45.242Z"
   },
   {
    "duration": 266,
    "start_time": "2023-01-07T13:00:45.286Z"
   },
   {
    "duration": 39,
    "start_time": "2023-01-07T13:00:45.554Z"
   },
   {
    "duration": 196,
    "start_time": "2023-01-07T13:00:45.595Z"
   },
   {
    "duration": 17,
    "start_time": "2023-01-07T13:00:45.793Z"
   },
   {
    "duration": 8,
    "start_time": "2023-01-07T13:00:45.811Z"
   },
   {
    "duration": 7,
    "start_time": "2023-01-07T13:00:45.820Z"
   },
   {
    "duration": 8,
    "start_time": "2023-01-07T13:00:45.830Z"
   },
   {
    "duration": 61,
    "start_time": "2023-01-07T13:00:45.840Z"
   },
   {
    "duration": 84,
    "start_time": "2023-01-07T13:00:45.903Z"
   },
   {
    "duration": 55,
    "start_time": "2023-01-07T13:00:45.989Z"
   },
   {
    "duration": 62,
    "start_time": "2023-01-07T13:00:46.047Z"
   },
   {
    "duration": 10,
    "start_time": "2023-01-07T13:00:46.111Z"
   },
   {
    "duration": 23,
    "start_time": "2023-01-07T13:00:46.123Z"
   },
   {
    "duration": 152,
    "start_time": "2023-01-07T13:00:46.148Z"
   },
   {
    "duration": 134,
    "start_time": "2023-01-07T13:00:46.302Z"
   },
   {
    "duration": 395,
    "start_time": "2023-01-07T13:00:46.438Z"
   },
   {
    "duration": 0,
    "start_time": "2023-01-07T13:00:46.834Z"
   },
   {
    "duration": 0,
    "start_time": "2023-01-07T13:00:46.836Z"
   },
   {
    "duration": 0,
    "start_time": "2023-01-07T13:00:46.837Z"
   },
   {
    "duration": 0,
    "start_time": "2023-01-07T13:00:46.838Z"
   },
   {
    "duration": 0,
    "start_time": "2023-01-07T13:00:46.839Z"
   },
   {
    "duration": 0,
    "start_time": "2023-01-07T13:00:46.840Z"
   },
   {
    "duration": 0,
    "start_time": "2023-01-07T13:00:46.842Z"
   },
   {
    "duration": 0,
    "start_time": "2023-01-07T13:00:46.843Z"
   },
   {
    "duration": 0,
    "start_time": "2023-01-07T13:00:46.844Z"
   },
   {
    "duration": 0,
    "start_time": "2023-01-07T13:00:46.845Z"
   },
   {
    "duration": 0,
    "start_time": "2023-01-07T13:00:46.846Z"
   },
   {
    "duration": 0,
    "start_time": "2023-01-07T13:00:46.847Z"
   },
   {
    "duration": 0,
    "start_time": "2023-01-07T13:00:46.848Z"
   },
   {
    "duration": 0,
    "start_time": "2023-01-07T13:00:46.849Z"
   },
   {
    "duration": 0,
    "start_time": "2023-01-07T13:00:46.851Z"
   },
   {
    "duration": 286,
    "start_time": "2023-01-07T13:02:42.357Z"
   },
   {
    "duration": 7,
    "start_time": "2023-01-07T13:02:59.689Z"
   },
   {
    "duration": 56,
    "start_time": "2023-01-07T13:03:02.558Z"
   },
   {
    "duration": 238,
    "start_time": "2023-01-07T13:03:03.299Z"
   },
   {
    "duration": 39,
    "start_time": "2023-01-07T13:03:06.169Z"
   },
   {
    "duration": 80,
    "start_time": "2023-01-07T13:03:09.272Z"
   },
   {
    "duration": 372,
    "start_time": "2023-01-07T13:03:10.958Z"
   },
   {
    "duration": 6,
    "start_time": "2023-01-07T13:03:13.977Z"
   },
   {
    "duration": 127,
    "start_time": "2023-01-07T13:03:15.389Z"
   },
   {
    "duration": 152,
    "start_time": "2023-01-07T13:03:18.443Z"
   },
   {
    "duration": 146,
    "start_time": "2023-01-07T13:03:20.818Z"
   },
   {
    "duration": 18,
    "start_time": "2023-01-07T13:03:23.219Z"
   },
   {
    "duration": 152,
    "start_time": "2023-01-07T13:03:24.798Z"
   },
   {
    "duration": 160,
    "start_time": "2023-01-07T13:03:29.499Z"
   },
   {
    "duration": 141,
    "start_time": "2023-01-07T13:03:31.899Z"
   },
   {
    "duration": 161,
    "start_time": "2023-01-07T13:03:34.353Z"
   },
   {
    "duration": 1281,
    "start_time": "2023-01-07T13:35:52.530Z"
   },
   {
    "duration": 747,
    "start_time": "2023-01-07T13:35:53.812Z"
   },
   {
    "duration": 15,
    "start_time": "2023-01-07T13:35:54.561Z"
   },
   {
    "duration": 60,
    "start_time": "2023-01-07T13:35:54.577Z"
   },
   {
    "duration": 118,
    "start_time": "2023-01-07T13:35:54.639Z"
   },
   {
    "duration": 12,
    "start_time": "2023-01-07T13:35:54.759Z"
   },
   {
    "duration": 19,
    "start_time": "2023-01-07T13:35:54.772Z"
   },
   {
    "duration": 7,
    "start_time": "2023-01-07T13:35:54.793Z"
   },
   {
    "duration": 32,
    "start_time": "2023-01-07T13:35:54.802Z"
   },
   {
    "duration": 15,
    "start_time": "2023-01-07T13:35:54.836Z"
   },
   {
    "duration": 75,
    "start_time": "2023-01-07T13:35:54.852Z"
   },
   {
    "duration": 17,
    "start_time": "2023-01-07T13:35:54.929Z"
   },
   {
    "duration": 82,
    "start_time": "2023-01-07T13:35:54.948Z"
   },
   {
    "duration": 12,
    "start_time": "2023-01-07T13:35:55.032Z"
   },
   {
    "duration": 10,
    "start_time": "2023-01-07T13:35:55.045Z"
   },
   {
    "duration": 23,
    "start_time": "2023-01-07T13:35:55.056Z"
   },
   {
    "duration": 30,
    "start_time": "2023-01-07T13:35:55.081Z"
   },
   {
    "duration": 246,
    "start_time": "2023-01-07T13:35:55.113Z"
   },
   {
    "duration": 24,
    "start_time": "2023-01-07T13:35:55.360Z"
   },
   {
    "duration": 182,
    "start_time": "2023-01-07T13:35:55.386Z"
   },
   {
    "duration": 15,
    "start_time": "2023-01-07T13:35:55.569Z"
   },
   {
    "duration": 12,
    "start_time": "2023-01-07T13:35:55.586Z"
   },
   {
    "duration": 24,
    "start_time": "2023-01-07T13:35:55.599Z"
   },
   {
    "duration": 23,
    "start_time": "2023-01-07T13:35:55.625Z"
   },
   {
    "duration": 29,
    "start_time": "2023-01-07T13:35:55.650Z"
   },
   {
    "duration": 84,
    "start_time": "2023-01-07T13:35:55.681Z"
   },
   {
    "duration": 68,
    "start_time": "2023-01-07T13:35:55.767Z"
   },
   {
    "duration": 56,
    "start_time": "2023-01-07T13:35:55.838Z"
   },
   {
    "duration": 7,
    "start_time": "2023-01-07T13:35:55.896Z"
   },
   {
    "duration": 27,
    "start_time": "2023-01-07T13:35:55.921Z"
   },
   {
    "duration": 129,
    "start_time": "2023-01-07T13:35:55.950Z"
   },
   {
    "duration": 117,
    "start_time": "2023-01-07T13:35:56.081Z"
   },
   {
    "duration": 277,
    "start_time": "2023-01-07T13:35:56.200Z"
   },
   {
    "duration": 5,
    "start_time": "2023-01-07T13:35:56.479Z"
   },
   {
    "duration": 75,
    "start_time": "2023-01-07T13:35:56.485Z"
   },
   {
    "duration": 200,
    "start_time": "2023-01-07T13:35:56.561Z"
   },
   {
    "duration": 33,
    "start_time": "2023-01-07T13:35:56.763Z"
   },
   {
    "duration": 81,
    "start_time": "2023-01-07T13:35:56.798Z"
   },
   {
    "duration": 273,
    "start_time": "2023-01-07T13:35:56.880Z"
   },
   {
    "duration": 80,
    "start_time": "2023-01-07T13:35:57.154Z"
   },
   {
    "duration": 151,
    "start_time": "2023-01-07T13:35:57.236Z"
   },
   {
    "duration": 135,
    "start_time": "2023-01-07T13:35:57.389Z"
   },
   {
    "duration": 125,
    "start_time": "2023-01-07T13:35:57.526Z"
   },
   {
    "duration": 16,
    "start_time": "2023-01-07T13:35:57.653Z"
   },
   {
    "duration": 156,
    "start_time": "2023-01-07T13:35:57.671Z"
   },
   {
    "duration": 147,
    "start_time": "2023-01-07T13:35:57.829Z"
   },
   {
    "duration": 128,
    "start_time": "2023-01-07T13:35:57.978Z"
   },
   {
    "duration": 133,
    "start_time": "2023-01-07T13:35:58.107Z"
   },
   {
    "duration": 95,
    "start_time": "2023-01-07T13:53:45.004Z"
   },
   {
    "duration": 17,
    "start_time": "2023-01-07T13:54:06.060Z"
   },
   {
    "duration": 14,
    "start_time": "2023-01-07T14:01:31.193Z"
   },
   {
    "duration": 9,
    "start_time": "2023-01-07T14:09:57.940Z"
   },
   {
    "duration": 83,
    "start_time": "2023-01-07T14:10:24.836Z"
   },
   {
    "duration": 85,
    "start_time": "2023-01-07T14:10:34.860Z"
   },
   {
    "duration": 82,
    "start_time": "2023-01-07T14:10:38.484Z"
   },
   {
    "duration": 421,
    "start_time": "2023-01-07T14:10:43.007Z"
   },
   {
    "duration": 402,
    "start_time": "2023-01-07T14:10:49.978Z"
   },
   {
    "duration": 9,
    "start_time": "2023-01-07T14:21:28.943Z"
   },
   {
    "duration": 13,
    "start_time": "2023-01-07T14:22:05.533Z"
   },
   {
    "duration": 9,
    "start_time": "2023-01-07T14:22:29.121Z"
   },
   {
    "duration": 67,
    "start_time": "2023-01-07T14:22:57.051Z"
   },
   {
    "duration": 72,
    "start_time": "2023-01-07T14:23:03.028Z"
   },
   {
    "duration": 1219,
    "start_time": "2023-01-07T14:23:08.476Z"
   },
   {
    "duration": 9,
    "start_time": "2023-01-07T14:23:12.413Z"
   },
   {
    "duration": 9,
    "start_time": "2023-01-07T14:48:26.822Z"
   },
   {
    "duration": 1594,
    "start_time": "2023-01-07T14:57:55.739Z"
   },
   {
    "duration": 324,
    "start_time": "2023-01-07T14:57:57.335Z"
   },
   {
    "duration": 63,
    "start_time": "2023-01-07T14:57:57.662Z"
   },
   {
    "duration": 118,
    "start_time": "2023-01-07T14:57:57.727Z"
   },
   {
    "duration": 304,
    "start_time": "2023-01-07T14:57:57.847Z"
   },
   {
    "duration": 13,
    "start_time": "2023-01-07T14:57:58.153Z"
   },
   {
    "duration": 28,
    "start_time": "2023-01-07T14:57:58.167Z"
   },
   {
    "duration": 30,
    "start_time": "2023-01-07T14:57:58.197Z"
   },
   {
    "duration": 35,
    "start_time": "2023-01-07T14:57:58.229Z"
   },
   {
    "duration": 25,
    "start_time": "2023-01-07T14:57:58.266Z"
   },
   {
    "duration": 82,
    "start_time": "2023-01-07T14:57:58.293Z"
   },
   {
    "duration": 12,
    "start_time": "2023-01-07T14:57:58.378Z"
   },
   {
    "duration": 105,
    "start_time": "2023-01-07T14:57:58.393Z"
   },
   {
    "duration": 14,
    "start_time": "2023-01-07T14:57:58.500Z"
   },
   {
    "duration": 35,
    "start_time": "2023-01-07T14:57:58.515Z"
   },
   {
    "duration": 45,
    "start_time": "2023-01-07T14:57:58.552Z"
   },
   {
    "duration": 43,
    "start_time": "2023-01-07T14:57:58.599Z"
   },
   {
    "duration": 256,
    "start_time": "2023-01-07T14:57:58.644Z"
   },
   {
    "duration": 33,
    "start_time": "2023-01-07T14:57:58.902Z"
   },
   {
    "duration": 187,
    "start_time": "2023-01-07T14:57:58.936Z"
   },
   {
    "duration": 16,
    "start_time": "2023-01-07T14:57:59.125Z"
   },
   {
    "duration": 17,
    "start_time": "2023-01-07T14:57:59.143Z"
   },
   {
    "duration": 16,
    "start_time": "2023-01-07T14:57:59.161Z"
   },
   {
    "duration": 21,
    "start_time": "2023-01-07T14:57:59.179Z"
   },
   {
    "duration": 27,
    "start_time": "2023-01-07T14:57:59.202Z"
   },
   {
    "duration": 76,
    "start_time": "2023-01-07T14:57:59.230Z"
   },
   {
    "duration": 52,
    "start_time": "2023-01-07T14:57:59.307Z"
   },
   {
    "duration": 44,
    "start_time": "2023-01-07T14:57:59.361Z"
   },
   {
    "duration": 16,
    "start_time": "2023-01-07T14:57:59.407Z"
   },
   {
    "duration": 47,
    "start_time": "2023-01-07T14:57:59.424Z"
   },
   {
    "duration": 140,
    "start_time": "2023-01-07T14:57:59.472Z"
   },
   {
    "duration": 122,
    "start_time": "2023-01-07T14:57:59.614Z"
   },
   {
    "duration": 301,
    "start_time": "2023-01-07T14:57:59.738Z"
   },
   {
    "duration": 6,
    "start_time": "2023-01-07T14:58:00.041Z"
   },
   {
    "duration": 81,
    "start_time": "2023-01-07T14:58:00.049Z"
   },
   {
    "duration": 204,
    "start_time": "2023-01-07T14:58:00.132Z"
   },
   {
    "duration": 35,
    "start_time": "2023-01-07T14:58:00.337Z"
   },
   {
    "duration": 95,
    "start_time": "2023-01-07T14:58:00.374Z"
   },
   {
    "duration": 276,
    "start_time": "2023-01-07T14:58:00.471Z"
   },
   {
    "duration": 90,
    "start_time": "2023-01-07T14:58:00.750Z"
   },
   {
    "duration": 191,
    "start_time": "2023-01-07T14:58:00.842Z"
   },
   {
    "duration": 141,
    "start_time": "2023-01-07T14:58:01.035Z"
   },
   {
    "duration": 132,
    "start_time": "2023-01-07T14:58:01.178Z"
   },
   {
    "duration": 16,
    "start_time": "2023-01-07T14:58:01.323Z"
   },
   {
    "duration": 147,
    "start_time": "2023-01-07T14:58:01.341Z"
   },
   {
    "duration": 142,
    "start_time": "2023-01-07T14:58:01.490Z"
   },
   {
    "duration": 134,
    "start_time": "2023-01-07T14:58:01.634Z"
   },
   {
    "duration": 154,
    "start_time": "2023-01-07T14:58:01.770Z"
   },
   {
    "duration": 52,
    "start_time": "2023-01-09T08:25:21.219Z"
   },
   {
    "duration": 1570,
    "start_time": "2023-01-09T08:25:30.110Z"
   },
   {
    "duration": 614,
    "start_time": "2023-01-09T08:25:31.682Z"
   },
   {
    "duration": 19,
    "start_time": "2023-01-09T08:25:32.299Z"
   },
   {
    "duration": 88,
    "start_time": "2023-01-09T08:25:32.320Z"
   },
   {
    "duration": 191,
    "start_time": "2023-01-09T08:25:32.411Z"
   },
   {
    "duration": 15,
    "start_time": "2023-01-09T08:25:32.604Z"
   },
   {
    "duration": 57,
    "start_time": "2023-01-09T08:25:32.620Z"
   },
   {
    "duration": 14,
    "start_time": "2023-01-09T08:25:32.679Z"
   },
   {
    "duration": 30,
    "start_time": "2023-01-09T08:25:32.695Z"
   },
   {
    "duration": 9,
    "start_time": "2023-01-09T08:25:32.728Z"
   },
   {
    "duration": 98,
    "start_time": "2023-01-09T08:25:32.738Z"
   },
   {
    "duration": 30,
    "start_time": "2023-01-09T08:25:32.837Z"
   },
   {
    "duration": 112,
    "start_time": "2023-01-09T08:25:32.869Z"
   },
   {
    "duration": 17,
    "start_time": "2023-01-09T08:25:32.986Z"
   },
   {
    "duration": 35,
    "start_time": "2023-01-09T08:25:33.005Z"
   },
   {
    "duration": 69,
    "start_time": "2023-01-09T08:25:33.042Z"
   },
   {
    "duration": 71,
    "start_time": "2023-01-09T08:25:33.113Z"
   },
   {
    "duration": 330,
    "start_time": "2023-01-09T08:25:33.187Z"
   },
   {
    "duration": 30,
    "start_time": "2023-01-09T08:25:33.519Z"
   },
   {
    "duration": 204,
    "start_time": "2023-01-09T08:25:33.550Z"
   },
   {
    "duration": 27,
    "start_time": "2023-01-09T08:25:33.756Z"
   },
   {
    "duration": 7,
    "start_time": "2023-01-09T08:25:33.785Z"
   },
   {
    "duration": 31,
    "start_time": "2023-01-09T08:25:33.794Z"
   },
   {
    "duration": 35,
    "start_time": "2023-01-09T08:25:33.827Z"
   },
   {
    "duration": 48,
    "start_time": "2023-01-09T08:25:33.864Z"
   },
   {
    "duration": 124,
    "start_time": "2023-01-09T08:25:33.914Z"
   },
   {
    "duration": 64,
    "start_time": "2023-01-09T08:25:34.041Z"
   },
   {
    "duration": 80,
    "start_time": "2023-01-09T08:25:34.108Z"
   },
   {
    "duration": 10,
    "start_time": "2023-01-09T08:25:34.191Z"
   },
   {
    "duration": 40,
    "start_time": "2023-01-09T08:25:34.203Z"
   },
   {
    "duration": 195,
    "start_time": "2023-01-09T08:25:34.245Z"
   },
   {
    "duration": 140,
    "start_time": "2023-01-09T08:25:34.442Z"
   },
   {
    "duration": 351,
    "start_time": "2023-01-09T08:25:34.584Z"
   },
   {
    "duration": 6,
    "start_time": "2023-01-09T08:25:34.937Z"
   },
   {
    "duration": 68,
    "start_time": "2023-01-09T08:25:34.945Z"
   },
   {
    "duration": 248,
    "start_time": "2023-01-09T08:25:35.015Z"
   },
   {
    "duration": 46,
    "start_time": "2023-01-09T08:25:35.264Z"
   },
   {
    "duration": 101,
    "start_time": "2023-01-09T08:25:35.312Z"
   },
   {
    "duration": 305,
    "start_time": "2023-01-09T08:25:35.415Z"
   },
   {
    "duration": 102,
    "start_time": "2023-01-09T08:25:35.722Z"
   },
   {
    "duration": 716,
    "start_time": "2023-01-09T08:25:35.829Z"
   },
   {
    "duration": 153,
    "start_time": "2023-01-09T08:25:36.547Z"
   },
   {
    "duration": 148,
    "start_time": "2023-01-09T08:25:36.702Z"
   },
   {
    "duration": 29,
    "start_time": "2023-01-09T08:25:36.852Z"
   },
   {
    "duration": 160,
    "start_time": "2023-01-09T08:25:36.883Z"
   },
   {
    "duration": 163,
    "start_time": "2023-01-09T08:25:37.044Z"
   },
   {
    "duration": 155,
    "start_time": "2023-01-09T08:25:37.209Z"
   },
   {
    "duration": 178,
    "start_time": "2023-01-09T08:25:37.366Z"
   },
   {
    "duration": 54,
    "start_time": "2023-01-09T08:28:46.071Z"
   },
   {
    "duration": 96,
    "start_time": "2023-01-09T08:35:38.830Z"
   },
   {
    "duration": 97,
    "start_time": "2023-01-09T08:37:15.622Z"
   },
   {
    "duration": 4,
    "start_time": "2023-01-09T08:37:22.924Z"
   },
   {
    "duration": 5,
    "start_time": "2023-01-09T08:40:22.507Z"
   },
   {
    "duration": 57,
    "start_time": "2023-01-09T08:42:58.480Z"
   },
   {
    "duration": 5,
    "start_time": "2023-01-09T08:43:07.513Z"
   },
   {
    "duration": 444,
    "start_time": "2023-01-09T08:47:45.115Z"
   },
   {
    "duration": 456,
    "start_time": "2023-01-09T08:48:17.161Z"
   },
   {
    "duration": 50,
    "start_time": "2023-01-09T08:49:44.415Z"
   },
   {
    "duration": 57,
    "start_time": "2023-01-09T08:56:51.473Z"
   },
   {
    "duration": 14,
    "start_time": "2023-01-09T08:57:48.407Z"
   },
   {
    "duration": 3,
    "start_time": "2023-01-09T08:58:02.724Z"
   },
   {
    "duration": 3,
    "start_time": "2023-01-09T08:58:06.324Z"
   },
   {
    "duration": 3,
    "start_time": "2023-01-09T08:58:17.423Z"
   },
   {
    "duration": 4,
    "start_time": "2023-01-09T08:58:24.949Z"
   },
   {
    "duration": 5,
    "start_time": "2023-01-09T08:58:48.716Z"
   },
   {
    "duration": 8,
    "start_time": "2023-01-09T08:58:54.876Z"
   },
   {
    "duration": 5,
    "start_time": "2023-01-09T08:59:10.916Z"
   },
   {
    "duration": 50,
    "start_time": "2023-01-09T08:59:45.616Z"
   },
   {
    "duration": 9,
    "start_time": "2023-01-09T09:00:22.323Z"
   },
   {
    "duration": 16,
    "start_time": "2023-01-09T09:00:33.332Z"
   },
   {
    "duration": 7,
    "start_time": "2023-01-09T09:00:50.914Z"
   },
   {
    "duration": 45,
    "start_time": "2023-01-09T09:01:48.723Z"
   },
   {
    "duration": 4,
    "start_time": "2023-01-09T09:02:54.856Z"
   },
   {
    "duration": 6,
    "start_time": "2023-01-09T09:02:56.250Z"
   },
   {
    "duration": 33,
    "start_time": "2023-01-09T09:02:57.613Z"
   },
   {
    "duration": 35,
    "start_time": "2023-01-09T09:03:08.772Z"
   },
   {
    "duration": 66,
    "start_time": "2023-01-09T09:09:42.080Z"
   },
   {
    "duration": 42,
    "start_time": "2023-01-09T09:14:45.079Z"
   },
   {
    "duration": 67,
    "start_time": "2023-01-09T09:30:55.234Z"
   },
   {
    "duration": 839,
    "start_time": "2023-01-09T09:38:01.768Z"
   },
   {
    "duration": 1180,
    "start_time": "2023-01-09T09:38:36.924Z"
   },
   {
    "duration": 210,
    "start_time": "2023-01-09T09:38:38.106Z"
   },
   {
    "duration": 22,
    "start_time": "2023-01-09T09:38:38.318Z"
   },
   {
    "duration": 95,
    "start_time": "2023-01-09T09:38:38.342Z"
   },
   {
    "duration": 157,
    "start_time": "2023-01-09T09:38:38.441Z"
   },
   {
    "duration": 16,
    "start_time": "2023-01-09T09:38:38.600Z"
   },
   {
    "duration": 19,
    "start_time": "2023-01-09T09:38:38.618Z"
   },
   {
    "duration": 9,
    "start_time": "2023-01-09T09:38:38.638Z"
   },
   {
    "duration": 46,
    "start_time": "2023-01-09T09:38:38.649Z"
   },
   {
    "duration": 8,
    "start_time": "2023-01-09T09:38:38.697Z"
   },
   {
    "duration": 82,
    "start_time": "2023-01-09T09:38:38.706Z"
   },
   {
    "duration": 15,
    "start_time": "2023-01-09T09:38:38.790Z"
   },
   {
    "duration": 4,
    "start_time": "2023-01-09T09:38:38.806Z"
   },
   {
    "duration": 33,
    "start_time": "2023-01-09T09:38:38.812Z"
   },
   {
    "duration": 4,
    "start_time": "2023-01-09T09:38:38.848Z"
   },
   {
    "duration": 15,
    "start_time": "2023-01-09T09:38:38.878Z"
   },
   {
    "duration": 18,
    "start_time": "2023-01-09T09:38:38.895Z"
   },
   {
    "duration": 525,
    "start_time": "2023-01-09T09:38:38.915Z"
   },
   {
    "duration": 36,
    "start_time": "2023-01-09T09:38:39.442Z"
   },
   {
    "duration": 182,
    "start_time": "2023-01-09T09:38:39.480Z"
   },
   {
    "duration": 4,
    "start_time": "2023-01-09T09:38:39.664Z"
   },
   {
    "duration": 15,
    "start_time": "2023-01-09T09:38:39.678Z"
   },
   {
    "duration": 61,
    "start_time": "2023-01-09T09:38:39.695Z"
   },
   {
    "duration": 9,
    "start_time": "2023-01-09T09:38:39.758Z"
   },
   {
    "duration": 79,
    "start_time": "2023-01-09T09:38:39.769Z"
   },
   {
    "duration": 24,
    "start_time": "2023-01-09T09:38:39.850Z"
   },
   {
    "duration": 912,
    "start_time": "2023-01-09T09:38:39.876Z"
   },
   {
    "duration": 0,
    "start_time": "2023-01-09T09:38:40.790Z"
   },
   {
    "duration": 0,
    "start_time": "2023-01-09T09:38:40.791Z"
   },
   {
    "duration": 0,
    "start_time": "2023-01-09T09:38:40.793Z"
   },
   {
    "duration": 0,
    "start_time": "2023-01-09T09:38:40.794Z"
   },
   {
    "duration": 0,
    "start_time": "2023-01-09T09:38:40.795Z"
   },
   {
    "duration": 0,
    "start_time": "2023-01-09T09:38:40.796Z"
   },
   {
    "duration": 0,
    "start_time": "2023-01-09T09:38:40.797Z"
   },
   {
    "duration": 0,
    "start_time": "2023-01-09T09:38:40.799Z"
   },
   {
    "duration": 0,
    "start_time": "2023-01-09T09:38:40.800Z"
   },
   {
    "duration": 0,
    "start_time": "2023-01-09T09:38:40.801Z"
   },
   {
    "duration": 0,
    "start_time": "2023-01-09T09:38:40.801Z"
   },
   {
    "duration": 0,
    "start_time": "2023-01-09T09:38:40.803Z"
   },
   {
    "duration": 0,
    "start_time": "2023-01-09T09:38:40.804Z"
   },
   {
    "duration": 0,
    "start_time": "2023-01-09T09:38:40.806Z"
   },
   {
    "duration": 0,
    "start_time": "2023-01-09T09:38:40.807Z"
   },
   {
    "duration": 0,
    "start_time": "2023-01-09T09:38:40.808Z"
   },
   {
    "duration": 0,
    "start_time": "2023-01-09T09:38:40.809Z"
   },
   {
    "duration": 0,
    "start_time": "2023-01-09T09:38:40.810Z"
   },
   {
    "duration": 0,
    "start_time": "2023-01-09T09:38:40.811Z"
   },
   {
    "duration": 0,
    "start_time": "2023-01-09T09:38:40.812Z"
   },
   {
    "duration": 0,
    "start_time": "2023-01-09T09:38:40.814Z"
   },
   {
    "duration": 0,
    "start_time": "2023-01-09T09:38:40.815Z"
   },
   {
    "duration": 57,
    "start_time": "2023-01-09T09:39:54.243Z"
   },
   {
    "duration": 57,
    "start_time": "2023-01-09T09:49:45.218Z"
   },
   {
    "duration": 61,
    "start_time": "2023-01-09T09:50:01.378Z"
   },
   {
    "duration": 8,
    "start_time": "2023-01-09T09:50:15.541Z"
   },
   {
    "duration": 20,
    "start_time": "2023-01-09T09:50:22.104Z"
   },
   {
    "duration": 126,
    "start_time": "2023-01-09T09:50:24.106Z"
   },
   {
    "duration": 125,
    "start_time": "2023-01-09T09:50:34.620Z"
   },
   {
    "duration": 288,
    "start_time": "2023-01-09T09:50:41.102Z"
   },
   {
    "duration": 76,
    "start_time": "2023-01-09T09:56:18.232Z"
   },
   {
    "duration": 104,
    "start_time": "2023-01-09T09:59:03.955Z"
   },
   {
    "duration": 58,
    "start_time": "2023-01-09T09:59:54.770Z"
   },
   {
    "duration": 77,
    "start_time": "2023-01-09T12:16:12.118Z"
   },
   {
    "duration": 40,
    "start_time": "2023-01-09T12:20:21.418Z"
   },
   {
    "duration": 1263,
    "start_time": "2023-01-09T12:20:43.179Z"
   },
   {
    "duration": 819,
    "start_time": "2023-01-09T12:20:44.444Z"
   },
   {
    "duration": 15,
    "start_time": "2023-01-09T12:20:45.265Z"
   },
   {
    "duration": 63,
    "start_time": "2023-01-09T12:20:45.282Z"
   },
   {
    "duration": 174,
    "start_time": "2023-01-09T12:20:45.346Z"
   },
   {
    "duration": 16,
    "start_time": "2023-01-09T12:20:45.521Z"
   },
   {
    "duration": 27,
    "start_time": "2023-01-09T12:20:45.539Z"
   },
   {
    "duration": 10,
    "start_time": "2023-01-09T12:20:45.568Z"
   },
   {
    "duration": 55,
    "start_time": "2023-01-09T12:20:45.581Z"
   },
   {
    "duration": 19,
    "start_time": "2023-01-09T12:20:45.640Z"
   },
   {
    "duration": 81,
    "start_time": "2023-01-09T12:20:45.661Z"
   },
   {
    "duration": 16,
    "start_time": "2023-01-09T12:20:45.745Z"
   },
   {
    "duration": 26,
    "start_time": "2023-01-09T12:20:45.763Z"
   },
   {
    "duration": 43,
    "start_time": "2023-01-09T12:20:45.791Z"
   },
   {
    "duration": 5,
    "start_time": "2023-01-09T12:20:45.838Z"
   },
   {
    "duration": 36,
    "start_time": "2023-01-09T12:20:45.845Z"
   },
   {
    "duration": 36,
    "start_time": "2023-01-09T12:20:45.884Z"
   },
   {
    "duration": 514,
    "start_time": "2023-01-09T12:20:45.922Z"
   },
   {
    "duration": 31,
    "start_time": "2023-01-09T12:20:46.438Z"
   },
   {
    "duration": 174,
    "start_time": "2023-01-09T12:20:46.471Z"
   },
   {
    "duration": 4,
    "start_time": "2023-01-09T12:20:46.647Z"
   },
   {
    "duration": 8,
    "start_time": "2023-01-09T12:20:46.652Z"
   },
   {
    "duration": 35,
    "start_time": "2023-01-09T12:20:46.661Z"
   },
   {
    "duration": 30,
    "start_time": "2023-01-09T12:20:46.698Z"
   },
   {
    "duration": 42,
    "start_time": "2023-01-09T12:20:46.729Z"
   },
   {
    "duration": 21,
    "start_time": "2023-01-09T12:20:46.772Z"
   },
   {
    "duration": 83,
    "start_time": "2023-01-09T12:20:46.795Z"
   },
   {
    "duration": 2,
    "start_time": "2023-01-09T12:20:46.881Z"
   },
   {
    "duration": 1249,
    "start_time": "2023-01-09T12:20:46.885Z"
   },
   {
    "duration": 0,
    "start_time": "2023-01-09T12:20:48.136Z"
   },
   {
    "duration": 0,
    "start_time": "2023-01-09T12:20:48.137Z"
   },
   {
    "duration": 0,
    "start_time": "2023-01-09T12:20:48.138Z"
   },
   {
    "duration": 0,
    "start_time": "2023-01-09T12:20:48.140Z"
   },
   {
    "duration": 0,
    "start_time": "2023-01-09T12:20:48.141Z"
   },
   {
    "duration": 0,
    "start_time": "2023-01-09T12:20:48.142Z"
   },
   {
    "duration": 0,
    "start_time": "2023-01-09T12:20:48.143Z"
   },
   {
    "duration": 0,
    "start_time": "2023-01-09T12:20:48.144Z"
   },
   {
    "duration": 0,
    "start_time": "2023-01-09T12:20:48.145Z"
   },
   {
    "duration": 0,
    "start_time": "2023-01-09T12:20:48.146Z"
   },
   {
    "duration": 0,
    "start_time": "2023-01-09T12:20:48.147Z"
   },
   {
    "duration": 0,
    "start_time": "2023-01-09T12:20:48.148Z"
   },
   {
    "duration": 0,
    "start_time": "2023-01-09T12:20:48.150Z"
   },
   {
    "duration": 0,
    "start_time": "2023-01-09T12:20:48.151Z"
   },
   {
    "duration": 0,
    "start_time": "2023-01-09T12:20:48.153Z"
   },
   {
    "duration": 0,
    "start_time": "2023-01-09T12:20:48.154Z"
   },
   {
    "duration": 0,
    "start_time": "2023-01-09T12:20:48.155Z"
   },
   {
    "duration": 0,
    "start_time": "2023-01-09T12:20:48.156Z"
   },
   {
    "duration": 0,
    "start_time": "2023-01-09T12:20:48.157Z"
   },
   {
    "duration": 0,
    "start_time": "2023-01-09T12:20:48.158Z"
   },
   {
    "duration": 42,
    "start_time": "2023-01-09T12:21:34.904Z"
   },
   {
    "duration": 12,
    "start_time": "2023-01-09T12:22:44.989Z"
   },
   {
    "duration": 17,
    "start_time": "2023-01-09T12:22:51.746Z"
   },
   {
    "duration": 138,
    "start_time": "2023-01-09T12:22:57.816Z"
   },
   {
    "duration": 108,
    "start_time": "2023-01-09T12:23:13.585Z"
   },
   {
    "duration": 59,
    "start_time": "2023-01-09T12:24:51.406Z"
   },
   {
    "duration": 53,
    "start_time": "2023-01-09T12:24:59.446Z"
   },
   {
    "duration": 57,
    "start_time": "2023-01-09T12:25:43.475Z"
   },
   {
    "duration": 54,
    "start_time": "2023-01-09T12:26:04.075Z"
   },
   {
    "duration": 52,
    "start_time": "2023-01-09T12:26:16.288Z"
   },
   {
    "duration": 52,
    "start_time": "2023-01-09T12:26:43.359Z"
   },
   {
    "duration": 2,
    "start_time": "2023-01-09T12:28:12.249Z"
   },
   {
    "duration": 14,
    "start_time": "2023-01-09T12:28:25.497Z"
   },
   {
    "duration": 9,
    "start_time": "2023-01-09T12:31:49.765Z"
   },
   {
    "duration": 19,
    "start_time": "2023-01-09T12:31:51.036Z"
   },
   {
    "duration": 117,
    "start_time": "2023-01-09T12:31:54.874Z"
   },
   {
    "duration": 90,
    "start_time": "2023-01-09T12:32:02.384Z"
   },
   {
    "duration": 339,
    "start_time": "2023-01-09T12:32:08.593Z"
   },
   {
    "duration": 1137,
    "start_time": "2023-01-09T12:32:17.638Z"
   },
   {
    "duration": 5,
    "start_time": "2023-01-09T12:33:17.528Z"
   },
   {
    "duration": 4,
    "start_time": "2023-01-09T12:33:30.179Z"
   },
   {
    "duration": 4,
    "start_time": "2023-01-09T12:33:48.955Z"
   },
   {
    "duration": 4,
    "start_time": "2023-01-09T12:34:31.296Z"
   },
   {
    "duration": 7,
    "start_time": "2023-01-09T12:37:43.348Z"
   },
   {
    "duration": 2,
    "start_time": "2023-01-09T12:38:57.725Z"
   },
   {
    "duration": 7,
    "start_time": "2023-01-09T12:39:10.265Z"
   },
   {
    "duration": 235,
    "start_time": "2023-01-09T12:40:14.255Z"
   },
   {
    "duration": 72,
    "start_time": "2023-01-09T12:40:22.683Z"
   },
   {
    "duration": 3,
    "start_time": "2023-01-09T12:40:25.496Z"
   },
   {
    "duration": 9,
    "start_time": "2023-01-09T12:41:05.635Z"
   },
   {
    "duration": 6,
    "start_time": "2023-01-09T12:41:44.165Z"
   },
   {
    "duration": 6,
    "start_time": "2023-01-09T12:41:53.245Z"
   },
   {
    "duration": 74,
    "start_time": "2023-01-09T12:42:02.923Z"
   },
   {
    "duration": 6,
    "start_time": "2023-01-09T12:43:05.298Z"
   },
   {
    "duration": 11,
    "start_time": "2023-01-09T12:43:10.215Z"
   },
   {
    "duration": 0,
    "start_time": "2023-01-09T12:46:10.617Z"
   },
   {
    "duration": 7,
    "start_time": "2023-01-09T12:46:13.144Z"
   },
   {
    "duration": 84,
    "start_time": "2023-01-09T12:46:28.937Z"
   },
   {
    "duration": 5,
    "start_time": "2023-01-09T12:46:34.763Z"
   },
   {
    "duration": 8,
    "start_time": "2023-01-09T12:46:38.863Z"
   },
   {
    "duration": 10,
    "start_time": "2023-01-09T12:47:12.505Z"
   },
   {
    "duration": 7,
    "start_time": "2023-01-09T12:47:21.338Z"
   },
   {
    "duration": 319,
    "start_time": "2023-01-09T12:53:22.692Z"
   },
   {
    "duration": 267,
    "start_time": "2023-01-09T12:53:35.085Z"
   },
   {
    "duration": 314,
    "start_time": "2023-01-09T12:53:49.845Z"
   },
   {
    "duration": 307,
    "start_time": "2023-01-09T12:54:05.564Z"
   },
   {
    "duration": 7,
    "start_time": "2023-01-09T12:54:11.454Z"
   },
   {
    "duration": 7,
    "start_time": "2023-01-09T12:54:44.337Z"
   },
   {
    "duration": 72,
    "start_time": "2023-01-09T12:58:31.605Z"
   },
   {
    "duration": 72,
    "start_time": "2023-01-09T12:58:52.614Z"
   },
   {
    "duration": 7,
    "start_time": "2023-01-09T12:59:13.302Z"
   },
   {
    "duration": 45,
    "start_time": "2023-01-09T13:01:13.834Z"
   },
   {
    "duration": 190,
    "start_time": "2023-01-09T13:01:16.103Z"
   },
   {
    "duration": 34,
    "start_time": "2023-01-09T13:01:25.404Z"
   },
   {
    "duration": 78,
    "start_time": "2023-01-09T13:01:31.763Z"
   },
   {
    "duration": 240,
    "start_time": "2023-01-09T13:01:38.102Z"
   },
   {
    "duration": 11,
    "start_time": "2023-01-09T13:22:15.867Z"
   },
   {
    "duration": 127,
    "start_time": "2023-01-09T13:22:20.327Z"
   },
   {
    "duration": 117,
    "start_time": "2023-01-09T13:26:23.579Z"
   },
   {
    "duration": 60,
    "start_time": "2023-01-09T16:05:15.337Z"
   },
   {
    "duration": 1382,
    "start_time": "2023-01-09T16:05:25.895Z"
   },
   {
    "duration": 926,
    "start_time": "2023-01-09T16:05:27.279Z"
   },
   {
    "duration": 17,
    "start_time": "2023-01-09T16:05:28.207Z"
   },
   {
    "duration": 72,
    "start_time": "2023-01-09T16:05:28.226Z"
   },
   {
    "duration": 143,
    "start_time": "2023-01-09T16:05:28.301Z"
   },
   {
    "duration": 19,
    "start_time": "2023-01-09T16:05:28.445Z"
   },
   {
    "duration": 27,
    "start_time": "2023-01-09T16:05:28.466Z"
   },
   {
    "duration": 12,
    "start_time": "2023-01-09T16:05:28.495Z"
   },
   {
    "duration": 24,
    "start_time": "2023-01-09T16:05:28.508Z"
   },
   {
    "duration": 26,
    "start_time": "2023-01-09T16:05:28.533Z"
   },
   {
    "duration": 81,
    "start_time": "2023-01-09T16:05:28.560Z"
   },
   {
    "duration": 20,
    "start_time": "2023-01-09T16:05:28.643Z"
   },
   {
    "duration": 6,
    "start_time": "2023-01-09T16:05:28.665Z"
   },
   {
    "duration": 28,
    "start_time": "2023-01-09T16:05:28.674Z"
   },
   {
    "duration": 4,
    "start_time": "2023-01-09T16:05:28.704Z"
   },
   {
    "duration": 50,
    "start_time": "2023-01-09T16:05:28.709Z"
   },
   {
    "duration": 20,
    "start_time": "2023-01-09T16:05:28.761Z"
   },
   {
    "duration": 576,
    "start_time": "2023-01-09T16:05:28.783Z"
   },
   {
    "duration": 28,
    "start_time": "2023-01-09T16:05:29.361Z"
   },
   {
    "duration": 210,
    "start_time": "2023-01-09T16:05:29.391Z"
   },
   {
    "duration": 4,
    "start_time": "2023-01-09T16:05:29.603Z"
   },
   {
    "duration": 11,
    "start_time": "2023-01-09T16:05:29.609Z"
   },
   {
    "duration": 48,
    "start_time": "2023-01-09T16:05:29.621Z"
   },
   {
    "duration": 8,
    "start_time": "2023-01-09T16:05:29.671Z"
   },
   {
    "duration": 44,
    "start_time": "2023-01-09T16:05:29.682Z"
   },
   {
    "duration": 48,
    "start_time": "2023-01-09T16:05:29.727Z"
   },
   {
    "duration": 94,
    "start_time": "2023-01-09T16:05:29.777Z"
   },
   {
    "duration": 2,
    "start_time": "2023-01-09T16:05:29.873Z"
   },
   {
    "duration": 81,
    "start_time": "2023-01-09T16:05:29.877Z"
   },
   {
    "duration": 11,
    "start_time": "2023-01-09T16:05:29.961Z"
   },
   {
    "duration": 36,
    "start_time": "2023-01-09T16:05:29.974Z"
   },
   {
    "duration": 186,
    "start_time": "2023-01-09T16:05:30.012Z"
   },
   {
    "duration": 142,
    "start_time": "2023-01-09T16:05:30.200Z"
   },
   {
    "duration": 319,
    "start_time": "2023-01-09T16:05:30.343Z"
   },
   {
    "duration": 9,
    "start_time": "2023-01-09T16:05:30.664Z"
   },
   {
    "duration": 10,
    "start_time": "2023-01-09T16:05:30.675Z"
   },
   {
    "duration": 65,
    "start_time": "2023-01-09T16:05:30.687Z"
   },
   {
    "duration": 329,
    "start_time": "2023-01-09T16:05:30.755Z"
   },
   {
    "duration": 39,
    "start_time": "2023-01-09T16:05:31.086Z"
   },
   {
    "duration": 102,
    "start_time": "2023-01-09T16:05:31.127Z"
   },
   {
    "duration": 310,
    "start_time": "2023-01-09T16:05:31.234Z"
   },
   {
    "duration": 7,
    "start_time": "2023-01-09T16:05:31.550Z"
   },
   {
    "duration": 157,
    "start_time": "2023-01-09T16:05:31.559Z"
   },
   {
    "duration": 163,
    "start_time": "2023-01-09T16:05:31.718Z"
   },
   {
    "duration": 154,
    "start_time": "2023-01-09T16:05:31.883Z"
   },
   {
    "duration": 27,
    "start_time": "2023-01-09T16:05:32.039Z"
   },
   {
    "duration": 172,
    "start_time": "2023-01-09T16:05:32.068Z"
   },
   {
    "duration": 149,
    "start_time": "2023-01-09T16:05:32.251Z"
   },
   {
    "duration": 162,
    "start_time": "2023-01-09T16:05:32.402Z"
   },
   {
    "duration": 162,
    "start_time": "2023-01-09T16:05:32.566Z"
   },
   {
    "duration": 17,
    "start_time": "2023-01-09T16:07:32.808Z"
   },
   {
    "duration": 15,
    "start_time": "2023-01-09T16:07:42.557Z"
   },
   {
    "duration": 14,
    "start_time": "2023-01-09T16:08:37.413Z"
   },
   {
    "duration": 14,
    "start_time": "2023-01-09T16:08:49.703Z"
   },
   {
    "duration": 1194,
    "start_time": "2023-01-09T16:13:22.435Z"
   },
   {
    "duration": 1222,
    "start_time": "2023-01-09T16:13:37.248Z"
   },
   {
    "duration": 10,
    "start_time": "2023-01-09T16:13:56.500Z"
   },
   {
    "duration": 83,
    "start_time": "2023-01-09T16:15:52.150Z"
   },
   {
    "duration": 85,
    "start_time": "2023-01-09T16:16:05.930Z"
   },
   {
    "duration": 86,
    "start_time": "2023-01-09T16:16:20.569Z"
   },
   {
    "duration": 278,
    "start_time": "2023-01-09T16:16:23.745Z"
   },
   {
    "duration": 6,
    "start_time": "2023-01-09T16:16:36.170Z"
   },
   {
    "duration": 156,
    "start_time": "2023-01-09T16:16:40.561Z"
   },
   {
    "duration": 132,
    "start_time": "2023-01-09T16:17:07.383Z"
   },
   {
    "duration": 137,
    "start_time": "2023-01-09T16:17:16.493Z"
   },
   {
    "duration": 17,
    "start_time": "2023-01-09T16:17:23.333Z"
   },
   {
    "duration": 898,
    "start_time": "2023-01-09T16:18:14.692Z"
   },
   {
    "duration": 22,
    "start_time": "2023-01-09T16:18:36.730Z"
   },
   {
    "duration": 2,
    "start_time": "2023-01-09T16:18:56.799Z"
   },
   {
    "duration": 3,
    "start_time": "2023-01-09T16:20:28.763Z"
   },
   {
    "duration": 11,
    "start_time": "2023-01-09T16:23:05.854Z"
   },
   {
    "duration": 9,
    "start_time": "2023-01-09T16:23:14.198Z"
   },
   {
    "duration": 32,
    "start_time": "2023-01-09T16:23:59.135Z"
   },
   {
    "duration": 21,
    "start_time": "2023-01-09T16:26:34.975Z"
   },
   {
    "duration": 19,
    "start_time": "2023-01-09T16:26:57.122Z"
   },
   {
    "duration": 21,
    "start_time": "2023-01-09T16:30:26.761Z"
   },
   {
    "duration": 14,
    "start_time": "2023-01-09T16:30:43.913Z"
   },
   {
    "duration": 14,
    "start_time": "2023-01-09T16:31:13.750Z"
   },
   {
    "duration": 13,
    "start_time": "2023-01-09T16:31:36.434Z"
   },
   {
    "duration": 14,
    "start_time": "2023-01-09T16:31:41.714Z"
   },
   {
    "duration": 15,
    "start_time": "2023-01-09T16:36:01.166Z"
   },
   {
    "duration": 13,
    "start_time": "2023-01-09T16:36:34.573Z"
   },
   {
    "duration": 17,
    "start_time": "2023-01-09T16:37:57.281Z"
   },
   {
    "duration": 16,
    "start_time": "2023-01-09T16:38:14.870Z"
   },
   {
    "duration": 14,
    "start_time": "2023-01-09T16:38:37.421Z"
   },
   {
    "duration": 18,
    "start_time": "2023-01-09T16:44:50.526Z"
   },
   {
    "duration": 14,
    "start_time": "2023-01-09T16:45:05.331Z"
   },
   {
    "duration": 1194,
    "start_time": "2023-01-10T09:02:16.809Z"
   },
   {
    "duration": 304,
    "start_time": "2023-01-10T09:02:18.006Z"
   },
   {
    "duration": 15,
    "start_time": "2023-01-10T09:02:18.311Z"
   },
   {
    "duration": 62,
    "start_time": "2023-01-10T09:02:18.327Z"
   },
   {
    "duration": 131,
    "start_time": "2023-01-10T09:02:18.399Z"
   },
   {
    "duration": 14,
    "start_time": "2023-01-10T09:02:18.532Z"
   },
   {
    "duration": 18,
    "start_time": "2023-01-10T09:02:18.547Z"
   },
   {
    "duration": 34,
    "start_time": "2023-01-10T09:02:18.567Z"
   },
   {
    "duration": 22,
    "start_time": "2023-01-10T09:02:18.602Z"
   },
   {
    "duration": 11,
    "start_time": "2023-01-10T09:02:18.625Z"
   },
   {
    "duration": 102,
    "start_time": "2023-01-10T09:02:18.638Z"
   },
   {
    "duration": 13,
    "start_time": "2023-01-10T09:02:18.742Z"
   },
   {
    "duration": 7,
    "start_time": "2023-01-10T09:02:18.756Z"
   },
   {
    "duration": 42,
    "start_time": "2023-01-10T09:02:18.765Z"
   },
   {
    "duration": 5,
    "start_time": "2023-01-10T09:02:18.809Z"
   },
   {
    "duration": 34,
    "start_time": "2023-01-10T09:02:18.815Z"
   },
   {
    "duration": 29,
    "start_time": "2023-01-10T09:02:18.851Z"
   },
   {
    "duration": 540,
    "start_time": "2023-01-10T09:02:18.881Z"
   },
   {
    "duration": 28,
    "start_time": "2023-01-10T09:02:19.422Z"
   },
   {
    "duration": 183,
    "start_time": "2023-01-10T09:02:19.451Z"
   },
   {
    "duration": 4,
    "start_time": "2023-01-10T09:02:19.635Z"
   },
   {
    "duration": 18,
    "start_time": "2023-01-10T09:02:19.640Z"
   },
   {
    "duration": 33,
    "start_time": "2023-01-10T09:02:19.659Z"
   },
   {
    "duration": 6,
    "start_time": "2023-01-10T09:02:19.697Z"
   },
   {
    "duration": 58,
    "start_time": "2023-01-10T09:02:19.704Z"
   },
   {
    "duration": 21,
    "start_time": "2023-01-10T09:02:19.763Z"
   },
   {
    "duration": 77,
    "start_time": "2023-01-10T09:02:19.785Z"
   },
   {
    "duration": 2,
    "start_time": "2023-01-10T09:02:19.864Z"
   },
   {
    "duration": 74,
    "start_time": "2023-01-10T09:02:19.867Z"
   },
   {
    "duration": 8,
    "start_time": "2023-01-10T09:02:19.943Z"
   },
   {
    "duration": 24,
    "start_time": "2023-01-10T09:02:19.953Z"
   },
   {
    "duration": 136,
    "start_time": "2023-01-10T09:02:19.979Z"
   },
   {
    "duration": 125,
    "start_time": "2023-01-10T09:02:20.117Z"
   },
   {
    "duration": 255,
    "start_time": "2023-01-10T09:02:20.244Z"
   },
   {
    "duration": 7,
    "start_time": "2023-01-10T09:02:20.501Z"
   },
   {
    "duration": 14,
    "start_time": "2023-01-10T09:02:20.509Z"
   },
   {
    "duration": 50,
    "start_time": "2023-01-10T09:02:20.524Z"
   },
   {
    "duration": 286,
    "start_time": "2023-01-10T09:02:20.575Z"
   },
   {
    "duration": 44,
    "start_time": "2023-01-10T09:02:20.863Z"
   },
   {
    "duration": 75,
    "start_time": "2023-01-10T09:02:20.908Z"
   },
   {
    "duration": 268,
    "start_time": "2023-01-10T09:02:20.997Z"
   },
   {
    "duration": 5,
    "start_time": "2023-01-10T09:02:21.267Z"
   },
   {
    "duration": 133,
    "start_time": "2023-01-10T09:02:21.274Z"
   },
   {
    "duration": 143,
    "start_time": "2023-01-10T09:02:21.409Z"
   },
   {
    "duration": 144,
    "start_time": "2023-01-10T09:02:21.553Z"
   },
   {
    "duration": 15,
    "start_time": "2023-01-10T09:02:21.699Z"
   },
   {
    "duration": 7,
    "start_time": "2023-01-10T09:02:21.715Z"
   },
   {
    "duration": 133,
    "start_time": "2023-01-10T09:02:21.724Z"
   },
   {
    "duration": 0,
    "start_time": "2023-01-10T09:02:21.859Z"
   },
   {
    "duration": 0,
    "start_time": "2023-01-10T09:02:21.860Z"
   },
   {
    "duration": 0,
    "start_time": "2023-01-10T09:02:21.861Z"
   },
   {
    "duration": 2,
    "start_time": "2023-01-10T09:02:48.204Z"
   },
   {
    "duration": 26,
    "start_time": "2023-01-10T09:13:45.304Z"
   },
   {
    "duration": 15,
    "start_time": "2023-01-10T09:13:57.572Z"
   },
   {
    "duration": 17,
    "start_time": "2023-01-10T09:14:10.552Z"
   },
   {
    "duration": 57,
    "start_time": "2023-01-10T19:27:22.116Z"
   },
   {
    "duration": 1448,
    "start_time": "2023-01-10T19:27:29.097Z"
   },
   {
    "duration": 371,
    "start_time": "2023-01-10T19:27:30.550Z"
   },
   {
    "duration": 23,
    "start_time": "2023-01-10T19:27:30.923Z"
   },
   {
    "duration": 157,
    "start_time": "2023-01-10T19:27:30.948Z"
   },
   {
    "duration": 147,
    "start_time": "2023-01-10T19:27:31.107Z"
   },
   {
    "duration": 35,
    "start_time": "2023-01-10T19:27:31.256Z"
   },
   {
    "duration": 39,
    "start_time": "2023-01-10T19:27:31.293Z"
   },
   {
    "duration": 29,
    "start_time": "2023-01-10T19:27:31.333Z"
   },
   {
    "duration": 54,
    "start_time": "2023-01-10T19:27:31.364Z"
   },
   {
    "duration": 32,
    "start_time": "2023-01-10T19:27:31.421Z"
   },
   {
    "duration": 103,
    "start_time": "2023-01-10T19:27:31.455Z"
   },
   {
    "duration": 33,
    "start_time": "2023-01-10T19:27:31.560Z"
   },
   {
    "duration": 30,
    "start_time": "2023-01-10T19:27:31.596Z"
   },
   {
    "duration": 45,
    "start_time": "2023-01-10T19:27:31.628Z"
   },
   {
    "duration": 17,
    "start_time": "2023-01-10T19:27:31.674Z"
   },
   {
    "duration": 22,
    "start_time": "2023-01-10T19:27:31.693Z"
   },
   {
    "duration": 38,
    "start_time": "2023-01-10T19:27:31.716Z"
   },
   {
    "duration": 543,
    "start_time": "2023-01-10T19:27:31.755Z"
   },
   {
    "duration": 31,
    "start_time": "2023-01-10T19:27:32.300Z"
   },
   {
    "duration": 214,
    "start_time": "2023-01-10T19:27:32.333Z"
   },
   {
    "duration": 4,
    "start_time": "2023-01-10T19:27:32.549Z"
   },
   {
    "duration": 40,
    "start_time": "2023-01-10T19:27:32.555Z"
   },
   {
    "duration": 34,
    "start_time": "2023-01-10T19:27:32.596Z"
   },
   {
    "duration": 7,
    "start_time": "2023-01-10T19:27:32.632Z"
   },
   {
    "duration": 64,
    "start_time": "2023-01-10T19:27:32.641Z"
   },
   {
    "duration": 22,
    "start_time": "2023-01-10T19:27:32.707Z"
   },
   {
    "duration": 88,
    "start_time": "2023-01-10T19:27:32.731Z"
   },
   {
    "duration": 2,
    "start_time": "2023-01-10T19:27:32.824Z"
   },
   {
    "duration": 72,
    "start_time": "2023-01-10T19:27:32.828Z"
   },
   {
    "duration": 9,
    "start_time": "2023-01-10T19:27:32.902Z"
   },
   {
    "duration": 33,
    "start_time": "2023-01-10T19:27:32.913Z"
   },
   {
    "duration": 145,
    "start_time": "2023-01-10T19:27:32.948Z"
   },
   {
    "duration": 128,
    "start_time": "2023-01-10T19:27:33.095Z"
   },
   {
    "duration": 315,
    "start_time": "2023-01-10T19:27:33.225Z"
   },
   {
    "duration": 8,
    "start_time": "2023-01-10T19:27:33.541Z"
   },
   {
    "duration": 19,
    "start_time": "2023-01-10T19:27:33.551Z"
   },
   {
    "duration": 82,
    "start_time": "2023-01-10T19:27:33.572Z"
   },
   {
    "duration": 313,
    "start_time": "2023-01-10T19:27:33.656Z"
   },
   {
    "duration": 47,
    "start_time": "2023-01-10T19:27:33.971Z"
   },
   {
    "duration": 90,
    "start_time": "2023-01-10T19:27:34.020Z"
   },
   {
    "duration": 303,
    "start_time": "2023-01-10T19:27:34.112Z"
   },
   {
    "duration": 6,
    "start_time": "2023-01-10T19:27:34.417Z"
   },
   {
    "duration": 171,
    "start_time": "2023-01-10T19:27:34.424Z"
   },
   {
    "duration": 150,
    "start_time": "2023-01-10T19:27:34.597Z"
   },
   {
    "duration": 167,
    "start_time": "2023-01-10T19:27:34.749Z"
   },
   {
    "duration": 17,
    "start_time": "2023-01-10T19:27:34.918Z"
   },
   {
    "duration": 21,
    "start_time": "2023-01-10T19:27:34.937Z"
   },
   {
    "duration": 32,
    "start_time": "2023-01-10T19:27:34.959Z"
   },
   {
    "duration": 137,
    "start_time": "2023-01-10T19:27:34.993Z"
   },
   {
    "duration": 0,
    "start_time": "2023-01-10T19:27:35.132Z"
   },
   {
    "duration": 0,
    "start_time": "2023-01-10T19:27:35.133Z"
   },
   {
    "duration": 0,
    "start_time": "2023-01-10T19:27:35.134Z"
   },
   {
    "duration": 10,
    "start_time": "2023-01-10T19:28:47.123Z"
   },
   {
    "duration": 12,
    "start_time": "2023-01-10T19:28:59.268Z"
   },
   {
    "duration": 11,
    "start_time": "2023-01-10T19:29:35.954Z"
   },
   {
    "duration": 18,
    "start_time": "2023-01-10T19:30:52.644Z"
   },
   {
    "duration": 14,
    "start_time": "2023-01-10T19:30:53.765Z"
   },
   {
    "duration": 161,
    "start_time": "2023-01-10T19:31:15.605Z"
   },
   {
    "duration": 169,
    "start_time": "2023-01-10T19:32:01.974Z"
   },
   {
    "duration": 147,
    "start_time": "2023-01-10T19:32:04.998Z"
   },
   {
    "duration": 152,
    "start_time": "2023-01-10T19:32:12.544Z"
   },
   {
    "duration": 13,
    "start_time": "2023-01-10T19:44:35.354Z"
   },
   {
    "duration": 15,
    "start_time": "2023-01-10T19:50:07.865Z"
   },
   {
    "duration": 12,
    "start_time": "2023-01-10T19:51:03.807Z"
   },
   {
    "duration": 1418,
    "start_time": "2023-01-10T19:52:43.608Z"
   },
   {
    "duration": 1301,
    "start_time": "2023-01-10T19:52:54.708Z"
   },
   {
    "duration": 1394,
    "start_time": "2023-01-10T19:53:36.318Z"
   },
   {
    "duration": 12,
    "start_time": "2023-01-10T19:54:06.059Z"
   },
   {
    "duration": 1204,
    "start_time": "2023-01-10T19:56:44.173Z"
   },
   {
    "duration": 221,
    "start_time": "2023-01-10T19:56:45.379Z"
   },
   {
    "duration": 16,
    "start_time": "2023-01-10T19:56:45.602Z"
   },
   {
    "duration": 88,
    "start_time": "2023-01-10T19:56:45.621Z"
   },
   {
    "duration": 158,
    "start_time": "2023-01-10T19:56:45.710Z"
   },
   {
    "duration": 32,
    "start_time": "2023-01-10T19:56:45.870Z"
   },
   {
    "duration": 32,
    "start_time": "2023-01-10T19:56:45.905Z"
   },
   {
    "duration": 10,
    "start_time": "2023-01-10T19:56:45.940Z"
   },
   {
    "duration": 35,
    "start_time": "2023-01-10T19:56:45.952Z"
   },
   {
    "duration": 9,
    "start_time": "2023-01-10T19:56:45.993Z"
   },
   {
    "duration": 90,
    "start_time": "2023-01-10T19:56:46.003Z"
   },
   {
    "duration": 23,
    "start_time": "2023-01-10T19:56:46.097Z"
   },
   {
    "duration": 4,
    "start_time": "2023-01-10T19:56:46.122Z"
   },
   {
    "duration": 35,
    "start_time": "2023-01-10T19:56:46.128Z"
   },
   {
    "duration": 12,
    "start_time": "2023-01-10T19:56:46.176Z"
   },
   {
    "duration": 1332,
    "start_time": "2023-01-10T19:56:46.193Z"
   },
   {
    "duration": 13,
    "start_time": "2023-01-10T19:56:47.527Z"
   },
   {
    "duration": 17,
    "start_time": "2023-01-10T19:56:47.542Z"
   },
   {
    "duration": 21,
    "start_time": "2023-01-10T19:56:47.587Z"
   },
   {
    "duration": 567,
    "start_time": "2023-01-10T19:56:47.609Z"
   },
   {
    "duration": 32,
    "start_time": "2023-01-10T19:56:48.181Z"
   },
   {
    "duration": 227,
    "start_time": "2023-01-10T19:56:48.215Z"
   },
   {
    "duration": 4,
    "start_time": "2023-01-10T19:56:48.444Z"
   },
   {
    "duration": 18,
    "start_time": "2023-01-10T19:56:48.450Z"
   },
   {
    "duration": 74,
    "start_time": "2023-01-10T19:56:48.477Z"
   },
   {
    "duration": 8,
    "start_time": "2023-01-10T19:56:48.553Z"
   },
   {
    "duration": 63,
    "start_time": "2023-01-10T19:56:48.564Z"
   },
   {
    "duration": 24,
    "start_time": "2023-01-10T19:56:48.631Z"
   },
   {
    "duration": 138,
    "start_time": "2023-01-10T19:56:48.658Z"
   },
   {
    "duration": 6,
    "start_time": "2023-01-10T19:56:48.800Z"
   },
   {
    "duration": 82,
    "start_time": "2023-01-10T19:56:48.808Z"
   },
   {
    "duration": 10,
    "start_time": "2023-01-10T19:56:48.895Z"
   },
   {
    "duration": 27,
    "start_time": "2023-01-10T19:56:48.907Z"
   },
   {
    "duration": 153,
    "start_time": "2023-01-10T19:56:48.936Z"
   },
   {
    "duration": 240,
    "start_time": "2023-01-10T19:56:49.091Z"
   },
   {
    "duration": 407,
    "start_time": "2023-01-10T19:56:49.333Z"
   },
   {
    "duration": 9,
    "start_time": "2023-01-10T19:56:49.742Z"
   },
   {
    "duration": 18,
    "start_time": "2023-01-10T19:56:49.753Z"
   },
   {
    "duration": 87,
    "start_time": "2023-01-10T19:56:49.772Z"
   },
   {
    "duration": 252,
    "start_time": "2023-01-10T19:56:49.861Z"
   },
   {
    "duration": 74,
    "start_time": "2023-01-10T19:56:50.116Z"
   },
   {
    "duration": 127,
    "start_time": "2023-01-10T19:56:50.197Z"
   },
   {
    "duration": 334,
    "start_time": "2023-01-10T19:56:50.326Z"
   },
   {
    "duration": 258,
    "start_time": "2023-01-10T19:56:50.662Z"
   },
   {
    "duration": 200,
    "start_time": "2023-01-10T19:56:50.922Z"
   },
   {
    "duration": 172,
    "start_time": "2023-01-10T19:56:51.124Z"
   },
   {
    "duration": 161,
    "start_time": "2023-01-10T19:56:51.298Z"
   },
   {
    "duration": 34,
    "start_time": "2023-01-10T19:56:51.461Z"
   },
   {
    "duration": 11,
    "start_time": "2023-01-10T19:56:51.497Z"
   },
   {
    "duration": 184,
    "start_time": "2023-01-10T19:56:51.510Z"
   },
   {
    "duration": 181,
    "start_time": "2023-01-10T19:56:51.698Z"
   },
   {
    "duration": 161,
    "start_time": "2023-01-10T19:56:51.883Z"
   },
   {
    "duration": 190,
    "start_time": "2023-01-10T19:56:52.045Z"
   },
   {
    "duration": 23,
    "start_time": "2023-01-10T19:57:31.077Z"
   },
   {
    "duration": 221,
    "start_time": "2023-01-10T19:57:43.770Z"
   },
   {
    "duration": 8,
    "start_time": "2023-01-10T19:58:09.040Z"
   },
   {
    "duration": 1982,
    "start_time": "2023-01-11T03:17:56.872Z"
   },
   {
    "duration": 482,
    "start_time": "2023-01-11T03:17:58.856Z"
   },
   {
    "duration": 14,
    "start_time": "2023-01-11T03:17:59.340Z"
   },
   {
    "duration": 191,
    "start_time": "2023-01-11T03:17:59.355Z"
   },
   {
    "duration": 277,
    "start_time": "2023-01-11T03:17:59.549Z"
   },
   {
    "duration": 23,
    "start_time": "2023-01-11T03:17:59.828Z"
   },
   {
    "duration": 88,
    "start_time": "2023-01-11T03:17:59.854Z"
   },
   {
    "duration": 8,
    "start_time": "2023-01-11T03:17:59.944Z"
   },
   {
    "duration": 78,
    "start_time": "2023-01-11T03:17:59.954Z"
   },
   {
    "duration": 8,
    "start_time": "2023-01-11T03:18:00.035Z"
   },
   {
    "duration": 185,
    "start_time": "2023-01-11T03:18:00.045Z"
   },
   {
    "duration": 9,
    "start_time": "2023-01-11T03:18:00.231Z"
   },
   {
    "duration": 10,
    "start_time": "2023-01-11T03:18:00.242Z"
   },
   {
    "duration": 91,
    "start_time": "2023-01-11T03:18:00.254Z"
   },
   {
    "duration": 4,
    "start_time": "2023-01-11T03:18:00.347Z"
   },
   {
    "duration": 2570,
    "start_time": "2023-01-11T03:18:00.352Z"
   },
   {
    "duration": 11,
    "start_time": "2023-01-11T03:18:02.924Z"
   },
   {
    "duration": 80,
    "start_time": "2023-01-11T03:18:02.937Z"
   },
   {
    "duration": 18,
    "start_time": "2023-01-11T03:18:03.019Z"
   },
   {
    "duration": 921,
    "start_time": "2023-01-11T03:18:03.039Z"
   },
   {
    "duration": 29,
    "start_time": "2023-01-11T03:18:04.015Z"
   },
   {
    "duration": 386,
    "start_time": "2023-01-11T03:18:04.046Z"
   },
   {
    "duration": 3,
    "start_time": "2023-01-11T03:18:04.434Z"
   },
   {
    "duration": 21,
    "start_time": "2023-01-11T03:18:04.438Z"
   },
   {
    "duration": 37,
    "start_time": "2023-01-11T03:18:04.515Z"
   },
   {
    "duration": 66,
    "start_time": "2023-01-11T03:18:04.554Z"
   },
   {
    "duration": 101,
    "start_time": "2023-01-11T03:18:04.622Z"
   },
   {
    "duration": 24,
    "start_time": "2023-01-11T03:18:04.727Z"
   },
   {
    "duration": 181,
    "start_time": "2023-01-11T03:18:04.753Z"
   },
   {
    "duration": 2,
    "start_time": "2023-01-11T03:18:04.936Z"
   },
   {
    "duration": 183,
    "start_time": "2023-01-11T03:18:04.940Z"
   },
   {
    "duration": 10,
    "start_time": "2023-01-11T03:18:05.125Z"
   },
   {
    "duration": 80,
    "start_time": "2023-01-11T03:18:05.136Z"
   },
   {
    "duration": 238,
    "start_time": "2023-01-11T03:18:05.218Z"
   },
   {
    "duration": 274,
    "start_time": "2023-01-11T03:18:05.457Z"
   },
   {
    "duration": 620,
    "start_time": "2023-01-11T03:18:05.732Z"
   },
   {
    "duration": 63,
    "start_time": "2023-01-11T03:18:06.354Z"
   },
   {
    "duration": 11,
    "start_time": "2023-01-11T03:18:06.420Z"
   },
   {
    "duration": 107,
    "start_time": "2023-01-11T03:18:06.433Z"
   },
   {
    "duration": 412,
    "start_time": "2023-01-11T03:18:06.542Z"
   },
   {
    "duration": 90,
    "start_time": "2023-01-11T03:18:06.956Z"
   },
   {
    "duration": 185,
    "start_time": "2023-01-11T03:18:07.047Z"
   },
   {
    "duration": 521,
    "start_time": "2023-01-11T03:18:07.235Z"
   },
   {
    "duration": 358,
    "start_time": "2023-01-11T03:18:07.758Z"
   },
   {
    "duration": 326,
    "start_time": "2023-01-11T03:18:08.118Z"
   },
   {
    "duration": 287,
    "start_time": "2023-01-11T03:18:08.446Z"
   },
   {
    "duration": 281,
    "start_time": "2023-01-11T03:18:08.735Z"
   },
   {
    "duration": 17,
    "start_time": "2023-01-11T03:18:09.018Z"
   },
   {
    "duration": 10,
    "start_time": "2023-01-11T03:18:09.036Z"
   },
   {
    "duration": 291,
    "start_time": "2023-01-11T03:18:09.048Z"
   },
   {
    "duration": 302,
    "start_time": "2023-01-11T03:18:09.342Z"
   },
   {
    "duration": 286,
    "start_time": "2023-01-11T03:18:09.646Z"
   },
   {
    "duration": 291,
    "start_time": "2023-01-11T03:18:09.934Z"
   },
   {
    "duration": 44,
    "start_time": "2023-01-11T15:19:16.244Z"
   },
   {
    "duration": 1233,
    "start_time": "2023-01-11T15:19:27.074Z"
   },
   {
    "duration": 296,
    "start_time": "2023-01-11T15:19:28.310Z"
   },
   {
    "duration": 14,
    "start_time": "2023-01-11T15:19:28.607Z"
   },
   {
    "duration": 67,
    "start_time": "2023-01-11T15:19:28.623Z"
   },
   {
    "duration": 133,
    "start_time": "2023-01-11T15:19:28.691Z"
   },
   {
    "duration": 14,
    "start_time": "2023-01-11T15:19:28.826Z"
   },
   {
    "duration": 44,
    "start_time": "2023-01-11T15:19:28.841Z"
   },
   {
    "duration": 8,
    "start_time": "2023-01-11T15:19:28.886Z"
   },
   {
    "duration": 31,
    "start_time": "2023-01-11T15:19:28.896Z"
   },
   {
    "duration": 7,
    "start_time": "2023-01-11T15:19:28.930Z"
   },
   {
    "duration": 76,
    "start_time": "2023-01-11T15:19:28.939Z"
   },
   {
    "duration": 8,
    "start_time": "2023-01-11T15:19:29.017Z"
   },
   {
    "duration": 9,
    "start_time": "2023-01-11T15:19:29.026Z"
   },
   {
    "duration": 30,
    "start_time": "2023-01-11T15:19:29.036Z"
   },
   {
    "duration": 9,
    "start_time": "2023-01-11T15:19:29.068Z"
   },
   {
    "duration": 1161,
    "start_time": "2023-01-11T15:19:29.078Z"
   },
   {
    "duration": 12,
    "start_time": "2023-01-11T15:19:30.241Z"
   },
   {
    "duration": 39,
    "start_time": "2023-01-11T15:19:30.255Z"
   },
   {
    "duration": 35,
    "start_time": "2023-01-11T15:19:30.296Z"
   },
   {
    "duration": 520,
    "start_time": "2023-01-11T15:19:30.332Z"
   },
   {
    "duration": 36,
    "start_time": "2023-01-11T15:19:30.854Z"
   },
   {
    "duration": 200,
    "start_time": "2023-01-11T15:19:30.892Z"
   },
   {
    "duration": 4,
    "start_time": "2023-01-11T15:19:31.093Z"
   },
   {
    "duration": 53,
    "start_time": "2023-01-11T15:19:31.098Z"
   },
   {
    "duration": 47,
    "start_time": "2023-01-11T15:19:31.153Z"
   },
   {
    "duration": 15,
    "start_time": "2023-01-11T15:19:31.201Z"
   },
   {
    "duration": 49,
    "start_time": "2023-01-11T15:19:31.218Z"
   },
   {
    "duration": 23,
    "start_time": "2023-01-11T15:19:31.271Z"
   },
   {
    "duration": 86,
    "start_time": "2023-01-11T15:19:31.295Z"
   },
   {
    "duration": 2,
    "start_time": "2023-01-11T15:19:31.383Z"
   },
   {
    "duration": 54,
    "start_time": "2023-01-11T15:19:31.386Z"
   },
   {
    "duration": 8,
    "start_time": "2023-01-11T15:19:31.441Z"
   },
   {
    "duration": 75,
    "start_time": "2023-01-11T15:19:31.451Z"
   },
   {
    "duration": 173,
    "start_time": "2023-01-11T15:19:31.529Z"
   },
   {
    "duration": 141,
    "start_time": "2023-01-11T15:19:31.704Z"
   },
   {
    "duration": 288,
    "start_time": "2023-01-11T15:19:31.847Z"
   },
   {
    "duration": 7,
    "start_time": "2023-01-11T15:19:32.137Z"
   },
   {
    "duration": 37,
    "start_time": "2023-01-11T15:19:32.145Z"
   },
   {
    "duration": 126,
    "start_time": "2023-01-11T15:19:32.183Z"
   },
   {
    "duration": 236,
    "start_time": "2023-01-11T15:19:32.310Z"
   },
   {
    "duration": 45,
    "start_time": "2023-01-11T15:19:32.547Z"
   },
   {
    "duration": 223,
    "start_time": "2023-01-11T15:19:32.594Z"
   },
   {
    "duration": 295,
    "start_time": "2023-01-11T15:19:32.819Z"
   },
   {
    "duration": 7,
    "start_time": "2023-01-11T15:19:33.115Z"
   },
   {
    "duration": 9,
    "start_time": "2023-01-11T15:19:34.627Z"
   },
   {
    "duration": 46,
    "start_time": "2023-01-11T15:21:14.411Z"
   },
   {
    "duration": 14,
    "start_time": "2023-01-11T15:21:17.715Z"
   },
   {
    "duration": 63,
    "start_time": "2023-01-11T15:27:25.521Z"
   },
   {
    "duration": 3,
    "start_time": "2023-01-11T15:27:35.160Z"
   },
   {
    "duration": 263,
    "start_time": "2023-01-11T15:27:35.165Z"
   },
   {
    "duration": 13,
    "start_time": "2023-01-11T15:27:35.431Z"
   },
   {
    "duration": 85,
    "start_time": "2023-01-11T15:27:35.446Z"
   },
   {
    "duration": 135,
    "start_time": "2023-01-11T15:27:35.534Z"
   },
   {
    "duration": 14,
    "start_time": "2023-01-11T15:27:35.676Z"
   },
   {
    "duration": 28,
    "start_time": "2023-01-11T15:27:35.691Z"
   },
   {
    "duration": 7,
    "start_time": "2023-01-11T15:27:35.721Z"
   },
   {
    "duration": 19,
    "start_time": "2023-01-11T15:27:35.730Z"
   },
   {
    "duration": 9,
    "start_time": "2023-01-11T15:27:35.750Z"
   },
   {
    "duration": 63,
    "start_time": "2023-01-11T15:27:35.777Z"
   },
   {
    "duration": 15,
    "start_time": "2023-01-11T15:27:35.842Z"
   },
   {
    "duration": 17,
    "start_time": "2023-01-11T15:27:35.859Z"
   },
   {
    "duration": 23,
    "start_time": "2023-01-11T15:27:35.877Z"
   },
   {
    "duration": 4,
    "start_time": "2023-01-11T15:27:35.902Z"
   },
   {
    "duration": 1198,
    "start_time": "2023-01-11T15:27:35.907Z"
   },
   {
    "duration": 12,
    "start_time": "2023-01-11T15:27:37.107Z"
   },
   {
    "duration": 17,
    "start_time": "2023-01-11T15:27:37.121Z"
   },
   {
    "duration": 37,
    "start_time": "2023-01-11T15:27:37.140Z"
   },
   {
    "duration": 550,
    "start_time": "2023-01-11T15:27:37.179Z"
   },
   {
    "duration": 22,
    "start_time": "2023-01-11T15:27:37.731Z"
   },
   {
    "duration": 192,
    "start_time": "2023-01-11T15:27:37.755Z"
   },
   {
    "duration": 4,
    "start_time": "2023-01-11T15:27:37.948Z"
   },
   {
    "duration": 22,
    "start_time": "2023-01-11T15:27:37.953Z"
   },
   {
    "duration": 37,
    "start_time": "2023-01-11T15:27:37.976Z"
   },
   {
    "duration": 6,
    "start_time": "2023-01-11T15:27:38.014Z"
   },
   {
    "duration": 39,
    "start_time": "2023-01-11T15:27:38.022Z"
   },
   {
    "duration": 32,
    "start_time": "2023-01-11T15:27:38.062Z"
   },
   {
    "duration": 83,
    "start_time": "2023-01-11T15:27:38.097Z"
   },
   {
    "duration": 3,
    "start_time": "2023-01-11T15:27:38.181Z"
   },
   {
    "duration": 58,
    "start_time": "2023-01-11T15:27:38.185Z"
   },
   {
    "duration": 8,
    "start_time": "2023-01-11T15:27:38.245Z"
   },
   {
    "duration": 18,
    "start_time": "2023-01-11T15:27:38.254Z"
   },
   {
    "duration": 118,
    "start_time": "2023-01-11T15:27:38.273Z"
   },
   {
    "duration": 141,
    "start_time": "2023-01-11T15:27:38.392Z"
   },
   {
    "duration": 280,
    "start_time": "2023-01-11T15:27:38.535Z"
   },
   {
    "duration": 7,
    "start_time": "2023-01-11T15:27:38.816Z"
   },
   {
    "duration": 5,
    "start_time": "2023-01-11T15:27:38.825Z"
   },
   {
    "duration": 62,
    "start_time": "2023-01-11T15:27:38.831Z"
   },
   {
    "duration": 198,
    "start_time": "2023-01-11T15:27:38.895Z"
   },
   {
    "duration": 35,
    "start_time": "2023-01-11T15:27:39.094Z"
   },
   {
    "duration": 89,
    "start_time": "2023-01-11T15:27:39.130Z"
   },
   {
    "duration": 263,
    "start_time": "2023-01-11T15:27:39.220Z"
   },
   {
    "duration": 7,
    "start_time": "2023-01-11T15:27:39.484Z"
   },
   {
    "duration": 138,
    "start_time": "2023-01-11T15:27:39.492Z"
   },
   {
    "duration": 153,
    "start_time": "2023-01-11T15:27:39.632Z"
   },
   {
    "duration": 124,
    "start_time": "2023-01-11T15:27:39.787Z"
   },
   {
    "duration": 16,
    "start_time": "2023-01-11T15:27:39.912Z"
   },
   {
    "duration": 8,
    "start_time": "2023-01-11T15:27:39.929Z"
   },
   {
    "duration": 9,
    "start_time": "2023-01-11T15:27:39.939Z"
   },
   {
    "duration": 242,
    "start_time": "2023-01-11T15:27:39.950Z"
   },
   {
    "duration": 194,
    "start_time": "2023-01-11T15:27:40.194Z"
   },
   {
    "duration": 206,
    "start_time": "2023-01-11T15:27:40.389Z"
   },
   {
    "duration": 142,
    "start_time": "2023-01-11T15:27:40.597Z"
   },
   {
    "duration": 7,
    "start_time": "2023-01-11T15:28:16.054Z"
   },
   {
    "duration": 17,
    "start_time": "2023-01-11T15:28:23.758Z"
   },
   {
    "duration": 54,
    "start_time": "2023-01-12T05:02:08.120Z"
   },
   {
    "duration": 1311,
    "start_time": "2023-01-12T05:02:15.403Z"
   },
   {
    "duration": 305,
    "start_time": "2023-01-12T05:02:16.716Z"
   },
   {
    "duration": 12,
    "start_time": "2023-01-12T05:02:17.023Z"
   },
   {
    "duration": 64,
    "start_time": "2023-01-12T05:02:17.037Z"
   },
   {
    "duration": 132,
    "start_time": "2023-01-12T05:02:17.103Z"
   },
   {
    "duration": 15,
    "start_time": "2023-01-12T05:02:17.236Z"
   },
   {
    "duration": 22,
    "start_time": "2023-01-12T05:02:17.252Z"
   },
   {
    "duration": 12,
    "start_time": "2023-01-12T05:02:17.276Z"
   },
   {
    "duration": 38,
    "start_time": "2023-01-12T05:02:17.290Z"
   },
   {
    "duration": 9,
    "start_time": "2023-01-12T05:02:17.332Z"
   },
   {
    "duration": 79,
    "start_time": "2023-01-12T05:02:17.343Z"
   },
   {
    "duration": 10,
    "start_time": "2023-01-12T05:02:17.424Z"
   },
   {
    "duration": 13,
    "start_time": "2023-01-12T05:02:17.435Z"
   },
   {
    "duration": 30,
    "start_time": "2023-01-12T05:02:17.450Z"
   },
   {
    "duration": 3,
    "start_time": "2023-01-12T05:02:17.482Z"
   },
   {
    "duration": 1207,
    "start_time": "2023-01-12T05:02:17.487Z"
   },
   {
    "duration": 11,
    "start_time": "2023-01-12T05:02:18.696Z"
   },
   {
    "duration": 28,
    "start_time": "2023-01-12T05:02:18.709Z"
   },
   {
    "duration": 30,
    "start_time": "2023-01-12T05:02:18.738Z"
   },
   {
    "duration": 504,
    "start_time": "2023-01-12T05:02:18.769Z"
   },
   {
    "duration": 24,
    "start_time": "2023-01-12T05:02:19.275Z"
   },
   {
    "duration": 188,
    "start_time": "2023-01-12T05:02:19.301Z"
   },
   {
    "duration": 4,
    "start_time": "2023-01-12T05:02:19.491Z"
   },
   {
    "duration": 7,
    "start_time": "2023-01-12T05:02:19.497Z"
   },
   {
    "duration": 50,
    "start_time": "2023-01-12T05:02:19.506Z"
   },
   {
    "duration": 7,
    "start_time": "2023-01-12T05:02:19.558Z"
   },
   {
    "duration": 37,
    "start_time": "2023-01-12T05:02:19.566Z"
   },
   {
    "duration": 22,
    "start_time": "2023-01-12T05:02:19.620Z"
   },
   {
    "duration": 70,
    "start_time": "2023-01-12T05:02:19.644Z"
   },
   {
    "duration": 2,
    "start_time": "2023-01-12T05:02:19.722Z"
   },
   {
    "duration": 46,
    "start_time": "2023-01-12T05:02:19.725Z"
   },
   {
    "duration": 8,
    "start_time": "2023-01-12T05:02:19.773Z"
   },
   {
    "duration": 18,
    "start_time": "2023-01-12T05:02:19.782Z"
   },
   {
    "duration": 137,
    "start_time": "2023-01-12T05:02:19.827Z"
   },
   {
    "duration": 120,
    "start_time": "2023-01-12T05:02:19.966Z"
   },
   {
    "duration": 279,
    "start_time": "2023-01-12T05:02:20.087Z"
   },
   {
    "duration": 8,
    "start_time": "2023-01-12T05:02:20.368Z"
   },
   {
    "duration": 13,
    "start_time": "2023-01-12T05:02:20.377Z"
   },
   {
    "duration": 57,
    "start_time": "2023-01-12T05:02:20.391Z"
   },
   {
    "duration": 209,
    "start_time": "2023-01-12T05:02:20.450Z"
   },
   {
    "duration": 35,
    "start_time": "2023-01-12T05:02:20.661Z"
   },
   {
    "duration": 97,
    "start_time": "2023-01-12T05:02:20.697Z"
   },
   {
    "duration": 269,
    "start_time": "2023-01-12T05:02:20.795Z"
   },
   {
    "duration": 133,
    "start_time": "2023-01-12T05:02:21.066Z"
   },
   {
    "duration": 137,
    "start_time": "2023-01-12T05:02:21.201Z"
   },
   {
    "duration": 159,
    "start_time": "2023-01-12T05:02:21.340Z"
   },
   {
    "duration": 147,
    "start_time": "2023-01-12T05:02:21.501Z"
   },
   {
    "duration": 18,
    "start_time": "2023-01-12T05:02:21.650Z"
   },
   {
    "duration": 10,
    "start_time": "2023-01-12T05:02:21.670Z"
   },
   {
    "duration": 164,
    "start_time": "2023-01-12T05:02:21.681Z"
   },
   {
    "duration": 132,
    "start_time": "2023-01-12T05:02:21.846Z"
   },
   {
    "duration": 123,
    "start_time": "2023-01-12T05:02:21.980Z"
   },
   {
    "duration": 154,
    "start_time": "2023-01-12T05:02:22.104Z"
   },
   {
    "duration": 16,
    "start_time": "2023-01-12T05:02:47.363Z"
   },
   {
    "duration": 8,
    "start_time": "2023-01-12T05:03:01.253Z"
   },
   {
    "duration": 105,
    "start_time": "2023-01-12T05:10:21.596Z"
   },
   {
    "duration": 52,
    "start_time": "2023-01-12T05:28:58.130Z"
   },
   {
    "duration": 60,
    "start_time": "2023-01-12T05:34:54.630Z"
   }
  ],
  "kernelspec": {
   "display_name": "Python 3 (ipykernel)",
   "language": "python",
   "name": "python3"
  },
  "language_info": {
   "codemirror_mode": {
    "name": "ipython",
    "version": 3
   },
   "file_extension": ".py",
   "mimetype": "text/x-python",
   "name": "python",
   "nbconvert_exporter": "python",
   "pygments_lexer": "ipython3",
   "version": "3.9.5"
  },
  "toc": {
   "base_numbering": 1,
   "nav_menu": {},
   "number_sections": true,
   "sideBar": true,
   "skip_h1_title": true,
   "title_cell": "Table of Contents",
   "title_sidebar": "Contents",
   "toc_cell": false,
   "toc_position": {},
   "toc_section_display": true,
   "toc_window_display": true
  }
 },
 "nbformat": 4,
 "nbformat_minor": 2
}
